{
 "cells": [
  {
   "cell_type": "markdown",
   "metadata": {},
   "source": [
    "# PYTHON CODES"
   ]
  },
  {
   "cell_type": "markdown",
   "metadata": {},
   "source": [
    "## Chapter - 2   Variables, Expressions, Statements"
   ]
  },
  {
   "cell_type": "code",
   "execution_count": null,
   "metadata": {},
   "outputs": [],
   "source": [
    "# A variable is a name that refers to a value.\n",
    "\n",
    "message = 'And now for something completely different - thesis'\n",
    "n = 17\n",
    "pi = 3.1415926535897931\n",
    "print(message)\n",
    "print(n)\n",
    "print(pi)"
   ]
  },
  {
   "cell_type": "code",
   "execution_count": null,
   "metadata": {},
   "outputs": [],
   "source": [
    "# The type of a variable is the type of the value it refers to.\n",
    "type(message)"
   ]
  },
  {
   "cell_type": "code",
   "execution_count": null,
   "metadata": {},
   "outputs": [],
   "source": [
    "type(n)"
   ]
  },
  {
   "cell_type": "code",
   "execution_count": null,
   "metadata": {},
   "outputs": [],
   "source": [
    "type(pi)"
   ]
  },
  {
   "cell_type": "markdown",
   "metadata": {},
   "source": [
    "### Variable names"
   ]
  },
  {
   "cell_type": "code",
   "execution_count": null,
   "metadata": {},
   "outputs": [],
   "source": [
    "# Variable names can be arbitrarily long. They can contain both letters and numbers,but they cannot start with a number. \n",
    "# The underscore character ( _ ) can appear in a name. Variable should not have special characters other than _\n",
    "# It is illegal to start a variable name with a number\n",
    "# Keywords cannot be used as variable names"
   ]
  },
  {
   "cell_type": "code",
   "execution_count": null,
   "metadata": {},
   "outputs": [],
   "source": [
    "76sravani = 6018 # Do not start variable name with number"
   ]
  },
  {
   "cell_type": "code",
   "execution_count": null,
   "metadata": {},
   "outputs": [],
   "source": [
    "more@ = 'something' # no special characters except _"
   ]
  },
  {
   "cell_type": "code",
   "execution_count": null,
   "metadata": {},
   "outputs": [],
   "source": [
    "class =10 # No keywords for variable names"
   ]
  },
  {
   "cell_type": "markdown",
   "metadata": {},
   "source": [
    "### Keywords in Python"
   ]
  },
  {
   "cell_type": "code",
   "execution_count": null,
   "metadata": {},
   "outputs": [],
   "source": [
    "# and  del  from  None  True  as  elif  global  nonlocal  try  assert  else  if  not  while  break  except  import  or  with\n",
    "# class  False  in  pass  yield  continue  finally  is  raise  async  def  for  lambda  return  await"
   ]
  },
  {
   "cell_type": "markdown",
   "metadata": {},
   "source": [
    "### Statements"
   ]
  },
  {
   "cell_type": "code",
   "execution_count": null,
   "metadata": {},
   "outputs": [],
   "source": [
    "# A statement is a unit of code that the Python interpreter can execute.\n",
    "# We have seen two kinds of statements: An expression statement and assignment statement.\n",
    "print(1)\n",
    "x = 2       # Assignment statement doesn't print output.\n",
    "print(x)    # Expression statement print output."
   ]
  },
  {
   "cell_type": "markdown",
   "metadata": {},
   "source": [
    "### Operators and Operands"
   ]
  },
  {
   "cell_type": "code",
   "execution_count": null,
   "metadata": {},
   "outputs": [],
   "source": [
    "# Operators are special symbols that represent computations like addition and multiplication. \n",
    "# The values the operator is applied to are called operands.\n",
    "# Operators +, -, *, /, **, //, % perform addition, subtraction, multiplication, division, power, integer division, modulus."
   ]
  },
  {
   "cell_type": "code",
   "execution_count": null,
   "metadata": {},
   "outputs": [],
   "source": [
    "20+32  #addition"
   ]
  },
  {
   "cell_type": "code",
   "execution_count": null,
   "metadata": {},
   "outputs": [],
   "source": [
    "hour = 5\n",
    "minute = 59\n",
    "hour-1      # subtraction"
   ]
  },
  {
   "cell_type": "code",
   "execution_count": null,
   "metadata": {},
   "outputs": [],
   "source": [
    "hour*60   # multiplication"
   ]
  },
  {
   "cell_type": "code",
   "execution_count": null,
   "metadata": {},
   "outputs": [],
   "source": [
    "minute/60  # division"
   ]
  },
  {
   "cell_type": "code",
   "execution_count": null,
   "metadata": {},
   "outputs": [],
   "source": [
    "5**2    # ** is exponentiation"
   ]
  },
  {
   "cell_type": "code",
   "execution_count": null,
   "metadata": {},
   "outputs": [],
   "source": [
    "minute//60   # integer division"
   ]
  },
  {
   "cell_type": "code",
   "execution_count": null,
   "metadata": {},
   "outputs": [],
   "source": [
    "remainder = 7 % 3  # Modulus\n",
    "print(remainder)"
   ]
  },
  {
   "cell_type": "markdown",
   "metadata": {},
   "source": [
    "### Order of operations"
   ]
  },
  {
   "cell_type": "code",
   "execution_count": null,
   "metadata": {},
   "outputs": [],
   "source": [
    "# When more than one operator appears in an expression, the order of evaluation depends on the rules of precedence.\n",
    "# PEMDAS  Parentheses --> Exponentiation --> (Multiplication, Division) --> (Addition, Subtraction)\n",
    "# Multiplication and Division have the same precedence. Addition and Subtraction have the same precedence.\n",
    "# Operators with the same precedence are evaluated from left to right."
   ]
  },
  {
   "cell_type": "code",
   "execution_count": null,
   "metadata": {},
   "outputs": [],
   "source": [
    "print(2 * (3-1))\n",
    "print((1+1)**(5-2))\n",
    "print((minute * 100) / 60)\n",
    "print(2**1+1)\n",
    "print(3*1**3)\n",
    "print(2*3-1)\n",
    "print(6+4/2)\n",
    "print(5-3-1)"
   ]
  },
  {
   "cell_type": "markdown",
   "metadata": {},
   "source": [
    "### String operations"
   ]
  },
  {
   "cell_type": "code",
   "execution_count": null,
   "metadata": {},
   "outputs": [],
   "source": [
    "# + operator is concatenation in strings.\n",
    "# * operator also works with strings by multiplying the content of a string by an integer"
   ]
  },
  {
   "cell_type": "code",
   "execution_count": null,
   "metadata": {},
   "outputs": [],
   "source": [
    "first = '100'\n",
    "second = '150'\n",
    "print(first + second)"
   ]
  },
  {
   "cell_type": "code",
   "execution_count": null,
   "metadata": {},
   "outputs": [],
   "source": [
    "first = 'Test '\n",
    "second = 3\n",
    "print(first * second)"
   ]
  },
  {
   "cell_type": "markdown",
   "metadata": {},
   "source": [
    "### Input() function"
   ]
  },
  {
   "cell_type": "code",
   "execution_count": null,
   "metadata": {},
   "outputs": [],
   "source": [
    "inp = input()\n",
    "print(inp)"
   ]
  },
  {
   "cell_type": "code",
   "execution_count": null,
   "metadata": {},
   "outputs": [],
   "source": [
    "name = input('What is your name?\\n')\n",
    "print(name)"
   ]
  },
  {
   "cell_type": "code",
   "execution_count": null,
   "metadata": {},
   "outputs": [],
   "source": [
    "prompt = 'What is your current cgpa\\n'\n",
    "cgpa = input(prompt)\n",
    "float(cgpa)"
   ]
  },
  {
   "cell_type": "markdown",
   "metadata": {},
   "source": [
    "### Choosing mnemonic variable names"
   ]
  },
  {
   "cell_type": "code",
   "execution_count": null,
   "metadata": {},
   "outputs": [],
   "source": [
    "a = 35.0\n",
    "b = 12.50\n",
    "c = a * b\n",
    "print(c)"
   ]
  },
  {
   "cell_type": "code",
   "execution_count": null,
   "metadata": {},
   "outputs": [],
   "source": [
    "hours = 35.0\n",
    "rate = 12.50\n",
    "pay = hours * rate\n",
    "print(pay)"
   ]
  },
  {
   "cell_type": "code",
   "execution_count": null,
   "metadata": {},
   "outputs": [],
   "source": [
    "# Write a program to prompt the user for a Celsius temperature, convert the temperature to Fahrenheit and print the result\n",
    "cel = float(input('Enter a Celcius Temperature\\n'))\n",
    "frh = (9/5)*cel+32\n",
    "print('Farenheit reading for same temperature =', frh,'F')"
   ]
  },
  {
   "cell_type": "markdown",
   "metadata": {},
   "source": [
    "### Clear variables in jupyter Notebook"
   ]
  },
  {
   "cell_type": "code",
   "execution_count": null,
   "metadata": {},
   "outputs": [],
   "source": [
    "print(a,b,c,hours,rate, pay, cel, frh)"
   ]
  },
  {
   "cell_type": "code",
   "execution_count": null,
   "metadata": {},
   "outputs": [],
   "source": [
    "del(a,b,c,hours,rate, pay, cel, frh)   # del() function is used to delete variables"
   ]
  },
  {
   "cell_type": "code",
   "execution_count": null,
   "metadata": {},
   "outputs": [],
   "source": [
    "print(a,b,c,hours,rate, pay, cel, frh)"
   ]
  },
  {
   "cell_type": "markdown",
   "metadata": {},
   "source": [
    "## Chapter -3  Conditional Execution"
   ]
  },
  {
   "cell_type": "markdown",
   "metadata": {},
   "source": [
    "### Boolean expressions"
   ]
  },
  {
   "cell_type": "code",
   "execution_count": null,
   "metadata": {},
   "outputs": [],
   "source": [
    "5 == 5"
   ]
  },
  {
   "cell_type": "code",
   "execution_count": null,
   "metadata": {},
   "outputs": [],
   "source": [
    "5 == 6"
   ]
  },
  {
   "cell_type": "code",
   "execution_count": null,
   "metadata": {},
   "outputs": [],
   "source": [
    "type(True)"
   ]
  },
  {
   "cell_type": "code",
   "execution_count": null,
   "metadata": {},
   "outputs": [],
   "source": [
    "type(False)"
   ]
  },
  {
   "cell_type": "code",
   "execution_count": null,
   "metadata": {},
   "outputs": [],
   "source": [
    "# A boolean expression is an expression that is either true or false.\n",
    "# x == y \n",
    "# x != y \n",
    "# x > y \n",
    "# x < y\n",
    "# x >= y\n",
    "# x <= y\n",
    "# x is y\n",
    "# x is not y \n",
    "# The above all are boolean expressions. The output will be either true or false."
   ]
  },
  {
   "cell_type": "markdown",
   "metadata": {},
   "source": [
    "### Logical Operators"
   ]
  },
  {
   "cell_type": "code",
   "execution_count": null,
   "metadata": {},
   "outputs": [],
   "source": [
    "# There are three logical operators: and, or, and not."
   ]
  },
  {
   "cell_type": "code",
   "execution_count": null,
   "metadata": {},
   "outputs": [],
   "source": [
    "5 > 0 and 5 < 10"
   ]
  },
  {
   "cell_type": "code",
   "execution_count": null,
   "metadata": {},
   "outputs": [],
   "source": [
    "n=7\n",
    "n%2 == 0 or n%3 == 0"
   ]
  },
  {
   "cell_type": "code",
   "execution_count": null,
   "metadata": {},
   "outputs": [],
   "source": [
    "not (4 > 5)"
   ]
  },
  {
   "cell_type": "code",
   "execution_count": null,
   "metadata": {},
   "outputs": [],
   "source": [
    "7 and True  # any non zero number is considered true"
   ]
  },
  {
   "cell_type": "code",
   "execution_count": null,
   "metadata": {},
   "outputs": [],
   "source": [
    "0 and True  # 0 is considered false"
   ]
  },
  {
   "cell_type": "markdown",
   "metadata": {},
   "source": [
    "### Conditional Execution"
   ]
  },
  {
   "cell_type": "code",
   "execution_count": null,
   "metadata": {},
   "outputs": [],
   "source": [
    "# Conditional statements are used to take decisions in statements of code. \n",
    "x = 3\n",
    "if x < 10:\n",
    "    print('Small')"
   ]
  },
  {
   "cell_type": "code",
   "execution_count": null,
   "metadata": {},
   "outputs": [],
   "source": [
    "# Alternative execution\n",
    "if x%2 == 0 :\n",
    "    print('x is even')\n",
    "else :\n",
    "    print('x is odd')"
   ]
  },
  {
   "cell_type": "code",
   "execution_count": null,
   "metadata": {},
   "outputs": [],
   "source": [
    "# Chained Conditionals\n",
    "# There is no limit on the number of elif statements. \n",
    "# If there is an else clause, it has to be at the end, but there doesn’t have to be one.\n",
    "\n",
    "x = 4; y = 8\n",
    "if x < y:\n",
    "    print('x is less than y')\n",
    "elif x > y:\n",
    "    print('x is greater than y')\n",
    "else:\n",
    "    print('x and y are equal')"
   ]
  },
  {
   "cell_type": "code",
   "execution_count": null,
   "metadata": {},
   "outputs": [],
   "source": [
    "# Nested Conditionals\n",
    "if 0 < x:\n",
    "    if x < 10:\n",
    "        print('x is a positive single-digit number.')"
   ]
  },
  {
   "cell_type": "code",
   "execution_count": null,
   "metadata": {},
   "outputs": [],
   "source": [
    "if x == y:\n",
    "    print('x and y are equal')\n",
    "else:\n",
    "    if x < y:\n",
    "        print('x is less than y')\n",
    "    else:\n",
    "        print('x is greater than y')"
   ]
  },
  {
   "cell_type": "markdown",
   "metadata": {},
   "source": [
    "### Try Except"
   ]
  },
  {
   "cell_type": "code",
   "execution_count": null,
   "metadata": {},
   "outputs": [],
   "source": [
    "# Without try except if we enter a string in input function then traceback occurs\n",
    "inp = input('Enter Fahrenheit Temperature: ')\n",
    "fahr = float(inp)\n",
    "cel = (fahr - 32.0) * 5.0 / 9.0\n",
    "print(cel)"
   ]
  },
  {
   "cell_type": "code",
   "execution_count": null,
   "metadata": {},
   "outputs": [],
   "source": [
    "inp = input('Enter Fahrenheit Temperature:')\n",
    "try:\n",
    "    fahr = float(inp)\n",
    "    cel = (fahr - 32.0) * 5.0 / 9.0\n",
    "    print(cel)\n",
    "except:\n",
    "    print('Please enter a number')"
   ]
  },
  {
   "cell_type": "markdown",
   "metadata": {},
   "source": [
    "### Short Circuit Evaluation"
   ]
  },
  {
   "cell_type": "code",
   "execution_count": null,
   "metadata": {},
   "outputs": [],
   "source": [
    "# x/y is not executed because of short circuit\n",
    "x = 1\n",
    "y = 0\n",
    "x >= 2 and (x/y) > 2"
   ]
  },
  {
   "cell_type": "code",
   "execution_count": null,
   "metadata": {},
   "outputs": [],
   "source": [
    "x = 6\n",
    "y = 0\n",
    "x >= 2 and (x/y) > 2"
   ]
  },
  {
   "cell_type": "markdown",
   "metadata": {},
   "source": [
    "### Excercise"
   ]
  },
  {
   "cell_type": "code",
   "execution_count": null,
   "metadata": {},
   "outputs": [],
   "source": [
    "# Rewrite your pay computation to give the employee 1.5 times the hourly rate for hours worked above 40 hours.\n",
    "hrs = int(input(\"Enter no of hrs:\"))\n",
    "rate = float(input(\"Enter rate: \"))\n",
    "if hrs <= 40:\n",
    "    Pay = hrs*rate    \n",
    "else:\n",
    "    Pay = (hrs-40)*1.5*rate + 40*rate\n",
    "print(\"Pay = \", Pay)"
   ]
  },
  {
   "cell_type": "code",
   "execution_count": null,
   "metadata": {},
   "outputs": [],
   "source": [
    "# Rewrite your pay program using try and except\n",
    "try:\n",
    "    hrs = int(input(\"Enter no of hrs:\"))\n",
    "    rate = float(input(\"Enter rate: \"))\n",
    "    if hrs <= 40:\n",
    "        Pay = hrs*rate    \n",
    "    else:\n",
    "        Pay = (hrs-40)*1.5*rate + 40*rate\n",
    "    print(\"Pay = \", Pay)\n",
    "    \n",
    "except:\n",
    "    print(\"Please enter numeric input\")"
   ]
  },
  {
   "cell_type": "code",
   "execution_count": null,
   "metadata": {},
   "outputs": [],
   "source": [
    "# Write a program to prompt for a score between 0.0 and 1.0. If the score is out of range, print an error message. \n",
    "#If the score is between 0.0 and 1.0, print a grade\n",
    "score = input(\"Enter Score: \")\n",
    "try:\n",
    "    sc = float(score)\n",
    "    if (sc>1.0)or(sc<0.0):\n",
    "        print(\"Out of range\")\n",
    "    elif sc >= 0.9:\n",
    "        print(\"A\")\n",
    "    elif sc >= 0.8:\n",
    "        print(\"B\")\n",
    "    elif sc >= 0.7:\n",
    "        print(\"C\")\n",
    "    elif sc >= 0.6:\n",
    "        print(\"D\")\n",
    "    else:\n",
    "        print(\"F\")\n",
    "except:\n",
    "    print(\"Bad score\")"
   ]
  },
  {
   "cell_type": "markdown",
   "metadata": {},
   "source": [
    "## Chapter - 4 Functions"
   ]
  },
  {
   "cell_type": "markdown",
   "metadata": {},
   "source": [
    "### Built-in functions"
   ]
  },
  {
   "cell_type": "code",
   "execution_count": null,
   "metadata": {},
   "outputs": [],
   "source": [
    "# Builtin functions are those which we can use without needing to provide the function definition\n",
    "max('Hello world')"
   ]
  },
  {
   "cell_type": "code",
   "execution_count": null,
   "metadata": {},
   "outputs": [],
   "source": [
    "min('Hello world')"
   ]
  },
  {
   "cell_type": "code",
   "execution_count": null,
   "metadata": {},
   "outputs": [],
   "source": [
    "len('Hello world')"
   ]
  },
  {
   "cell_type": "markdown",
   "metadata": {},
   "source": [
    "### Type conversion functions"
   ]
  },
  {
   "cell_type": "code",
   "execution_count": null,
   "metadata": {},
   "outputs": [],
   "source": [
    "int('32')"
   ]
  },
  {
   "cell_type": "code",
   "execution_count": null,
   "metadata": {},
   "outputs": [],
   "source": [
    " int(3.99999)"
   ]
  },
  {
   "cell_type": "code",
   "execution_count": null,
   "metadata": {},
   "outputs": [],
   "source": [
    "float(32)"
   ]
  },
  {
   "cell_type": "code",
   "execution_count": null,
   "metadata": {},
   "outputs": [],
   "source": [
    "float('3.14159')"
   ]
  },
  {
   "cell_type": "code",
   "execution_count": null,
   "metadata": {},
   "outputs": [],
   "source": [
    "str(32)"
   ]
  },
  {
   "cell_type": "code",
   "execution_count": null,
   "metadata": {},
   "outputs": [],
   "source": [
    "str(3.14159)"
   ]
  },
  {
   "cell_type": "markdown",
   "metadata": {},
   "source": [
    "###  Math functions"
   ]
  },
  {
   "cell_type": "code",
   "execution_count": null,
   "metadata": {},
   "outputs": [],
   "source": [
    "import math  # math module provides most of the familiar mathematical functions"
   ]
  },
  {
   "cell_type": "code",
   "execution_count": null,
   "metadata": {},
   "outputs": [],
   "source": [
    "print(math)"
   ]
  },
  {
   "cell_type": "code",
   "execution_count": null,
   "metadata": {},
   "outputs": [],
   "source": [
    "ratio = 1000/512\n",
    "decibels = 10 * math.log10(ratio)\n",
    "print(decibels)"
   ]
  },
  {
   "cell_type": "code",
   "execution_count": null,
   "metadata": {},
   "outputs": [],
   "source": [
    "radians = 0.7\n",
    "height = math.sin(radians)\n",
    "print(height)\n",
    "print(math.sqrt(height))"
   ]
  },
  {
   "cell_type": "code",
   "execution_count": null,
   "metadata": {},
   "outputs": [],
   "source": [
    "degrees = 45\n",
    "radians = degrees / 360.0 * 2 * math.pi\n",
    "math.sin(radians)"
   ]
  },
  {
   "cell_type": "markdown",
   "metadata": {},
   "source": [
    "### Random Functions"
   ]
  },
  {
   "cell_type": "code",
   "execution_count": null,
   "metadata": {},
   "outputs": [],
   "source": [
    "import random"
   ]
  },
  {
   "cell_type": "code",
   "execution_count": null,
   "metadata": {},
   "outputs": [],
   "source": [
    "for i in range(10):\n",
    "    x = random.random()\n",
    "    print(x)"
   ]
  },
  {
   "cell_type": "code",
   "execution_count": null,
   "metadata": {},
   "outputs": [],
   "source": [
    "random.randint(5, 10)"
   ]
  },
  {
   "cell_type": "code",
   "execution_count": null,
   "metadata": {},
   "outputs": [],
   "source": [
    "t = [1, 2, 3]\n",
    "random.choice(t)"
   ]
  },
  {
   "cell_type": "markdown",
   "metadata": {},
   "source": [
    "### User defined Functions"
   ]
  },
  {
   "cell_type": "code",
   "execution_count": null,
   "metadata": {},
   "outputs": [],
   "source": [
    "def print_lyrics():\n",
    "    print(\"I'm a student, and I'm doing my thesis.\")\n",
    "    print('I sleep all night and I work all day.')"
   ]
  },
  {
   "cell_type": "code",
   "execution_count": null,
   "metadata": {},
   "outputs": [],
   "source": [
    "def repeat_lyrics():\n",
    "    print_lyrics()\n",
    "    print_lyrics()"
   ]
  },
  {
   "cell_type": "code",
   "execution_count": null,
   "metadata": {},
   "outputs": [],
   "source": [
    "repeat_lyrics()"
   ]
  },
  {
   "cell_type": "markdown",
   "metadata": {},
   "source": [
    "### Flow of execution"
   ]
  },
  {
   "cell_type": "code",
   "execution_count": null,
   "metadata": {},
   "outputs": [],
   "source": [
    "def repeat_ly():\n",
    "    print_ly()\n",
    "    print_ly()\n",
    "    \n",
    "repeat_ly()   # It gives traceback due to incorrect flow of execution\n",
    "\n",
    "def print_ly():\n",
    "    print(\"I'm a student, and I'm doing my thesis.\")\n",
    "    print('I sleep all night and I work all day.')"
   ]
  },
  {
   "cell_type": "code",
   "execution_count": null,
   "metadata": {},
   "outputs": [],
   "source": [
    "# Function that takes argument. Arguments are assigned to variables called parameters.\n",
    "def print_twice(bruce):\n",
    "    print(bruce)\n",
    "    print(bruce)\n",
    "    \n",
    "# The function assigns the argument to a parameter named bruce\n",
    "print_twice('Spam')  \n",
    "print_twice(17)\n",
    "import math\n",
    "print_twice(math.pi)\n",
    "\n",
    "#  we can use any kind of expression as an argument\n",
    "print_twice('Spam '*4)\n",
    "print_twice(math.cos(math.pi))"
   ]
  },
  {
   "cell_type": "markdown",
   "metadata": {},
   "source": [
    "### Fruitful functions and void functions"
   ]
  },
  {
   "cell_type": "code",
   "execution_count": null,
   "metadata": {},
   "outputs": [],
   "source": [
    "# fruitful functions --> yield results(returns a value)\n",
    "# void functions --> Doesn't return value"
   ]
  },
  {
   "cell_type": "code",
   "execution_count": null,
   "metadata": {},
   "outputs": [],
   "source": [
    "def addtwo(a, b):     # Fruitful Function\n",
    "    added = a + b\n",
    "    return added\n",
    "x = addtwo(3, 5)\n",
    "print(x)"
   ]
  },
  {
   "cell_type": "code",
   "execution_count": null,
   "metadata": {},
   "outputs": [],
   "source": [
    "def print_twice(bruce):     # Void Function\n",
    "    print(bruce)\n",
    "    print(bruce)\n",
    "x = print_twice(\"Sravani\")\n",
    "print(x)   # prints None since no return type"
   ]
  },
  {
   "cell_type": "markdown",
   "metadata": {},
   "source": [
    "### Exercise"
   ]
  },
  {
   "cell_type": "code",
   "execution_count": null,
   "metadata": {},
   "outputs": [],
   "source": [
    "# Rewrite your pay computation with time-and-a-half for overtime and create a function called computepay \n",
    "# which takes two parameters (hours and rate).\n",
    "def pay(hrs, rate):\n",
    "    if hrs <= 40:\n",
    "        pay = hrs*rate\n",
    "    else :\n",
    "        pay = 40*rate + (hrs-40)*rate*1.5\n",
    "    return pay\n",
    "hrs = int(input(\"Enter hours \"))\n",
    "rate = float(input(\"enter rate \"))\n",
    "print(\"Pay: \", pay(hrs,rate))"
   ]
  },
  {
   "cell_type": "code",
   "execution_count": null,
   "metadata": {},
   "outputs": [],
   "source": [
    "# Rewrite the grade program using a function called computegrade that takes a score as its parameter.\n",
    "def grade(sc):\n",
    "    if sc >= 0.9:\n",
    "        print(\"A\")\n",
    "    elif sc>= 0.8:\n",
    "        print(\"B\")\n",
    "    elif sc>= 0.7:\n",
    "        print(\"C\")\n",
    "    elif sc>= 0.6:\n",
    "        print(\"D\")\n",
    "    else:\n",
    "        print(\"F\")\n",
    "try:    \n",
    "    sc = float(input(\"Enter Score: \"))\n",
    "    grade(sc)\n",
    "except:\n",
    "    print(\"Bad score\")"
   ]
  },
  {
   "cell_type": "markdown",
   "metadata": {},
   "source": [
    "## Chapter - 5  Iterations"
   ]
  },
  {
   "cell_type": "markdown",
   "metadata": {},
   "source": [
    "### While Statement  --> Indefinite Loop"
   ]
  },
  {
   "cell_type": "code",
   "execution_count": null,
   "metadata": {},
   "outputs": [],
   "source": [
    "n = 5        # While is indefinite loop\n",
    "while n > 0:   # n is iteration variable. Value changes for every iteration. Loops until condition is false\n",
    "    print(n)\n",
    "    n = n - 1\n",
    "print('Blastoff!')"
   ]
  },
  {
   "cell_type": "code",
   "execution_count": null,
   "metadata": {},
   "outputs": [],
   "source": [
    "# Infinite loops\n",
    "n = 10\n",
    "while True:\n",
    "    print(n, end=' ')\n",
    "    n = n - 1\n",
    "print('Done!')"
   ]
  },
  {
   "cell_type": "code",
   "execution_count": null,
   "metadata": {},
   "outputs": [],
   "source": [
    "# Break statement used to exit from loop. \n",
    "while True:\n",
    "    line = input('> ')\n",
    "    if line == 'done':\n",
    "        break\n",
    "    print(line)\n",
    "print('Done!')"
   ]
  },
  {
   "cell_type": "code",
   "execution_count": null,
   "metadata": {},
   "outputs": [],
   "source": [
    "# Continue Statement - used to skip an iteration\n",
    "while True:\n",
    "    line = input('> ')\n",
    "    if line[0] == '#':\n",
    "        continue\n",
    "    if line == 'done':\n",
    "        break\n",
    "    print(line)\n",
    "print('Done!')"
   ]
  },
  {
   "cell_type": "markdown",
   "metadata": {},
   "source": [
    "### For Statement  -->  Definite Loop"
   ]
  },
  {
   "cell_type": "code",
   "execution_count": null,
   "metadata": {},
   "outputs": [],
   "source": [
    "friends = ['Sravani', 'K. Mitra', 'Sowmitri']\n",
    "for friend in friends:\n",
    "    print('Happy New Year:', friend)\n",
    "print('Done!')"
   ]
  },
  {
   "cell_type": "code",
   "execution_count": null,
   "metadata": {},
   "outputs": [],
   "source": [
    "# Count and sum in a list\n",
    "count = 0\n",
    "for itervar in [3, 41, 12, 9, 74, 15]:\n",
    "    count += 1\n",
    "print('Count: ', count)\n",
    "\n",
    "total = 0\n",
    "for itervar in [3, 41, 12, 9, 74, 15]:\n",
    "    total = total + itervar\n",
    "print('Total: ', total)"
   ]
  },
  {
   "cell_type": "code",
   "execution_count": null,
   "metadata": {},
   "outputs": [],
   "source": [
    "# Max and Min in a list\n",
    "largest = None\n",
    "print('Before:', largest)\n",
    "for itervar in [3, 41, 12, 9, 74, 15]:\n",
    "    if largest is None or itervar > largest :\n",
    "        largest = itervar\n",
    "        print('Loop:', itervar, largest)\n",
    "print('Largest:', largest)\n",
    "\n",
    "print(\"-------------------------\")\n",
    "\n",
    "smallest = None\n",
    "print('Before:', smallest)\n",
    "for itervar in [3, 41, 12, 9, 74, 15]:\n",
    "    if smallest is None or itervar < smallest:\n",
    "        smallest = itervar\n",
    "        print('Loop:', itervar, smallest)\n",
    "print('Smallest:', smallest)"
   ]
  },
  {
   "cell_type": "markdown",
   "metadata": {},
   "source": [
    "### Exercises"
   ]
  },
  {
   "cell_type": "code",
   "execution_count": null,
   "metadata": {},
   "outputs": [],
   "source": [
    "# Write a program which repeatedly reads numbers until the user enters “done”. Once “done” is entered, \n",
    "# print out the total, count, and average of the numbers. Detect the mistakes using try and except\n",
    "\n",
    "total = 0\n",
    "count = 0\n",
    "average =0\n",
    "while True:\n",
    "    num = input(\"Enter a number: \")\n",
    "    if num == \"done\":\n",
    "        break\n",
    "    try:\n",
    "        num = int(num)\n",
    "    except:\n",
    "        print(\"Invalid input\")\n",
    "        continue\n",
    "\n",
    "    count = count+1\n",
    "    total = total+num\n",
    "    \n",
    "average = total/count\n",
    "print(total, count, average)"
   ]
  },
  {
   "cell_type": "code",
   "execution_count": null,
   "metadata": {},
   "outputs": [],
   "source": [
    "# Write a program that prompts for a list of numbers and at the end prints out both the maximum and minimum of the numbers.\n",
    "\n",
    "largest = None\n",
    "smallest = None\n",
    "while True:\n",
    "    num = input(\"Enter a number: \")\n",
    "    if num == \"done\" : break\n",
    "    try:\n",
    "        num = int(num)\n",
    "    except:\n",
    "        print(\"Invalid input\")\n",
    "        continue     \n",
    "\n",
    "    if largest is None:\n",
    "        largest = num\n",
    "    elif num > largest:\n",
    "        largest = num\n",
    "    \n",
    "    if smallest is None:\n",
    "        smallest = num\n",
    "    elif num< smallest:\n",
    "        smallest = num       \n",
    "\n",
    "print(\"Maximum is\", largest)\n",
    "print(\"Minimum is\", smallest)"
   ]
  },
  {
   "cell_type": "markdown",
   "metadata": {},
   "source": [
    "## Chapter -6 Strings"
   ]
  },
  {
   "cell_type": "code",
   "execution_count": null,
   "metadata": {},
   "outputs": [],
   "source": [
    "# A string is a sequence of characters. You can access the characters one at a time with the bracket operator.\n",
    "str = \"IIT Hyderabad\"\n",
    "letter = str[1]\n",
    "print(letter)"
   ]
  },
  {
   "cell_type": "markdown",
   "metadata": {},
   "source": [
    "### Len Function"
   ]
  },
  {
   "cell_type": "code",
   "execution_count": null,
   "metadata": {},
   "outputs": [],
   "source": [
    "fruit = \"banana\"\n",
    "len(fruit)"
   ]
  },
  {
   "cell_type": "code",
   "execution_count": null,
   "metadata": {},
   "outputs": [],
   "source": [
    "length = len(fruit)\n",
    "last = fruit[length-1]  # index starts from 0 until (len -1)\n",
    "print(last)"
   ]
  },
  {
   "cell_type": "code",
   "execution_count": null,
   "metadata": {},
   "outputs": [],
   "source": [
    "# Alternatively, you can use negative indices, which count backward from the end of the string.\n",
    "fruit[-1]"
   ]
  },
  {
   "cell_type": "code",
   "execution_count": null,
   "metadata": {},
   "outputs": [],
   "source": [
    "fruit[-2]"
   ]
  },
  {
   "cell_type": "markdown",
   "metadata": {},
   "source": [
    "### String Traversal"
   ]
  },
  {
   "cell_type": "markdown",
   "metadata": {},
   "source": [
    "### Using while loop"
   ]
  },
  {
   "cell_type": "code",
   "execution_count": null,
   "metadata": {},
   "outputs": [],
   "source": [
    "index =0\n",
    "while index < len(fruit):\n",
    "    print(fruit[index])\n",
    "    index = index+1"
   ]
  },
  {
   "cell_type": "code",
   "execution_count": null,
   "metadata": {},
   "outputs": [],
   "source": [
    "# Write a while loop that starts at the last character in the string and works its way backwards to the first character \n",
    "# in the string, printing each letter on a separate line, except backwards\n",
    "index = len(fruit)-1\n",
    "while index >= 0:\n",
    "    print(fruit[index])\n",
    "    index = index -1"
   ]
  },
  {
   "cell_type": "code",
   "execution_count": null,
   "metadata": {},
   "outputs": [],
   "source": [
    "index = -1\n",
    "while index >= -1*len(fruit):\n",
    "    print(fruit[index])\n",
    "    index = index-1"
   ]
  },
  {
   "cell_type": "markdown",
   "metadata": {},
   "source": [
    "### Using For Loop"
   ]
  },
  {
   "cell_type": "code",
   "execution_count": null,
   "metadata": {},
   "outputs": [],
   "source": [
    "for char in fruit:\n",
    "    print(char)"
   ]
  },
  {
   "cell_type": "markdown",
   "metadata": {},
   "source": [
    "### String Slices"
   ]
  },
  {
   "cell_type": "code",
   "execution_count": null,
   "metadata": {},
   "outputs": [],
   "source": [
    "s = 'Monty Python'\n",
    "print(s[0:5])  # s[0] to s[4]\n",
    "print(s[6:12]) # s[6] to s[11]\n",
    "\n",
    "fruit = 'banana'\n",
    "print(fruit[:3])  # fruit[0] to fruit[2]\n",
    "print(fruit[3:])  # fruit[3] to end\n",
    "print(fruit[:])   # Whole string\n",
    "print(fruit[-4:-2])"
   ]
  },
  {
   "cell_type": "code",
   "execution_count": null,
   "metadata": {},
   "outputs": [],
   "source": [
    "# If the first index is greater than or equal to the second the result is an empty string\n",
    "print(fruit[4:3])\n",
    "print(fruit[3:3])"
   ]
  },
  {
   "cell_type": "markdown",
   "metadata": {},
   "source": [
    "### Strings are immutable"
   ]
  },
  {
   "cell_type": "code",
   "execution_count": null,
   "metadata": {},
   "outputs": [],
   "source": [
    "# Strings are immutable, which means you can’t change an existing string\n",
    "greeting = 'Hello, world!'\n",
    "greeting[0] = 'J'"
   ]
  },
  {
   "cell_type": "code",
   "execution_count": null,
   "metadata": {},
   "outputs": [],
   "source": [
    "greeting = 'Hello, world!'\n",
    "new_greeting = 'J' + greeting[1:]\n",
    "print(new_greeting)"
   ]
  },
  {
   "cell_type": "markdown",
   "metadata": {},
   "source": [
    "### Looping and counting"
   ]
  },
  {
   "cell_type": "code",
   "execution_count": null,
   "metadata": {},
   "outputs": [],
   "source": [
    "# Find number of a's in a string \n",
    "word = 'banana'\n",
    "count = 0\n",
    "for letter in word:\n",
    "    if letter == 'a':\n",
    "        count = count + 1\n",
    "print(count)"
   ]
  },
  {
   "cell_type": "code",
   "execution_count": null,
   "metadata": {},
   "outputs": [],
   "source": [
    "# Encapsulate this code in a function named count, and generalize it so that it accepts the string and the letter as arguments.\n",
    "def count(str, letter):\n",
    "    counts = 0\n",
    "    for char in str:\n",
    "        if char == letter:\n",
    "            counts = counts+1\n",
    "    print(counts)\n",
    "\n",
    "count('banana', 'n')\n",
    "count('Lakshmi Sravani','a')"
   ]
  },
  {
   "cell_type": "markdown",
   "metadata": {},
   "source": [
    "### in operator"
   ]
  },
  {
   "cell_type": "code",
   "execution_count": null,
   "metadata": {},
   "outputs": [],
   "source": [
    "# in is a boolean operator that takes two strings and returns True if the first appears as a substring in the second.\n",
    "'a' in 'Sravani'"
   ]
  },
  {
   "cell_type": "code",
   "execution_count": null,
   "metadata": {},
   "outputs": [],
   "source": [
    "'vani' in 'Sravani'"
   ]
  },
  {
   "cell_type": "code",
   "execution_count": null,
   "metadata": {},
   "outputs": [],
   "source": [
    "'ksh' in 'Sravani'"
   ]
  },
  {
   "cell_type": "markdown",
   "metadata": {},
   "source": [
    "### String Comparision"
   ]
  },
  {
   "cell_type": "code",
   "execution_count": null,
   "metadata": {},
   "outputs": [],
   "source": [
    "# ASCII values are used for string comparision.  All the uppercase letters come before all the lowercase letters.\n",
    "word = 'Pineapple'\n",
    "if word < 'banana':\n",
    "    print('Your word,' + word + ', comes before banana.')\n",
    "elif word > 'banana':\n",
    "    print('Your word,' + word + ', comes after banana.')\n",
    "else:\n",
    "    print('All right, bananas.')"
   ]
  },
  {
   "cell_type": "markdown",
   "metadata": {},
   "source": [
    "### String Methods"
   ]
  },
  {
   "cell_type": "code",
   "execution_count": null,
   "metadata": {},
   "outputs": [],
   "source": [
    "stuff = 'Hello world'\n",
    "type(stuff)"
   ]
  },
  {
   "cell_type": "code",
   "execution_count": null,
   "metadata": {},
   "outputs": [],
   "source": [
    "dir(stuff)"
   ]
  },
  {
   "cell_type": "code",
   "execution_count": null,
   "metadata": {},
   "outputs": [],
   "source": [
    "help(str. capitalize)"
   ]
  },
  {
   "cell_type": "code",
   "execution_count": null,
   "metadata": {},
   "outputs": [],
   "source": [
    "str = 'sravani'\n",
    "str.capitalize()"
   ]
  },
  {
   "cell_type": "code",
   "execution_count": null,
   "metadata": {},
   "outputs": [],
   "source": [
    "help(str.replace)"
   ]
  },
  {
   "cell_type": "code",
   "execution_count": null,
   "metadata": {},
   "outputs": [],
   "source": [
    "stuff.replace('e','p')"
   ]
  },
  {
   "cell_type": "code",
   "execution_count": null,
   "metadata": {},
   "outputs": [],
   "source": [
    "stuff.replace('l','h')"
   ]
  },
  {
   "cell_type": "code",
   "execution_count": null,
   "metadata": {},
   "outputs": [],
   "source": [
    "help(str.splitlines)"
   ]
  },
  {
   "cell_type": "code",
   "execution_count": null,
   "metadata": {},
   "outputs": [],
   "source": [
    "word = 'banana'\n",
    "word.upper()"
   ]
  },
  {
   "cell_type": "code",
   "execution_count": null,
   "metadata": {},
   "outputs": [],
   "source": [
    "word = 'banana'\n",
    "word.find('a')  # finds the index of 1st occurence of 'a'"
   ]
  },
  {
   "cell_type": "code",
   "execution_count": null,
   "metadata": {},
   "outputs": [],
   "source": [
    "word.find('na')"
   ]
  },
  {
   "cell_type": "code",
   "execution_count": null,
   "metadata": {},
   "outputs": [],
   "source": [
    "word.find('na', 3) # find the occurence of 'na' from index 3"
   ]
  },
  {
   "cell_type": "code",
   "execution_count": null,
   "metadata": {},
   "outputs": [],
   "source": [
    "line = ' Here we go '\n",
    "print(line.strip())  # Removes spaces at both ends\n",
    "print(line.rstrip())  # Removes spaces at right end\n",
    "print(line.lstrip())  # Removes spaces at left end"
   ]
  },
  {
   "cell_type": "code",
   "execution_count": null,
   "metadata": {},
   "outputs": [],
   "source": [
    "line = 'Have a nice day'\n",
    "print(line.startswith('Have'))\n",
    "print(line.startswith('h'))\n",
    "print(line.lower().startswith('h'))"
   ]
  },
  {
   "cell_type": "markdown",
   "metadata": {},
   "source": [
    "### Parsing Strings"
   ]
  },
  {
   "cell_type": "code",
   "execution_count": null,
   "metadata": {},
   "outputs": [],
   "source": [
    "# Find the domain name in the email data\n",
    "data = 'From stephen.marquard@uct.ac.za Sat Jan 5 09:14:16 2008'\n",
    "atpos = data.find('@')\n",
    "print(atpos)\n",
    "sppos = data.find(' ',atpos)\n",
    "print(sppos)\n",
    "host = data[atpos+1:sppos]\n",
    "print(host)"
   ]
  },
  {
   "cell_type": "markdown",
   "metadata": {},
   "source": [
    "### Format Operator"
   ]
  },
  {
   "cell_type": "code",
   "execution_count": null,
   "metadata": {},
   "outputs": [],
   "source": [
    "# The format operator, % allows us to construct strings, replacing parts of the strings with the data stored in variables.\n",
    "camels = 42\n",
    "'%d' % camels"
   ]
  },
  {
   "cell_type": "code",
   "execution_count": null,
   "metadata": {},
   "outputs": [],
   "source": [
    "camels = 42\n",
    "'I have spotted %d camels.' % camels"
   ]
  },
  {
   "cell_type": "code",
   "execution_count": null,
   "metadata": {},
   "outputs": [],
   "source": [
    "# %d to format an integer, %g to format a floating-point number, and %s to format a string:\n",
    "'In %d years I have spotted %g %s.' % (3, 0.1, 'camels') "
   ]
  },
  {
   "cell_type": "markdown",
   "metadata": {},
   "source": [
    "### Exercise"
   ]
  },
  {
   "cell_type": "code",
   "execution_count": null,
   "metadata": {},
   "outputs": [],
   "source": [
    "# str = 'X-DSPAM-Confidence:0.8475'. Use find and string slicing to extract the portion of the string after the colon character \n",
    "# and then use the float function to convert the extracted string into a floating point number.\n",
    "str = 'X-DSPAM-Confidence:0.8475'\n",
    "colonpos = str.find(':')\n",
    "fltnum = float(str[colonpos+1 : ])\n",
    "print(fltnum)"
   ]
  },
  {
   "cell_type": "markdown",
   "metadata": {},
   "source": [
    "## Chapter - 7 Files"
   ]
  },
  {
   "cell_type": "markdown",
   "metadata": {},
   "source": [
    "### Reading txt Files"
   ]
  },
  {
   "cell_type": "code",
   "execution_count": null,
   "metadata": {},
   "outputs": [],
   "source": [
    "# Number of lines in file\n",
    "fhand = open('mbox-short.txt')\n",
    "count = 0\n",
    "for line in fhand:\n",
    "    count = count + 1\n",
    "print('Line Count:', count)"
   ]
  },
  {
   "cell_type": "code",
   "execution_count": 76,
   "metadata": {},
   "outputs": [
    {
     "name": "stdout",
     "output_type": "stream",
     "text": [
      "94625\n",
      "From stephen.marquar\n"
     ]
    }
   ],
   "source": [
    "# Reading file\n",
    "fhand = open('mbox-short.txt')\n",
    "inp = fhand.read()\n",
    "print(len(inp))\n",
    "print(inp[:20])"
   ]
  },
  {
   "cell_type": "code",
   "execution_count": null,
   "metadata": {},
   "outputs": [],
   "source": [
    "fhand = open('mbox-short.txt')\n",
    "print(len(fhand.read()))\n",
    "print(len(fhand.read())) # Exhaused main memory resource"
   ]
  },
  {
   "cell_type": "code",
   "execution_count": null,
   "metadata": {},
   "outputs": [],
   "source": [
    "# Searching through a file. Print lines starting with 'From'\n",
    "fhand = open('mbox-short.txt')\n",
    "count = 0\n",
    "for line in fhand:\n",
    "    if line.startswith('From:'):\n",
    "        print(line)"
   ]
  },
  {
   "cell_type": "code",
   "execution_count": null,
   "metadata": {},
   "outputs": [],
   "source": [
    "# Remove new line characters from above program\n",
    "fhand = open('mbox-short.txt')\n",
    "for line in fhand:\n",
    "    line = line.rstrip()\n",
    "    if line.startswith('From:'):\n",
    "        print(line)"
   ]
  },
  {
   "cell_type": "code",
   "execution_count": null,
   "metadata": {},
   "outputs": [],
   "source": [
    "# Using continue to skip lines not starting with From\n",
    "fhand = open('mbox-short.txt')\n",
    "for line in fhand:\n",
    "    line = line.rstrip()\n",
    "    if not line.startswith('From:'):\n",
    "        continue\n",
    "    print(line)"
   ]
  },
  {
   "cell_type": "code",
   "execution_count": null,
   "metadata": {},
   "outputs": [],
   "source": [
    "fhand = open('mbox-short.txt')\n",
    "for line in fhand:\n",
    "    line = line.rstrip()\n",
    "    if line.find('@uct.ac.za') == -1: continue\n",
    "    print(line)"
   ]
  },
  {
   "cell_type": "code",
   "execution_count": null,
   "metadata": {},
   "outputs": [],
   "source": [
    "# User inputting file name\n",
    "fname = input('Enter the file name: ')  #  mbox-short.txt\n",
    "fhand = open(fname)\n",
    "count = 0\n",
    "for line in fhand:\n",
    "    if line.startswith('Subject:'):\n",
    "        count = count + 1\n",
    "print('There were', count, 'subject lines in', fname)"
   ]
  },
  {
   "cell_type": "code",
   "execution_count": null,
   "metadata": {},
   "outputs": [],
   "source": [
    "# Try Except to catch file name errors\n",
    "fname = input('Enter the file name: ')   # mbox-short.txt\n",
    "try:\n",
    "    fhand = open(fname)\n",
    "except:\n",
    "    print('File cannot be opened:', fname)\n",
    "    exit()\n",
    "count = 0\n",
    "for line in fhand:\n",
    "    if line.startswith('Subject:'):\n",
    "        count = count + 1\n",
    "print('There were', count, 'subject lines in', fname)"
   ]
  },
  {
   "cell_type": "markdown",
   "metadata": {},
   "source": [
    "### Writing into txt file"
   ]
  },
  {
   "cell_type": "code",
   "execution_count": null,
   "metadata": {},
   "outputs": [],
   "source": [
    "# Writing Files\n",
    "fout = open('output.txt', 'w')\n",
    "print(fout)"
   ]
  },
  {
   "cell_type": "code",
   "execution_count": null,
   "metadata": {},
   "outputs": [],
   "source": [
    "line1 = \"This here's the wattle,\\n\"\n",
    "fout.write(line1)"
   ]
  },
  {
   "cell_type": "code",
   "execution_count": null,
   "metadata": {},
   "outputs": [],
   "source": [
    "line2 = 'the emblem of our land.\\n'\n",
    "fout.write(line2)"
   ]
  },
  {
   "cell_type": "code",
   "execution_count": null,
   "metadata": {},
   "outputs": [],
   "source": [
    "fout.close()"
   ]
  },
  {
   "cell_type": "code",
   "execution_count": null,
   "metadata": {},
   "outputs": [],
   "source": [
    "fout = open('output.txt')\n",
    "for line in fout:\n",
    "    print(line.rstrip())"
   ]
  },
  {
   "cell_type": "markdown",
   "metadata": {},
   "source": [
    "### Exercise"
   ]
  },
  {
   "cell_type": "code",
   "execution_count": null,
   "metadata": {},
   "outputs": [],
   "source": [
    "# Write a program to read through a file and print the contents of the file (line by line) all in upper case.\n",
    "fname = input(\"Enter file name: \")\n",
    "fh = open(fname)\n",
    "for line in fh:\n",
    "    contents = line.rstrip()\n",
    "    print(contents.upper())"
   ]
  },
  {
   "cell_type": "code",
   "execution_count": null,
   "metadata": {},
   "outputs": [],
   "source": [
    "# Write a program to prompt for a file name, and then read through the file and look for lines of the form: X-DSPAM-Confidence:\n",
    "fname = input(\"Enter file name: \")\n",
    "fh = open(fname)\n",
    "count =0\n",
    "add =0\n",
    "for line in fh:\n",
    "    if not line.startswith(\"X-DSPAM-Confidence:\") : \n",
    "        continue\n",
    "    count =count+1\n",
    "    i = float(line[19:])\n",
    "    add = add+i\n",
    "print(\"Average spam confidence:\", add/count) "
   ]
  },
  {
   "cell_type": "markdown",
   "metadata": {},
   "source": [
    "## Chapter - 8 Lists"
   ]
  },
  {
   "cell_type": "code",
   "execution_count": null,
   "metadata": {},
   "outputs": [],
   "source": [
    "t = [10, 20, 30, 40]\n",
    "type(t)"
   ]
  },
  {
   "cell_type": "code",
   "execution_count": null,
   "metadata": {},
   "outputs": [],
   "source": [
    "['spam', 2.0, 5, [10, 20]]"
   ]
  },
  {
   "cell_type": "code",
   "execution_count": null,
   "metadata": {},
   "outputs": [],
   "source": [
    "cheeses = ['Cheddar', 'Edam', 'Gouda']\n",
    "numbers = [17, 123]\n",
    "empty = []\n",
    "print(cheeses, numbers, empty)"
   ]
  },
  {
   "cell_type": "code",
   "execution_count": null,
   "metadata": {},
   "outputs": [],
   "source": [
    "print(cheeses[0])"
   ]
  },
  {
   "cell_type": "code",
   "execution_count": null,
   "metadata": {},
   "outputs": [],
   "source": [
    "lst = ['spam', 1, ['Brie', 'Roquefort', 'Pol le Veq'], [1, 2, 3]]   # nested lists considered as 1 element\n",
    "len(lst)"
   ]
  },
  {
   "cell_type": "markdown",
   "metadata": {},
   "source": [
    "### Lists are Mutable"
   ]
  },
  {
   "cell_type": "code",
   "execution_count": null,
   "metadata": {},
   "outputs": [],
   "source": [
    "numbers = [17, 123]\n",
    "numbers[1] = 5\n",
    "print(numbers)"
   ]
  },
  {
   "cell_type": "code",
   "execution_count": null,
   "metadata": {},
   "outputs": [],
   "source": [
    "cheeses = ['Cheddar', 'Edam', 'Gouda']\n",
    "print(cheeses[-1])\n",
    "print(cheeses[-2])"
   ]
  },
  {
   "cell_type": "code",
   "execution_count": null,
   "metadata": {},
   "outputs": [],
   "source": [
    "'Edam' in cheeses"
   ]
  },
  {
   "cell_type": "code",
   "execution_count": null,
   "metadata": {},
   "outputs": [],
   "source": [
    "'Brie' in cheeses"
   ]
  },
  {
   "cell_type": "markdown",
   "metadata": {},
   "source": [
    "### Traversing a List"
   ]
  },
  {
   "cell_type": "code",
   "execution_count": null,
   "metadata": {},
   "outputs": [],
   "source": [
    "# To read elements of list\n",
    "cheeses = ['Cheddar', 'Edam', 'Gouda']\n",
    "for cheese in cheeses:\n",
    "    print(cheese)"
   ]
  },
  {
   "cell_type": "code",
   "execution_count": null,
   "metadata": {},
   "outputs": [],
   "source": [
    "# To write or update the value of elements in list\n",
    "numbers = [1,2,3,4,5]\n",
    "for i in range(len(numbers)):   # range(len()) is used for indices of list\n",
    "    numbers[i] = numbers[i] * 2\n",
    "print(numbers)"
   ]
  },
  {
   "cell_type": "code",
   "execution_count": null,
   "metadata": {},
   "outputs": [],
   "source": [
    "empty = []\n",
    "for x in empty:\n",
    "    print('This never happens.')  # Body never gets executed for empty list"
   ]
  },
  {
   "cell_type": "markdown",
   "metadata": {},
   "source": [
    "### List Operations"
   ]
  },
  {
   "cell_type": "code",
   "execution_count": null,
   "metadata": {},
   "outputs": [],
   "source": [
    "# + operator is for concatenation\n",
    "a = [1, 2, 3]\n",
    "b = [4, 5, 6]\n",
    "c = a + b\n",
    "print(c)"
   ]
  },
  {
   "cell_type": "code",
   "execution_count": 1,
   "metadata": {},
   "outputs": [
    {
     "name": "stdout",
     "output_type": "stream",
     "text": [
      "[0, 0, 0, 0]\n",
      "[1, 2, 3, 1, 2, 3, 1, 2, 3]\n",
      "[]\n"
     ]
    }
   ],
   "source": [
    "# * operator with a list and number repeats the list.\n",
    "print([0] * 4)\n",
    "print([1, 2, 3] * 3)\n",
    "print([1,1,1]*-2)  # * operator with negative number gives empty list"
   ]
  },
  {
   "cell_type": "markdown",
   "metadata": {},
   "source": [
    "### List Slicing"
   ]
  },
  {
   "cell_type": "code",
   "execution_count": null,
   "metadata": {},
   "outputs": [],
   "source": [
    "t = ['a', 'b', 'c', 'd', 'e', 'f']\n",
    "print(t[1:3])\n",
    "print(t[:4])\n",
    "print(t[3:])\n",
    "print(t[:])"
   ]
  },
  {
   "cell_type": "code",
   "execution_count": null,
   "metadata": {},
   "outputs": [],
   "source": [
    "t = ['a', 'b', 'c', 'd', 'e', 'f']\n",
    "t[1:3] = ['x', 'y']         # Mutating the list\n",
    "print(t)"
   ]
  },
  {
   "cell_type": "markdown",
   "metadata": {},
   "source": [
    "### List Methods"
   ]
  },
  {
   "cell_type": "code",
   "execution_count": null,
   "metadata": {},
   "outputs": [],
   "source": [
    "t =['a','b','c']\n",
    "dir(t)"
   ]
  },
  {
   "cell_type": "code",
   "execution_count": null,
   "metadata": {},
   "outputs": [],
   "source": [
    "t.append('d')\n",
    "print(t)"
   ]
  },
  {
   "cell_type": "code",
   "execution_count": null,
   "metadata": {},
   "outputs": [],
   "source": [
    "t1 = ['a', 'b', 'c']\n",
    "t2 = ['d', 'e']\n",
    "t1.extend(t2)\n",
    "print(t1)"
   ]
  },
  {
   "cell_type": "code",
   "execution_count": null,
   "metadata": {},
   "outputs": [],
   "source": [
    "t = ['d', 'c', 'e', 'b', 'a']\n",
    "t.sort()\n",
    "print(t)"
   ]
  },
  {
   "cell_type": "markdown",
   "metadata": {},
   "source": [
    "### Deleting elements in list"
   ]
  },
  {
   "cell_type": "code",
   "execution_count": 2,
   "metadata": {},
   "outputs": [
    {
     "name": "stdout",
     "output_type": "stream",
     "text": [
      "['a', 'c']\n",
      "b\n"
     ]
    }
   ],
   "source": [
    "t = ['a', 'b', 'c']\n",
    "x = t.pop(1)  # pop(index) method takes index as argument and removes the element at that index\n",
    "print(t)\n",
    "print(x)"
   ]
  },
  {
   "cell_type": "code",
   "execution_count": null,
   "metadata": {},
   "outputs": [],
   "source": [
    "t = ['a', 'b', 'c']\n",
    "del t[1]    # del keyword is used to remove one or more elements from list using index numbers\n",
    "print(t)"
   ]
  },
  {
   "cell_type": "code",
   "execution_count": null,
   "metadata": {},
   "outputs": [],
   "source": [
    "t = ['a', 'b', 'c', 'd', 'e', 'f']\n",
    "del t[1:5]  # slice operator with del used to remove more than 1 element\n",
    "print(t)"
   ]
  },
  {
   "cell_type": "code",
   "execution_count": null,
   "metadata": {},
   "outputs": [],
   "source": [
    "t = ['a', 'b', 'c', 'b']\n",
    "t.remove('b')  # remove method is used a remove a specific element from list - first occurence\n",
    "print(t)"
   ]
  },
  {
   "cell_type": "markdown",
   "metadata": {},
   "source": [
    "###  Lists and Functions"
   ]
  },
  {
   "cell_type": "code",
   "execution_count": null,
   "metadata": {},
   "outputs": [],
   "source": [
    "nums = [3, 41, 12, 9, 74, 15]\n",
    "print(len(nums))\n",
    "print(min(nums))\n",
    "print(sum(nums))\n",
    "print(sum(nums)/len(nums))"
   ]
  },
  {
   "cell_type": "code",
   "execution_count": null,
   "metadata": {},
   "outputs": [],
   "source": [
    "# finding average of user input numbers using functions in lists\n",
    "numlist = list()\n",
    "while (True):\n",
    "    inp = input('Enter a number: ')\n",
    "    if inp == 'done': \n",
    "        break\n",
    "    value = float(inp)\n",
    "    numlist.append(value)\n",
    "average = sum(numlist) / len(numlist)\n",
    "print('Average:', average)"
   ]
  },
  {
   "cell_type": "markdown",
   "metadata": {},
   "source": [
    "### Lists and Strings"
   ]
  },
  {
   "cell_type": "code",
   "execution_count": 3,
   "metadata": {},
   "outputs": [
    {
     "name": "stdout",
     "output_type": "stream",
     "text": [
      "['s', 'p', 'a', 'm']\n"
     ]
    }
   ],
   "source": [
    "s = 'spam'\n",
    "t = list(s)\n",
    "print(t)"
   ]
  },
  {
   "cell_type": "code",
   "execution_count": 4,
   "metadata": {},
   "outputs": [
    {
     "name": "stdout",
     "output_type": "stream",
     "text": [
      "['Sasi', 'BMU', 'IITHyd']\n",
      "IITHyd\n"
     ]
    }
   ],
   "source": [
    "s = 'Sasi BMU IITHyd'\n",
    "t = s.split()\n",
    "print(t)\n",
    "print(t[2])"
   ]
  },
  {
   "cell_type": "code",
   "execution_count": 5,
   "metadata": {},
   "outputs": [
    {
     "data": {
      "text/plain": [
       "['spam', 'spam', 'spam']"
      ]
     },
     "execution_count": 5,
     "metadata": {},
     "output_type": "execute_result"
    }
   ],
   "source": [
    "s = 'spam-spam-spam'\n",
    "delimiter = '-'\n",
    "s.split(delimiter)"
   ]
  },
  {
   "cell_type": "code",
   "execution_count": 8,
   "metadata": {},
   "outputs": [
    {
     "data": {
      "text/plain": [
       "'pining for the fjords'"
      ]
     },
     "execution_count": 8,
     "metadata": {},
     "output_type": "execute_result"
    }
   ],
   "source": [
    "t = ['pining', 'for', 'the', 'fjords']\n",
    "delimiter = ' '\n",
    "delimiter.join(t)"
   ]
  },
  {
   "cell_type": "markdown",
   "metadata": {},
   "source": [
    "### Parsing lines"
   ]
  },
  {
   "cell_type": "code",
   "execution_count": null,
   "metadata": {},
   "outputs": [],
   "source": [
    "fhand = open('mbox-short.txt')\n",
    "for line in fhand:\n",
    "    line = line.rstrip()\n",
    "    if not line.startswith('From '): \n",
    "        continue\n",
    "    words = line.split()  # with split function we are creating a list of words in a line.\n",
    "    print(words[2])"
   ]
  },
  {
   "cell_type": "markdown",
   "metadata": {},
   "source": [
    "### Aliasing"
   ]
  },
  {
   "cell_type": "code",
   "execution_count": 10,
   "metadata": {},
   "outputs": [
    {
     "data": {
      "text/plain": [
       "True"
      ]
     },
     "execution_count": 10,
     "metadata": {},
     "output_type": "execute_result"
    }
   ],
   "source": [
    "a = 'banana'\n",
    "b = 'banana'\n",
    "a is b   # Python only created one string object, and both a and b refer to it. hence they are identical."
   ]
  },
  {
   "cell_type": "code",
   "execution_count": 9,
   "metadata": {},
   "outputs": [
    {
     "data": {
      "text/plain": [
       "False"
      ]
     },
     "execution_count": 9,
     "metadata": {},
     "output_type": "execute_result"
    }
   ],
   "source": [
    "a = [1, 2, 3]\n",
    "b = [1, 2, 3]\n",
    "a is b  # Here we created two lists, you get two objects. \n",
    "# Here two lists are equivalent, because they have the same elements, but not identical, because they are not the same object."
   ]
  },
  {
   "cell_type": "code",
   "execution_count": 11,
   "metadata": {},
   "outputs": [
    {
     "data": {
      "text/plain": [
       "True"
      ]
     },
     "execution_count": 11,
     "metadata": {},
     "output_type": "execute_result"
    }
   ],
   "source": [
    "a = [1, 2, 3]\n",
    "b = a\n",
    "b is a  # a refers to an object and you assign b = a, then both variables refer to the same object."
   ]
  },
  {
   "cell_type": "code",
   "execution_count": 12,
   "metadata": {},
   "outputs": [
    {
     "name": "stdout",
     "output_type": "stream",
     "text": [
      "[17, 2, 3]\n"
     ]
    }
   ],
   "source": [
    "# The association of a variable with an object is called a reference.\n",
    "# An object with more than one reference has more than one name, so we say that the object is aliased.\n",
    "b[0] = 17\n",
    "print(a)"
   ]
  },
  {
   "cell_type": "code",
   "execution_count": null,
   "metadata": {},
   "outputs": [],
   "source": [
    "def delete_head(t):\n",
    "    del t[0]\n",
    "letters = ['a', 'b', 'c']\n",
    "delete_head(letters)\n",
    "print(letters)"
   ]
  },
  {
   "cell_type": "code",
   "execution_count": null,
   "metadata": {},
   "outputs": [],
   "source": [
    "fhand = open('mbox-short.txt')\n",
    "count = 0\n",
    "for line in fhand:\n",
    "    words = line.split()\n",
    "# print('Debug:', words)\n",
    "    if len(words) == 0 :      # guardian statement for empty lines\n",
    "        continue\n",
    "    if words[0] != 'From' : \n",
    "        continue\n",
    "    print(words[2])"
   ]
  },
  {
   "cell_type": "markdown",
   "metadata": {},
   "source": [
    "### Exercise"
   ]
  },
  {
   "cell_type": "code",
   "execution_count": null,
   "metadata": {},
   "outputs": [],
   "source": [
    "# Open romeo.txt and read it line by line. The program should build a list of words. \n",
    "# For each word on each line check to see if the word is already in the list and if not append it to the list. \n",
    "# When the program completes, sort and print the resulting words in alphabetical order.\n",
    "\n",
    "fname = input(\"Enter file name: \")\n",
    "fh = open(fname)\n",
    "lst = list()\n",
    "for line in fh:\n",
    "    words = line.split()\n",
    "    for word in words:\n",
    "        if word not in lst:\n",
    "            lst.append(word)\n",
    "lst.sort()\n",
    "print(lst)"
   ]
  },
  {
   "cell_type": "code",
   "execution_count": null,
   "metadata": {},
   "outputs": [],
   "source": [
    "# Open the file mbox-short.txt and read it line by line. When you find a line that starts with 'From ', parse the From line \n",
    "# print out the second word in the line (i.e. the entire address of the person). Then print out a count at the end.\n",
    "\n",
    "fname = input(\"Enter file name: \")\n",
    "if len(fname) < 1 : fname = \"mbox-short.txt\"\n",
    "fh = open(fname)\n",
    "count = 0\n",
    "for line in fh:\n",
    "    words = line.split()    \n",
    "    if len(words)<1 or words[0]!='From':\n",
    "        continue\n",
    "    email = words[1]\n",
    "    print(email)\n",
    "    count = count+1\n",
    "print(\"There were\", count, \"lines in the file with From as the first word\")\n"
   ]
  },
  {
   "cell_type": "code",
   "execution_count": null,
   "metadata": {},
   "outputs": [],
   "source": [
    "# Prompts for a list of numbers and prints out the maximum and minimum of the numbers at the end when the user enters “done”.\n",
    "numlist = list()\n",
    "while (True):\n",
    "    inp = input('Enter a number: ')\n",
    "    if inp == 'done': \n",
    "        break\n",
    "    value = float(inp)\n",
    "    numlist.append(value)\n",
    "\n",
    "print('Maximum:', max(numlist))\n",
    "print('Minimum:', min(numlist))"
   ]
  },
  {
   "cell_type": "markdown",
   "metadata": {},
   "source": [
    "## Chapter - 9 Dictionaries"
   ]
  },
  {
   "cell_type": "code",
   "execution_count": 13,
   "metadata": {},
   "outputs": [
    {
     "name": "stdout",
     "output_type": "stream",
     "text": [
      "{'one': 'uno', 'two': 'dos', 'three': 'tres', 'four': 'quadro'}\n",
      "dos\n"
     ]
    }
   ],
   "source": [
    "eng2sp = dict()\n",
    "eng2sp = {'one': 'uno', 'two': 'dos', 'three': 'tres'}\n",
    "eng2sp['four'] = 'quadro'\n",
    "print(eng2sp)\n",
    "print(eng2sp['two'])"
   ]
  },
  {
   "cell_type": "code",
   "execution_count": 14,
   "metadata": {},
   "outputs": [
    {
     "name": "stdout",
     "output_type": "stream",
     "text": [
      "{'one': 1, (2, 2.0): 2.0, 3: [3]}\n"
     ]
    }
   ],
   "source": [
    "sp = {'one': 1, (2 , 2.0): 2.0, 3: [3]}\n",
    "print(sp)"
   ]
  },
  {
   "cell_type": "code",
   "execution_count": 15,
   "metadata": {},
   "outputs": [
    {
     "ename": "KeyError",
     "evalue": "'five'",
     "output_type": "error",
     "traceback": [
      "\u001b[1;31m---------------------------------------------------------------------------\u001b[0m",
      "\u001b[1;31mKeyError\u001b[0m                                  Traceback (most recent call last)",
      "\u001b[1;32m<ipython-input-15-f4bc0894a64d>\u001b[0m in \u001b[0;36m<module>\u001b[1;34m\u001b[0m\n\u001b[1;32m----> 1\u001b[1;33m \u001b[0mprint\u001b[0m\u001b[1;33m(\u001b[0m\u001b[0meng2sp\u001b[0m\u001b[1;33m[\u001b[0m\u001b[1;34m'five'\u001b[0m\u001b[1;33m]\u001b[0m\u001b[1;33m)\u001b[0m \u001b[1;31m# error due to no key value pair for five\u001b[0m\u001b[1;33m\u001b[0m\u001b[1;33m\u001b[0m\u001b[0m\n\u001b[0m",
      "\u001b[1;31mKeyError\u001b[0m: 'five'"
     ]
    }
   ],
   "source": [
    "print(eng2sp['five']) # error due to no key value pair for five"
   ]
  },
  {
   "cell_type": "code",
   "execution_count": null,
   "metadata": {},
   "outputs": [],
   "source": [
    "len(eng2sp)"
   ]
  },
  {
   "cell_type": "code",
   "execution_count": 16,
   "metadata": {},
   "outputs": [
    {
     "data": {
      "text/plain": [
       "True"
      ]
     },
     "execution_count": 16,
     "metadata": {},
     "output_type": "execute_result"
    }
   ],
   "source": [
    "'one' in eng2sp # The in operator works on dictionaries; it tells you whether something appears as a key in the dictionary"
   ]
  },
  {
   "cell_type": "code",
   "execution_count": 19,
   "metadata": {},
   "outputs": [
    {
     "data": {
      "text/plain": [
       "False"
      ]
     },
     "execution_count": 19,
     "metadata": {},
     "output_type": "execute_result"
    }
   ],
   "source": [
    "'uno' in eng2sp # The in operator works on dictionaries only on key, not on value"
   ]
  },
  {
   "cell_type": "code",
   "execution_count": 20,
   "metadata": {},
   "outputs": [
    {
     "data": {
      "text/plain": [
       "True"
      ]
     },
     "execution_count": 20,
     "metadata": {},
     "output_type": "execute_result"
    }
   ],
   "source": [
    "'uno' in eng2sp.values() # to see if uno appears in values"
   ]
  },
  {
   "cell_type": "code",
   "execution_count": null,
   "metadata": {},
   "outputs": [],
   "source": [
    "# Write a program that reads the words in words.txt and stores them as keys in a dictionary.\n",
    "fname = open('words.txt')\n",
    "dic = dict()\n",
    "for line in fname:\n",
    "    words = line.split()\n",
    "    for word in words:\n",
    "        dic[word] = dic.get(word, 0) +1\n",
    "print(dic)"
   ]
  },
  {
   "cell_type": "code",
   "execution_count": null,
   "metadata": {},
   "outputs": [],
   "source": [
    "counts = { 'chuck' : 1 , 'annie' : 42, 'jan': 100}\n",
    "counts['jan'] = counts.get('jan', 0) # get method is used to get the value of key in dictionary.\n",
    "counts['tim'] = counts.get('tim', 0) # tim not present in counts, so add it and assign default value 0.\n",
    "counts"
   ]
  },
  {
   "cell_type": "code",
   "execution_count": 21,
   "metadata": {},
   "outputs": [
    {
     "name": "stdout",
     "output_type": "stream",
     "text": [
      "Enter the file name: romeo.txt\n",
      "{'But': 1, 'soft': 1, 'what': 1, 'light': 1, 'through': 1, 'yonder': 1, 'window': 1, 'breaks': 1, 'It': 1, 'is': 3, 'the': 3, 'east': 1, 'and': 3, 'Juliet': 1, 'sun': 2, 'Arise': 1, 'fair': 1, 'kill': 1, 'envious': 1, 'moon': 1, 'Who': 1, 'already': 1, 'sick': 1, 'pale': 1, 'with': 1, 'grief': 1}\n"
     ]
    }
   ],
   "source": [
    "# Counter to the words in a file\n",
    "fname = input('Enter the file name: ') # romeo.txt\n",
    "try:\n",
    "    fhand = open(fname)\n",
    "except:\n",
    "    print('File cannot be opened:', fname)\n",
    "    exit()\n",
    "counts = dict()\n",
    "for line in fhand:\n",
    "    words = line.split()\n",
    "    for word in words:\n",
    "        if word not in counts:\n",
    "            counts[word] = 1\n",
    "        else:\n",
    "            counts[word] += 1\n",
    "print(counts)"
   ]
  },
  {
   "cell_type": "markdown",
   "metadata": {},
   "source": [
    "### Looping and Dictionaries"
   ]
  },
  {
   "cell_type": "code",
   "execution_count": null,
   "metadata": {},
   "outputs": [],
   "source": [
    "counts = { 'chuck' : 1 , 'annie' : 42, 'jan': 100}\n",
    "for key in counts:\n",
    "    print(key, counts[key])"
   ]
  },
  {
   "cell_type": "code",
   "execution_count": null,
   "metadata": {},
   "outputs": [],
   "source": [
    "counts = { 'chuck' : 1 , 'annie' : 42, 'jan': 100}\n",
    "for key in counts:\n",
    "    if counts[key] > 10 :\n",
    "        print(key, counts[key])"
   ]
  },
  {
   "cell_type": "code",
   "execution_count": 22,
   "metadata": {},
   "outputs": [
    {
     "name": "stdout",
     "output_type": "stream",
     "text": [
      "['chuck', 'annie', 'jan']\n",
      "annie 42\n",
      "chuck 1\n",
      "jan 100\n"
     ]
    }
   ],
   "source": [
    "counts = { 'chuck' : 1 , 'annie' : 42, 'jan': 100}\n",
    "lst = list(counts.keys())\n",
    "print(lst)\n",
    "lst.sort()\n",
    "for key in lst:\n",
    "    print(key, counts[key])"
   ]
  },
  {
   "cell_type": "code",
   "execution_count": null,
   "metadata": {},
   "outputs": [],
   "source": [
    "# Sorting keys in dictionaries\n",
    "counts = { 'chuck' : 1 , 'annie' : 42, 'jan': 100}\n",
    "lst = list(counts.keys())\n",
    "print(lst)\n",
    "lst.sort()\n",
    "for key in lst:\n",
    "    print(key, counts[key])"
   ]
  },
  {
   "cell_type": "code",
   "execution_count": null,
   "metadata": {},
   "outputs": [],
   "source": [
    "# But, soft! what light through yonder window breaks?\n",
    "# It is the east, and Juliet is the sun.\n",
    "# Arise, fair sun, and kill the envious moon,\n",
    "# Who is already sick and pale with grief,\n",
    "# Remove punctuations and make capitalized letters to lower case and make a dictionary of words and their count\n",
    "\n",
    "import string\n",
    "fname = input('Enter the file name: ')  # punct.txt\n",
    "try:\n",
    "    fhand = open(fname)\n",
    "except:\n",
    "    print('File cannot be opened:', fname)\n",
    "    exit()\n",
    "counts = dict()\n",
    "for line in fhand:\n",
    "    line = line.rstrip()\n",
    "    line = line.translate(line.maketrans('', '', string.punctuation))  \n",
    "    # line.translate(str.maketrans(fromstr, tostr, deletestr)). Use the deletestr parameter to delete all of the punctuation. \n",
    "    line = line.lower()\n",
    "    words = line.split()\n",
    "    for word in words:\n",
    "        if word not in counts:\n",
    "            counts[word] = 1\n",
    "        else:\n",
    "            counts[word] += 1\n",
    "print(counts)"
   ]
  },
  {
   "cell_type": "markdown",
   "metadata": {},
   "source": [
    "### Exercise"
   ]
  },
  {
   "cell_type": "code",
   "execution_count": null,
   "metadata": {},
   "outputs": [],
   "source": [
    "#  Write a program that categorizes each mail message by which day of the week the commit was done. To do this look for lines\n",
    "# that start with “From”, then look for the third word and keep a running count of each of the days of the week. \n",
    "# At the end of the program print out the contents of your dictionary\n",
    "\n",
    "name = input(\"Enter file:\")\n",
    "if len(name) < 1 : name = \"mbox-short.txt\"\n",
    "handle = open(name)\n",
    "mails = dict()\n",
    "for line in handle:\n",
    "        words = line.split()\n",
    "        if len(words) < 1 or words[0] != \"From\":\n",
    "            continue\n",
    "        day = words[2]\n",
    "        mails[day] = mails.get(day,0)+1\n",
    "print(mails)"
   ]
  },
  {
   "cell_type": "code",
   "execution_count": null,
   "metadata": {},
   "outputs": [],
   "source": [
    "# Write a program to read through a mail log, build a histogram using a dictionary to count how many messages have come from\n",
    "# each email address, and print the dictionary.\n",
    "\n",
    "name = input(\"Enter file:\")\n",
    "if len(name) < 1 : name = \"mbox-short.txt\"\n",
    "handle = open(name)\n",
    "mails = dict()\n",
    "for line in handle:\n",
    "        words = line.split()\n",
    "        if len(words) < 1:\n",
    "            continue\n",
    "        if words[0] != \"From\":\n",
    "            continue\n",
    "        id = words[1]\n",
    "        mails[id] = mails.get(id,0)+1\n",
    "print(mails)"
   ]
  },
  {
   "cell_type": "code",
   "execution_count": null,
   "metadata": {},
   "outputs": [],
   "source": [
    "# Add code to the above program to figure out who has the most messages in the file\n",
    "name = input(\"Enter file:\")\n",
    "if len(name) < 1 : name = \"mbox-short.txt\"\n",
    "handle = open(name)\n",
    "mails = dict()\n",
    "for line in handle:\n",
    "        words = line.split()\n",
    "        if len(words) < 1:\n",
    "            continue\n",
    "        if words[0] != \"From\":\n",
    "            continue\n",
    "        id = words[1]\n",
    "        mails[id] = mails.get(id,0)+1\n",
    "\n",
    "email = None\n",
    "bigcount = None\n",
    "for word, count in mails.items():  # word, count refers to key value pairs in mails dictionary\n",
    "    if bigcount == None or count > bigcount:\n",
    "        email = word\n",
    "        bigcount = count\n",
    "        \n",
    "print(email, bigcount)"
   ]
  },
  {
   "cell_type": "code",
   "execution_count": null,
   "metadata": {},
   "outputs": [],
   "source": [
    "# This program records the domain name (instead of the address) where the message was sent from instead of who the mail came\n",
    "# from (i.e., the whole email address). At the end of the program, print out the contents of your dictionary.\n",
    "name = input(\"Enter file:\")\n",
    "if len(name) < 1 : name = \"mbox-short.txt\"\n",
    "handle = open(name)\n",
    "mails = dict()\n",
    "for line in handle:\n",
    "        words = line.split()\n",
    "        if len(words) < 1:\n",
    "            continue\n",
    "        if words[0] != \"From\":\n",
    "            continue\n",
    "        id = words[1]\n",
    "        at = id.find('@')\n",
    "        sp = len(id)\n",
    "        domain = id[at+1:sp]\n",
    "        mails[domain] = mails.get(domain,0)+1\n",
    "print(mails)"
   ]
  },
  {
   "cell_type": "markdown",
   "metadata": {},
   "source": [
    "## Chapter - 10 Tuples"
   ]
  },
  {
   "cell_type": "code",
   "execution_count": null,
   "metadata": {},
   "outputs": [],
   "source": [
    "# Tuples are immutable. Tuples are also comparable and hashable so we can sort lists of them and \n",
    "# use tuples as key values in Python dictionaries."
   ]
  },
  {
   "cell_type": "code",
   "execution_count": null,
   "metadata": {},
   "outputs": [],
   "source": [
    "t = 'a', 'b', 'c', 'd', 'e' # a tuple is a comma-separated list of values\n",
    "type(t)"
   ]
  },
  {
   "cell_type": "code",
   "execution_count": null,
   "metadata": {},
   "outputs": [],
   "source": [
    "t = ('a', 'b', 'c', 'd', 'e')  # paranthesis for better understanding"
   ]
  },
  {
   "cell_type": "code",
   "execution_count": null,
   "metadata": {},
   "outputs": [],
   "source": [
    "t1 = ('a',)  # To create a tuple with a single element, you have to include the final comma\n",
    "type(t1)"
   ]
  },
  {
   "cell_type": "code",
   "execution_count": null,
   "metadata": {},
   "outputs": [],
   "source": [
    "t2 = ('a') # Without the comma Python treats ('a') as an expression with a string in parentheses that evaluates to a string\n",
    "type(t2)  # string"
   ]
  },
  {
   "cell_type": "code",
   "execution_count": null,
   "metadata": {},
   "outputs": [],
   "source": [
    "t = tuple()  # empty tuple\n",
    "print(t)"
   ]
  },
  {
   "cell_type": "code",
   "execution_count": 23,
   "metadata": {},
   "outputs": [
    {
     "name": "stdout",
     "output_type": "stream",
     "text": [
      "('s', 'r', 'a', 'v', 'a', 'n', 'i')\n",
      "(1, 2, 3, 4, 5)\n"
     ]
    }
   ],
   "source": [
    "# If the argument is a sequence(string, list, or tuple), result of the call to tuple is a tuple with elements of the sequence\n",
    "t = tuple('sravani') \n",
    "print(t)\n",
    "\n",
    "tt = (1,2,3,4,5)\n",
    "ttt = tuple(tt)\n",
    "print(ttt)"
   ]
  },
  {
   "cell_type": "code",
   "execution_count": 24,
   "metadata": {},
   "outputs": [
    {
     "name": "stdout",
     "output_type": "stream",
     "text": [
      "a\n",
      "('b', 'c')\n"
     ]
    }
   ],
   "source": [
    "t = ('a', 'b', 'c', 'd', 'e')\n",
    "print(t[0])\n",
    "print(t[1:3])"
   ]
  },
  {
   "cell_type": "code",
   "execution_count": null,
   "metadata": {},
   "outputs": [],
   "source": [
    "t[0] = 'A' # ERROR SINCE TUPLES ARE IMMUTABLE"
   ]
  },
  {
   "cell_type": "code",
   "execution_count": 25,
   "metadata": {},
   "outputs": [
    {
     "name": "stdout",
     "output_type": "stream",
     "text": [
      "('A', 'b', 'c', 'd', 'e')\n"
     ]
    }
   ],
   "source": [
    "t = ('A',) + t[1:]\n",
    "print(t)"
   ]
  },
  {
   "cell_type": "markdown",
   "metadata": {},
   "source": [
    "### Comparing Tuples"
   ]
  },
  {
   "cell_type": "code",
   "execution_count": null,
   "metadata": {},
   "outputs": [],
   "source": [
    "# Python starts by comparing the first element from each sequence. If they are equal, it goes on to the next element, and so on\n",
    "(0, 1, 2) < (0, 3, 4)"
   ]
  },
  {
   "cell_type": "code",
   "execution_count": null,
   "metadata": {},
   "outputs": [],
   "source": [
    "(0, 1, 2000000) < (0, 3, 4)"
   ]
  },
  {
   "cell_type": "code",
   "execution_count": null,
   "metadata": {},
   "outputs": [],
   "source": [
    "txt = 'but soft what light in yonder window breaks'\n",
    "words = txt.split()\n",
    "t = list()\n",
    "for word in words:\n",
    "    t.append((len(word), word))\n",
    "    t.sort(reverse=True)\n",
    "    res = list()\n",
    "    for length, word in t:\n",
    "        res.append(word)\n",
    "print(res)"
   ]
  },
  {
   "cell_type": "markdown",
   "metadata": {},
   "source": [
    "### Tuple Assignment"
   ]
  },
  {
   "cell_type": "code",
   "execution_count": null,
   "metadata": {},
   "outputs": [],
   "source": [
    "m = [ 'have', 'fun' ]\n",
    "x, y = m\n",
    "print(x)\n",
    "print(y)"
   ]
  },
  {
   "cell_type": "code",
   "execution_count": null,
   "metadata": {},
   "outputs": [],
   "source": [
    "# The above code is same as this\n",
    "m = [ 'have', 'fun' ]\n",
    "x = m[0]\n",
    "y = m[1]\n",
    "x\n",
    "y"
   ]
  },
  {
   "cell_type": "code",
   "execution_count": null,
   "metadata": {},
   "outputs": [],
   "source": [
    "m = [ 'have', 'fun' ]\n",
    "(x, y) = m\n",
    "print(x)\n",
    "print(y)"
   ]
  },
  {
   "cell_type": "code",
   "execution_count": null,
   "metadata": {},
   "outputs": [],
   "source": [
    "# tuple assignment allows us to swap the values of two variables in a single statement\n",
    "a,b = 5,3\n",
    "a,b = b,a\n",
    "print(a,b)"
   ]
  },
  {
   "cell_type": "code",
   "execution_count": null,
   "metadata": {},
   "outputs": [],
   "source": [
    "# split email using tuple\n",
    "addr = 'cc20mtech11006@iith.ac.in'\n",
    "uname, domain = addr.split('@')\n",
    "print(uname)\n",
    "print(domain)"
   ]
  },
  {
   "cell_type": "markdown",
   "metadata": {},
   "source": [
    "\n",
    "\n",
    "### Dictionaries and Tuples"
   ]
  },
  {
   "cell_type": "code",
   "execution_count": 26,
   "metadata": {},
   "outputs": [
    {
     "name": "stdout",
     "output_type": "stream",
     "text": [
      "[('a', 10), ('b', 1), ('c', 22)]\n"
     ]
    }
   ],
   "source": [
    "d = {'a':10, 'b':1, 'c':22}\n",
    "t = list(d.items())\n",
    "print(t)"
   ]
  },
  {
   "cell_type": "code",
   "execution_count": 2,
   "metadata": {},
   "outputs": [
    {
     "data": {
      "text/plain": [
       "[('a', 1), ('b', 22), ('c', 10)]"
      ]
     },
     "execution_count": 2,
     "metadata": {},
     "output_type": "execute_result"
    }
   ],
   "source": [
    "d = {'c':10, 'a':1, 'b':22}\n",
    "t = list(d.items())\n",
    "t.sort()\n",
    "t"
   ]
  },
  {
   "cell_type": "code",
   "execution_count": 28,
   "metadata": {},
   "outputs": [
    {
     "name": "stdout",
     "output_type": "stream",
     "text": [
      "10 a\n",
      "1 b\n",
      "22 c\n"
     ]
    }
   ],
   "source": [
    "for key, val in list(d.items()):\n",
    "    print(val, key)"
   ]
  },
  {
   "cell_type": "code",
   "execution_count": 29,
   "metadata": {},
   "outputs": [
    {
     "data": {
      "text/plain": [
       "[(10, 'a'), (1, 'b'), (22, 'c')]"
      ]
     },
     "execution_count": 29,
     "metadata": {},
     "output_type": "execute_result"
    }
   ],
   "source": [
    "d = {'a':10, 'b':1, 'c':22}\n",
    "l = list()\n",
    "for key, val in d.items() :\n",
    "    l.append( (val, key) )\n",
    "l"
   ]
  },
  {
   "cell_type": "code",
   "execution_count": null,
   "metadata": {},
   "outputs": [],
   "source": [
    "# 10 Most Common words in a txt file\n",
    "import string\n",
    "fhand = open('mbox-short.txt')\n",
    "counts = dict()\n",
    "for line in fhand:\n",
    "    line = line.translate(str.maketrans('', '', string.punctuation))\n",
    "    line = line.lower()\n",
    "    words = line.split()\n",
    "    for word in words:\n",
    "        counts[word] = counts.get(word,0)+1\n",
    "lst = list()\n",
    "for key, val in counts.items():\n",
    "    lst.append((val, key))\n",
    "lst.sort(reverse=True)\n",
    "for key, val in lst[:10]:\n",
    "    print(key, val)"
   ]
  },
  {
   "cell_type": "code",
   "execution_count": null,
   "metadata": {},
   "outputs": [],
   "source": [
    "# HASHING USING TUPLES\n",
    "#  directory[last,first] = number\n",
    "#  for last, first in directory:\n",
    "#     print(first, last, directory[last,first])"
   ]
  },
  {
   "cell_type": "markdown",
   "metadata": {},
   "source": [
    "### Exercise"
   ]
  },
  {
   "cell_type": "code",
   "execution_count": null,
   "metadata": {},
   "outputs": [],
   "source": [
    "# Read and parse the “From” lines and pull out the addresses from the line.\n",
    "# Count the number of messages from each person using a dictionary.\n",
    "#  Then sort the list in reverse order and print out the person who has the most commits.\n",
    "\n",
    "import string\n",
    "fhand = open('mbox-short.txt')\n",
    "counts = dict()\n",
    "for line in fhand:\n",
    "    words = line.split()\n",
    "    if len(words) < 1 or words[0] != 'From':\n",
    "        continue    \n",
    "    email = words[1]\n",
    "    counts[email] = counts.get(email,0)+1\n",
    "lst = list()\n",
    "for key, val in counts.items():\n",
    "    lst.append((val, key))\n",
    "lst.sort(reverse=True)\n",
    "for key, val in lst[:1]:\n",
    "    print(val, key)"
   ]
  },
  {
   "cell_type": "code",
   "execution_count": null,
   "metadata": {},
   "outputs": [],
   "source": [
    "# This program counts the distribution of the hour of the day for each of the messages. You can pull the hour from \n",
    "# the “From” line by finding the time string and then splitting that string into parts using the colon character. \n",
    "# Once you have accumulated the counts for each hour, print out the counts, one per line, sorted by hour.\n",
    "\n",
    "fname = input('Enter a file name:') # mbox-short.txt\n",
    "fhand = open(fname)\n",
    "counts = dict()\n",
    "for line in fhand:\n",
    "    words = line.split()\n",
    "    if len(words) < 3 or  words[0] != 'From' : \n",
    "        continue\n",
    "    time = words[5]\n",
    "    chunks = time.split(':')\n",
    "    hours = chunks[0]\n",
    "    counts[hours] = counts.get(hours,0)+1\n",
    "s = sorted(counts.items())\n",
    "for k, v in s:\n",
    "    print(k, v)"
   ]
  },
  {
   "cell_type": "code",
   "execution_count": null,
   "metadata": {},
   "outputs": [],
   "source": [
    "# Write a program that reads a file and prints the letters in decreasing order of frequency. Your program should convert \n",
    "# all the input to lower case and only count the letters a-z. Your program should not count \n",
    "# spaces, digits, punctuation, or anything other than the letters a-z. \n",
    "\n",
    "import string\n",
    "fhand = open('mbox-short.txt')\n",
    "counts = dict()\n",
    "for line in fhand:\n",
    "    line = line.translate(str.maketrans('', '', string.punctuation))\n",
    "    line = line.lower()\n",
    "    words = line.split()\n",
    "    for word in words:\n",
    "        for y in range (0 , len(word)):\n",
    "            letter = word[y]\n",
    "            if letter.isalpha() == True:\n",
    "                counts[letter] = counts.get(letter,0) + 1\n",
    "\n",
    "lst = list()\n",
    "for ltr, count in list(counts.items()):\n",
    "    lst.append((count, ltr))\n",
    "lst.sort(reverse=True)\n",
    "for count, ltr in lst:\n",
    "    print(count, ltr)"
   ]
  },
  {
   "cell_type": "markdown",
   "metadata": {},
   "source": [
    "## Chapter -11 Regular Expressions"
   ]
  },
  {
   "cell_type": "code",
   "execution_count": 1,
   "metadata": {},
   "outputs": [
    {
     "data": {
      "text/plain": [
       "['A',\n",
       " 'ASCII',\n",
       " 'DEBUG',\n",
       " 'DOTALL',\n",
       " 'I',\n",
       " 'IGNORECASE',\n",
       " 'L',\n",
       " 'LOCALE',\n",
       " 'M',\n",
       " 'MULTILINE',\n",
       " 'Match',\n",
       " 'Pattern',\n",
       " 'RegexFlag',\n",
       " 'S',\n",
       " 'Scanner',\n",
       " 'T',\n",
       " 'TEMPLATE',\n",
       " 'U',\n",
       " 'UNICODE',\n",
       " 'VERBOSE',\n",
       " 'X',\n",
       " '_MAXCACHE',\n",
       " '__all__',\n",
       " '__builtins__',\n",
       " '__cached__',\n",
       " '__doc__',\n",
       " '__file__',\n",
       " '__loader__',\n",
       " '__name__',\n",
       " '__package__',\n",
       " '__spec__',\n",
       " '__version__',\n",
       " '_cache',\n",
       " '_compile',\n",
       " '_compile_repl',\n",
       " '_expand',\n",
       " '_locale',\n",
       " '_pickle',\n",
       " '_special_chars_map',\n",
       " '_subx',\n",
       " 'compile',\n",
       " 'copyreg',\n",
       " 'enum',\n",
       " 'error',\n",
       " 'escape',\n",
       " 'findall',\n",
       " 'finditer',\n",
       " 'fullmatch',\n",
       " 'functools',\n",
       " 'match',\n",
       " 'purge',\n",
       " 'search',\n",
       " 'split',\n",
       " 'sre_compile',\n",
       " 'sre_parse',\n",
       " 'sub',\n",
       " 'subn',\n",
       " 'template']"
      ]
     },
     "execution_count": 1,
     "metadata": {},
     "output_type": "execute_result"
    }
   ],
   "source": [
    "import re\n",
    "dir(re)"
   ]
  },
  {
   "cell_type": "code",
   "execution_count": 2,
   "metadata": {},
   "outputs": [
    {
     "name": "stdout",
     "output_type": "stream",
     "text": [
      "Help on function search in module re:\n",
      "\n",
      "search(pattern, string, flags=0)\n",
      "    Scan through string looking for a match to the pattern, returning\n",
      "    a Match object, or None if no match was found.\n",
      "\n"
     ]
    }
   ],
   "source": [
    "help(re.search)"
   ]
  },
  {
   "cell_type": "code",
   "execution_count": 3,
   "metadata": {},
   "outputs": [
    {
     "name": "stdout",
     "output_type": "stream",
     "text": [
      "Help on function findall in module re:\n",
      "\n",
      "findall(pattern, string, flags=0)\n",
      "    Return a list of all non-overlapping matches in the string.\n",
      "    \n",
      "    If one or more capturing groups are present in the pattern, return\n",
      "    a list of groups; this will be a list of tuples if the pattern\n",
      "    has more than one group.\n",
      "    \n",
      "    Empty matches are included in the result.\n",
      "\n"
     ]
    }
   ],
   "source": [
    "help(re.findall)"
   ]
  },
  {
   "cell_type": "markdown",
   "metadata": {},
   "source": [
    "### Special Characters in Regular Expressions"
   ]
  },
  {
   "cell_type": "markdown",
   "metadata": {},
   "source": [
    "ˆ Matches the beginning of the line.\n",
    "\n",
    "$ Matches the end of the line.\n",
    "\n",
    ". Matches any character (a wildcard).\n",
    "\n",
    "\\s Matches a whitespace character.\n",
    "\n",
    "\\S Matches a non-whitespace character (opposite of \\s).\n",
    "\n",
    "'*' Applies to the immediately preceding character(s) and indicates to match zero or more times.\n",
    "\n",
    "'*?' Applies to the immediately preceding character(s) and indicates to match zero or more times in “non-greedy mode”.\n",
    "\n",
    "'+' Applies to the immediately preceding character(s) and indicates to match one or more times.\n",
    "\n",
    "+? Applies to the immediately preceding character(s) and indicates to match one or more times in “non-greedy mode”\n",
    "\n",
    "? Applies to the immediately preceding character(s) and indicates to match zero or one time.\n",
    "\n",
    "?? Applies to the immediately preceding character(s) and indicates to match zero or one time in “non-greedy mode”.\n",
    "\n",
    "[aeiou] Matches a single character as long as that character is in the specified set. In this example, it would match “a”, “e”, “i”, “o”, or “u”, but no other characters.\n",
    "\n",
    "[a-z0-9] You can specify ranges of characters using the minus sign. This example is a single character that must be a lowercase letter or a digit.\n",
    "\n",
    "[ˆA-Za-z] When the first character in the set notation is a caret, it inverts the logic. This example matches a single character that is anything other than an uppercase or lowercase letter.\n",
    "\n",
    "( ) When parentheses are added to a regular expression, they are ignored for the purpose of matching, but allow you to extract a particular subset of the matched string rather than the whole string when using findall().\n",
    "\n",
    "\\b Matches the empty string, but only at the start or end of a word.\n",
    "\n",
    "\\B Matches the empty string, but not at the start or end of a word.\n",
    "\n",
    "\\d Matches any decimal digit; equivalent to the set [0-9].\n",
    "\n",
    "\\D Matches any non-digit character; equivalent to the set [ˆ0-9]."
   ]
  },
  {
   "cell_type": "code",
   "execution_count": 6,
   "metadata": {},
   "outputs": [
    {
     "name": "stdout",
     "output_type": "stream",
     "text": [
      "From: stephen.marquard@uct.ac.za\n",
      "From: louis@media.berkeley.edu\n",
      "From: zqian@umich.edu\n",
      "From: rjlowe@iupui.edu\n",
      "From: zqian@umich.edu\n",
      "From: rjlowe@iupui.edu\n",
      "From: cwen@iupui.edu\n",
      "From: cwen@iupui.edu\n",
      "From: gsilver@umich.edu\n",
      "From: gsilver@umich.edu\n",
      "From: zqian@umich.edu\n",
      "From: gsilver@umich.edu\n",
      "From: wagnermr@iupui.edu\n",
      "From: zqian@umich.edu\n",
      "From: antranig@caret.cam.ac.uk\n",
      "From: gopal.ramasammycook@gmail.com\n",
      "From: david.horwitz@uct.ac.za\n",
      "From: david.horwitz@uct.ac.za\n",
      "From: david.horwitz@uct.ac.za\n",
      "From: david.horwitz@uct.ac.za\n",
      "From: stephen.marquard@uct.ac.za\n",
      "From: louis@media.berkeley.edu\n",
      "From: louis@media.berkeley.edu\n",
      "From: ray@media.berkeley.edu\n",
      "From: cwen@iupui.edu\n",
      "From: cwen@iupui.edu\n",
      "From: cwen@iupui.edu\n"
     ]
    }
   ],
   "source": [
    "# Program to search for lines containing From:\n",
    "hand = open('mbox-short.txt')\n",
    "for line in hand:\n",
    "    line = line.rstrip()\n",
    "    if re.search('From:', line):\n",
    "        print(line)"
   ]
  },
  {
   "cell_type": "code",
   "execution_count": 4,
   "metadata": {},
   "outputs": [
    {
     "name": "stdout",
     "output_type": "stream",
     "text": [
      "From: stephen.marquard@uct.ac.za\n",
      "From: louis@media.berkeley.edu\n",
      "From: zqian@umich.edu\n",
      "From: rjlowe@iupui.edu\n",
      "From: zqian@umich.edu\n",
      "From: rjlowe@iupui.edu\n",
      "From: cwen@iupui.edu\n",
      "From: cwen@iupui.edu\n",
      "From: gsilver@umich.edu\n",
      "From: gsilver@umich.edu\n",
      "From: zqian@umich.edu\n",
      "From: gsilver@umich.edu\n",
      "From: wagnermr@iupui.edu\n",
      "From: zqian@umich.edu\n",
      "From: antranig@caret.cam.ac.uk\n",
      "From: gopal.ramasammycook@gmail.com\n",
      "From: david.horwitz@uct.ac.za\n",
      "From: david.horwitz@uct.ac.za\n",
      "From: david.horwitz@uct.ac.za\n",
      "From: david.horwitz@uct.ac.za\n",
      "From: stephen.marquard@uct.ac.za\n",
      "From: louis@media.berkeley.edu\n",
      "From: louis@media.berkeley.edu\n",
      "From: ray@media.berkeley.edu\n",
      "From: cwen@iupui.edu\n",
      "From: cwen@iupui.edu\n",
      "From: cwen@iupui.edu\n"
     ]
    }
   ],
   "source": [
    "# Search for lines that start with 'From'\n",
    "import re\n",
    "hand = open('mbox-short.txt')\n",
    "for line in hand:\n",
    "    line = line.rstrip()\n",
    "    if re.search('^From:', line):   # ^ signifies startswith\n",
    "        print(line)"
   ]
  },
  {
   "cell_type": "code",
   "execution_count": 5,
   "metadata": {},
   "outputs": [
    {
     "name": "stdout",
     "output_type": "stream",
     "text": [
      "From: stephen.marquard@uct.ac.za\n",
      "From: louis@media.berkeley.edu\n",
      "From: zqian@umich.edu\n",
      "From: rjlowe@iupui.edu\n",
      "From: zqian@umich.edu\n",
      "From: rjlowe@iupui.edu\n",
      "From: cwen@iupui.edu\n",
      "From: cwen@iupui.edu\n",
      "From: gsilver@umich.edu\n",
      "From: gsilver@umich.edu\n",
      "From: zqian@umich.edu\n",
      "From: gsilver@umich.edu\n",
      "From: wagnermr@iupui.edu\n",
      "From: zqian@umich.edu\n",
      "From: antranig@caret.cam.ac.uk\n",
      "From: gopal.ramasammycook@gmail.com\n",
      "From: david.horwitz@uct.ac.za\n",
      "From: david.horwitz@uct.ac.za\n",
      "From: david.horwitz@uct.ac.za\n",
      "From: david.horwitz@uct.ac.za\n",
      "From: stephen.marquard@uct.ac.za\n",
      "From: louis@media.berkeley.edu\n",
      "From: louis@media.berkeley.edu\n",
      "From: ray@media.berkeley.edu\n",
      "From: cwen@iupui.edu\n",
      "From: cwen@iupui.edu\n",
      "From: cwen@iupui.edu\n"
     ]
    }
   ],
   "source": [
    "# Search for lines that start with 'F', followed by 2 characters, followed by 'm:'\n",
    "import re\n",
    "hand = open('mbox-short.txt')\n",
    "for line in hand:\n",
    "    line = line.rstrip()\n",
    "    if re.search('^F..m:', line):  # . signifies any character\n",
    "        print(line)"
   ]
  },
  {
   "cell_type": "code",
   "execution_count": 9,
   "metadata": {},
   "outputs": [
    {
     "name": "stdout",
     "output_type": "stream",
     "text": [
      "From: stephen.marquard@uct.ac.za\n",
      "From: louis@media.berkeley.edu\n",
      "From: zqian@umich.edu\n",
      "From: rjlowe@iupui.edu\n",
      "From: zqian@umich.edu\n",
      "From: rjlowe@iupui.edu\n",
      "From: cwen@iupui.edu\n",
      "From: cwen@iupui.edu\n",
      "From: gsilver@umich.edu\n",
      "From: gsilver@umich.edu\n",
      "From: zqian@umich.edu\n",
      "From: gsilver@umich.edu\n",
      "From: wagnermr@iupui.edu\n",
      "From: zqian@umich.edu\n",
      "From: antranig@caret.cam.ac.uk\n",
      "From: gopal.ramasammycook@gmail.com\n",
      "From: david.horwitz@uct.ac.za\n",
      "From: david.horwitz@uct.ac.za\n",
      "From: david.horwitz@uct.ac.za\n",
      "From: david.horwitz@uct.ac.za\n",
      "From: stephen.marquard@uct.ac.za\n",
      "From: louis@media.berkeley.edu\n",
      "From: louis@media.berkeley.edu\n",
      "From: ray@media.berkeley.edu\n",
      "From: cwen@iupui.edu\n",
      "From: cwen@iupui.edu\n",
      "From: cwen@iupui.edu\n"
     ]
    }
   ],
   "source": [
    "# Search for lines that start with From and have an @ sign\n",
    "import re\n",
    "hand = open('mbox-short.txt')\n",
    "for line in hand:\n",
    "    line = line.rstrip()\n",
    "    if re.search('^From:.+@', line):  # . signifies wildcard character, that means one or more characters.\n",
    "        print(line)"
   ]
  },
  {
   "cell_type": "code",
   "execution_count": 10,
   "metadata": {},
   "outputs": [
    {
     "name": "stdout",
     "output_type": "stream",
     "text": [
      "['csev@umich.edu', 'cwen@iupui.edu']\n"
     ]
    }
   ],
   "source": [
    "# Code that finds all email adresses from a line using findall()\n",
    "import re\n",
    "s = 'A message from csev@umich.edu to cwen@iupui.edu about meeting @2PM'\n",
    "lst = re.findall('\\S+@\\S+', s)    # \\S is non whitespace character\n",
    "print(lst)"
   ]
  },
  {
   "cell_type": "code",
   "execution_count": 11,
   "metadata": {},
   "outputs": [
    {
     "name": "stdout",
     "output_type": "stream",
     "text": [
      "['stephen.marquard@uct.ac.za']\n",
      "['<postmaster@collab.sakaiproject.org>']\n",
      "['<200801051412.m05ECIaH010327@nakamura.uits.iupui.edu>']\n",
      "['<source@collab.sakaiproject.org>;']\n",
      "['<source@collab.sakaiproject.org>;']\n",
      "['<source@collab.sakaiproject.org>;']\n",
      "['apache@localhost)']\n",
      "['source@collab.sakaiproject.org;']\n",
      "['stephen.marquard@uct.ac.za']\n",
      "['source@collab.sakaiproject.org']\n",
      "['stephen.marquard@uct.ac.za']\n",
      "['stephen.marquard@uct.ac.za']\n",
      "['louis@media.berkeley.edu']\n",
      "['<postmaster@collab.sakaiproject.org>']\n",
      "['<200801042308.m04N8v6O008125@nakamura.uits.iupui.edu>']\n",
      "['<source@collab.sakaiproject.org>;']\n",
      "['<source@collab.sakaiproject.org>;']\n",
      "['<source@collab.sakaiproject.org>;']\n",
      "['apache@localhost)']\n",
      "['source@collab.sakaiproject.org;']\n",
      "['louis@media.berkeley.edu']\n",
      "['source@collab.sakaiproject.org']\n",
      "['louis@media.berkeley.edu']\n",
      "['louis@media.berkeley.edu']\n",
      "['zqian@umich.edu']\n",
      "['<postmaster@collab.sakaiproject.org>']\n",
      "['<200801042109.m04L92hb007923@nakamura.uits.iupui.edu>']\n",
      "['<source@collab.sakaiproject.org>;']\n",
      "['<source@collab.sakaiproject.org>;']\n",
      "['<source@collab.sakaiproject.org>;']\n",
      "['apache@localhost)']\n",
      "['source@collab.sakaiproject.org;']\n",
      "['zqian@umich.edu']\n",
      "['source@collab.sakaiproject.org']\n",
      "['zqian@umich.edu']\n",
      "['zqian@umich.edu']\n",
      "['rjlowe@iupui.edu']\n",
      "['<postmaster@collab.sakaiproject.org>']\n",
      "['<200801042044.m04Kiem3007881@nakamura.uits.iupui.edu>']\n",
      "['<source@collab.sakaiproject.org>;']\n",
      "['<source@collab.sakaiproject.org>;']\n",
      "['<source@collab.sakaiproject.org>;']\n",
      "['apache@localhost)']\n",
      "['source@collab.sakaiproject.org;']\n",
      "['rjlowe@iupui.edu']\n",
      "['source@collab.sakaiproject.org']\n",
      "['rjlowe@iupui.edu']\n",
      "['rjlowe@iupui.edu']\n",
      "['zqian@umich.edu']\n",
      "['<postmaster@collab.sakaiproject.org>']\n",
      "['<200801042001.m04K1cO0007738@nakamura.uits.iupui.edu>']\n",
      "['<source@collab.sakaiproject.org>;']\n",
      "['<source@collab.sakaiproject.org>;']\n",
      "['<source@collab.sakaiproject.org>;']\n",
      "['apache@localhost)']\n",
      "['source@collab.sakaiproject.org;']\n",
      "['zqian@umich.edu']\n",
      "['source@collab.sakaiproject.org']\n",
      "['zqian@umich.edu']\n",
      "['zqian@umich.edu']\n",
      "['zqian@umich.edu']\n",
      "['rjlowe@iupui.edu']\n",
      "['<postmaster@collab.sakaiproject.org>']\n",
      "['<200801041948.m04JmdwO007705@nakamura.uits.iupui.edu>']\n",
      "['<source@collab.sakaiproject.org>;']\n",
      "['<source@collab.sakaiproject.org>;']\n",
      "['<source@collab.sakaiproject.org>;']\n",
      "['apache@localhost)']\n",
      "['source@collab.sakaiproject.org;']\n",
      "['rjlowe@iupui.edu']\n",
      "['source@collab.sakaiproject.org']\n",
      "['rjlowe@iupui.edu']\n",
      "['rjlowe@iupui.edu']\n",
      "['cwen@iupui.edu']\n",
      "['<postmaster@collab.sakaiproject.org>']\n",
      "['<200801041635.m04GZQGZ007313@nakamura.uits.iupui.edu>']\n",
      "['<source@collab.sakaiproject.org>;']\n",
      "['<source@collab.sakaiproject.org>;']\n",
      "['<source@collab.sakaiproject.org>;']\n",
      "['apache@localhost)']\n",
      "['source@collab.sakaiproject.org;']\n",
      "['cwen@iupui.edu']\n",
      "['source@collab.sakaiproject.org']\n",
      "['cwen@iupui.edu']\n",
      "['cwen@iupui.edu']\n",
      "['hu2@iupui.edu']\n",
      "['cwen@iupui.edu']\n",
      "['<postmaster@collab.sakaiproject.org>']\n",
      "['<200801041633.m04GX6eG007292@nakamura.uits.iupui.edu>']\n",
      "['<source@collab.sakaiproject.org>;']\n",
      "['<source@collab.sakaiproject.org>;']\n",
      "['<source@collab.sakaiproject.org>;']\n",
      "['apache@localhost)']\n",
      "['source@collab.sakaiproject.org;']\n",
      "['cwen@iupui.edu']\n",
      "['source@collab.sakaiproject.org']\n",
      "['cwen@iupui.edu']\n",
      "['cwen@iupui.edu']\n",
      "['hu2@iupui.edu']\n",
      "['gsilver@umich.edu']\n",
      "['<postmaster@collab.sakaiproject.org>']\n",
      "['<200801041611.m04GB1Lb007221@nakamura.uits.iupui.edu>']\n",
      "['<source@collab.sakaiproject.org>;']\n",
      "['<source@collab.sakaiproject.org>;']\n",
      "['<source@collab.sakaiproject.org>;']\n",
      "['apache@localhost)']\n",
      "['source@collab.sakaiproject.org;']\n",
      "['gsilver@umich.edu']\n",
      "['source@collab.sakaiproject.org']\n",
      "['gsilver@umich.edu']\n",
      "['gsilver@umich.edu']\n",
      "['gsilver@umich.edu']\n",
      "['<postmaster@collab.sakaiproject.org>']\n",
      "['<200801041610.m04GA5KP007209@nakamura.uits.iupui.edu>']\n",
      "['<source@collab.sakaiproject.org>;']\n",
      "['<source@collab.sakaiproject.org>;']\n",
      "['<source@collab.sakaiproject.org>;']\n",
      "['apache@localhost)']\n",
      "['source@collab.sakaiproject.org;']\n",
      "['gsilver@umich.edu']\n",
      "['source@collab.sakaiproject.org']\n",
      "['gsilver@umich.edu']\n",
      "['gsilver@umich.edu']\n",
      "['zqian@umich.edu']\n",
      "['<postmaster@collab.sakaiproject.org>']\n",
      "['<200801041609.m04G9EuX007197@nakamura.uits.iupui.edu>']\n",
      "['<source@collab.sakaiproject.org>;']\n",
      "['<source@collab.sakaiproject.org>;']\n",
      "['<source@collab.sakaiproject.org>;']\n",
      "['apache@localhost)']\n",
      "['source@collab.sakaiproject.org;']\n",
      "['zqian@umich.edu']\n",
      "['source@collab.sakaiproject.org']\n",
      "['zqian@umich.edu']\n",
      "['zqian@umich.edu']\n",
      "['gsilver@umich.edu']\n",
      "['<postmaster@collab.sakaiproject.org>']\n",
      "['<200801041608.m04G8d7w007184@nakamura.uits.iupui.edu>']\n",
      "['<source@collab.sakaiproject.org>;']\n",
      "['<source@collab.sakaiproject.org>;']\n",
      "['<source@collab.sakaiproject.org>;']\n",
      "['apache@localhost)']\n",
      "['source@collab.sakaiproject.org;']\n",
      "['gsilver@umich.edu']\n",
      "['source@collab.sakaiproject.org']\n",
      "['gsilver@umich.edu']\n",
      "['gsilver@umich.edu']\n",
      "['wagnermr@iupui.edu']\n",
      "['<postmaster@collab.sakaiproject.org>']\n",
      "['<200801041537.m04Fb6Ci007092@nakamura.uits.iupui.edu>']\n",
      "['<source@collab.sakaiproject.org>;']\n",
      "['<source@collab.sakaiproject.org>;']\n",
      "['<source@collab.sakaiproject.org>;']\n",
      "['apache@localhost)']\n",
      "['source@collab.sakaiproject.org;']\n",
      "['wagnermr@iupui.edu']\n",
      "['source@collab.sakaiproject.org']\n",
      "['wagnermr@iupui.edu']\n",
      "['wagnermr@iupui.edu']\n",
      "['zqian@umich.edu']\n",
      "['<postmaster@collab.sakaiproject.org>']\n",
      "['<200801041515.m04FFv42007050@nakamura.uits.iupui.edu>']\n",
      "['<source@collab.sakaiproject.org>;']\n",
      "['<source@collab.sakaiproject.org>;']\n",
      "['<source@collab.sakaiproject.org>;']\n",
      "['apache@localhost)']\n",
      "['source@collab.sakaiproject.org;']\n",
      "['zqian@umich.edu']\n",
      "['source@collab.sakaiproject.org']\n",
      "['zqian@umich.edu']\n",
      "['zqian@umich.edu']\n",
      "['antranig@caret.cam.ac.uk']\n",
      "['<postmaster@collab.sakaiproject.org>']\n",
      "['<200801041502.m04F21Jo007031@nakamura.uits.iupui.edu>']\n",
      "['<source@collab.sakaiproject.org>;']\n",
      "['<source@collab.sakaiproject.org>;']\n",
      "['<source@collab.sakaiproject.org>;']\n",
      "['apache@localhost)']\n",
      "['source@collab.sakaiproject.org;']\n",
      "['antranig@caret.cam.ac.uk']\n",
      "['source@collab.sakaiproject.org']\n",
      "['antranig@caret.cam.ac.uk']\n",
      "['antranig@caret.cam.ac.uk']\n",
      "['gopal.ramasammycook@gmail.com']\n",
      "['<postmaster@collab.sakaiproject.org>']\n",
      "['<200801041403.m04E3psW006926@nakamura.uits.iupui.edu>']\n",
      "['<source@collab.sakaiproject.org>;']\n",
      "['<source@collab.sakaiproject.org>;']\n",
      "['<source@collab.sakaiproject.org>;']\n",
      "['apache@localhost)']\n",
      "['source@collab.sakaiproject.org;']\n",
      "['gopal.ramasammycook@gmail.com']\n",
      "['source@collab.sakaiproject.org']\n",
      "['gopal.ramasammycook@gmail.com']\n",
      "['gopal.ramasammycook@gmail.com']\n",
      "['david.horwitz@uct.ac.za']\n",
      "['<postmaster@collab.sakaiproject.org>']\n",
      "['<200801041200.m04C0gfK006793@nakamura.uits.iupui.edu>']\n",
      "['<source@collab.sakaiproject.org>;']\n",
      "['<source@collab.sakaiproject.org>;']\n",
      "['<source@collab.sakaiproject.org>;']\n",
      "['apache@localhost)']\n",
      "['source@collab.sakaiproject.org;']\n",
      "['david.horwitz@uct.ac.za']\n",
      "['source@collab.sakaiproject.org']\n",
      "['david.horwitz@uct.ac.za']\n",
      "['david.horwitz@uct.ac.za']\n",
      "['david.horwitz@uct.ac.za']\n",
      "['dhorwitz@david-horwitz-6:~/branchManagemnt/sakai_2-5-x>']\n",
      "['dhorwitz@david-horwitz-6:~/branchManagemnt/sakai_2-5-x>']\n",
      "['david.horwitz@uct.ac.za']\n",
      "['<postmaster@collab.sakaiproject.org>']\n",
      "['<200801041106.m04B6lK3006677@nakamura.uits.iupui.edu>']\n",
      "['<source@collab.sakaiproject.org>;']\n",
      "['<source@collab.sakaiproject.org>;']\n",
      "['<source@collab.sakaiproject.org>;']\n",
      "['apache@localhost)']\n",
      "['source@collab.sakaiproject.org;']\n",
      "['david.horwitz@uct.ac.za']\n",
      "['source@collab.sakaiproject.org']\n",
      "['david.horwitz@uct.ac.za']\n",
      "['david.horwitz@uct.ac.za']\n",
      "['david.horwitz@uct.ac.za']\n",
      "['<postmaster@collab.sakaiproject.org>']\n",
      "['<200801040947.m049lUxo006517@nakamura.uits.iupui.edu>']\n",
      "['<source@collab.sakaiproject.org>;']\n",
      "['<source@collab.sakaiproject.org>;']\n",
      "['<source@collab.sakaiproject.org>;']\n",
      "['apache@localhost)']\n",
      "['source@collab.sakaiproject.org;']\n",
      "['david.horwitz@uct.ac.za']\n",
      "['source@collab.sakaiproject.org']\n",
      "['david.horwitz@uct.ac.za']\n",
      "['david.horwitz@uct.ac.za']\n",
      "['josrodri@iupui.edu']\n",
      "['dhorwitz@david-horwitz-6:~/branchManagemnt/sakai_2-5-x>']\n",
      "['david.horwitz@uct.ac.za']\n",
      "['<postmaster@collab.sakaiproject.org>']\n",
      "['<200801040932.m049W2i5006493@nakamura.uits.iupui.edu>']\n",
      "['<source@collab.sakaiproject.org>;']\n",
      "['<source@collab.sakaiproject.org>;']\n",
      "['<source@collab.sakaiproject.org>;']\n",
      "['apache@localhost)']\n",
      "['source@collab.sakaiproject.org;']\n",
      "['david.horwitz@uct.ac.za']\n",
      "['source@collab.sakaiproject.org']\n",
      "['david.horwitz@uct.ac.za']\n",
      "['david.horwitz@uct.ac.za']\n",
      "['josrodri@iupui.edu']\n",
      "['dhorwitz@david-horwitz-6:~/branchManagemnt/sakai_2-5-x>']\n",
      "['stephen.marquard@uct.ac.za']\n",
      "['<postmaster@collab.sakaiproject.org>']\n",
      "['<200801040905.m0495rWB006420@nakamura.uits.iupui.edu>']\n",
      "['<source@collab.sakaiproject.org>;']\n",
      "['<source@collab.sakaiproject.org>;']\n",
      "['<source@collab.sakaiproject.org>;']\n",
      "['apache@localhost)']\n",
      "['source@collab.sakaiproject.org;']\n",
      "['stephen.marquard@uct.ac.za']\n",
      "['source@collab.sakaiproject.org']\n",
      "['stephen.marquard@uct.ac.za']\n",
      "['stephen.marquard@uct.ac.za']\n",
      "['louis@media.berkeley.edu']\n",
      "['<postmaster@collab.sakaiproject.org>']\n",
      "['<200801040023.m040NpCc005473@nakamura.uits.iupui.edu>']\n",
      "['<source@collab.sakaiproject.org>;']\n",
      "['<source@collab.sakaiproject.org>;']\n",
      "['<source@collab.sakaiproject.org>;']\n",
      "['apache@localhost)']\n",
      "['source@collab.sakaiproject.org;']\n",
      "['louis@media.berkeley.edu']\n",
      "['source@collab.sakaiproject.org']\n",
      "['louis@media.berkeley.edu']\n",
      "['louis@media.berkeley.edu']\n",
      "['louis@media.berkeley.edu']\n",
      "['<postmaster@collab.sakaiproject.org>']\n",
      "['<200801032216.m03MGhDa005292@nakamura.uits.iupui.edu>']\n",
      "['<source@collab.sakaiproject.org>;']\n",
      "['<source@collab.sakaiproject.org>;']\n",
      "['<source@collab.sakaiproject.org>;']\n",
      "['apache@localhost)']\n",
      "['source@collab.sakaiproject.org;']\n",
      "['louis@media.berkeley.edu']\n",
      "['source@collab.sakaiproject.org']\n",
      "['louis@media.berkeley.edu']\n",
      "['louis@media.berkeley.edu']\n",
      "['ray@media.berkeley.edu']\n",
      "['<postmaster@collab.sakaiproject.org>']\n",
      "['<200801032205.m03M5Ea7005273@nakamura.uits.iupui.edu>']\n",
      "['<source@collab.sakaiproject.org>;']\n",
      "['<source@collab.sakaiproject.org>;']\n",
      "['<source@collab.sakaiproject.org>;']\n",
      "['apache@localhost)']\n",
      "['source@collab.sakaiproject.org;']\n",
      "['ray@media.berkeley.edu']\n",
      "['source@collab.sakaiproject.org']\n",
      "['ray@media.berkeley.edu']\n",
      "['ray@media.berkeley.edu']\n",
      "['cwen@iupui.edu']\n",
      "['<postmaster@collab.sakaiproject.org>']\n",
      "['<200801032133.m03LX3gG005191@nakamura.uits.iupui.edu>']\n",
      "['<source@collab.sakaiproject.org>;']\n",
      "['<source@collab.sakaiproject.org>;']\n",
      "['<source@collab.sakaiproject.org>;']\n",
      "['apache@localhost)']\n",
      "['source@collab.sakaiproject.org;']\n",
      "['cwen@iupui.edu']\n",
      "['source@collab.sakaiproject.org']\n",
      "['cwen@iupui.edu']\n",
      "['cwen@iupui.edu']\n",
      "['cwen@iupui.edu']\n",
      "['<postmaster@collab.sakaiproject.org>']\n",
      "['<200801032127.m03LRUqH005177@nakamura.uits.iupui.edu>']\n",
      "['<source@collab.sakaiproject.org>;']\n",
      "['<source@collab.sakaiproject.org>;']\n",
      "['<source@collab.sakaiproject.org>;']\n",
      "['apache@localhost)']\n",
      "['source@collab.sakaiproject.org;']\n",
      "['cwen@iupui.edu']\n",
      "['source@collab.sakaiproject.org']\n",
      "['cwen@iupui.edu']\n",
      "['cwen@iupui.edu']\n",
      "['wagnermr@iupui.edu']\n",
      "['cwen@iupui.edu']\n",
      "['<postmaster@collab.sakaiproject.org>']\n",
      "['<200801032122.m03LMFo4005148@nakamura.uits.iupui.edu>']\n",
      "['<source@collab.sakaiproject.org>;']\n",
      "['<source@collab.sakaiproject.org>;']\n",
      "['<source@collab.sakaiproject.org>;']\n",
      "['apache@localhost)']\n",
      "['source@collab.sakaiproject.org;']\n",
      "['cwen@iupui.edu']\n",
      "['source@collab.sakaiproject.org']\n",
      "['cwen@iupui.edu']\n",
      "['cwen@iupui.edu']\n",
      "['wagnermr@iupui.edu']\n"
     ]
    }
   ],
   "source": [
    "# Search for lines that have email addresses\n",
    "import re\n",
    "hand = open('mbox-short.txt')\n",
    "for line in hand:\n",
    "    line = line.rstrip()\n",
    "    x = re.findall('\\S+@\\S+', line)\n",
    "    if len(x) > 0:\n",
    "        print(x)"
   ]
  },
  {
   "cell_type": "code",
   "execution_count": 12,
   "metadata": {},
   "outputs": [
    {
     "name": "stdout",
     "output_type": "stream",
     "text": [
      "['stephen.marquard@uct.ac.za']\n",
      "['postmaster@collab.sakaiproject.org']\n",
      "['200801051412.m05ECIaH010327@nakamura.uits.iupui.edu']\n",
      "['source@collab.sakaiproject.org']\n",
      "['source@collab.sakaiproject.org']\n",
      "['source@collab.sakaiproject.org']\n",
      "['apache@localhost']\n",
      "['source@collab.sakaiproject.org']\n",
      "['stephen.marquard@uct.ac.za']\n",
      "['source@collab.sakaiproject.org']\n",
      "['stephen.marquard@uct.ac.za']\n",
      "['stephen.marquard@uct.ac.za']\n",
      "['louis@media.berkeley.edu']\n",
      "['postmaster@collab.sakaiproject.org']\n",
      "['200801042308.m04N8v6O008125@nakamura.uits.iupui.edu']\n",
      "['source@collab.sakaiproject.org']\n",
      "['source@collab.sakaiproject.org']\n",
      "['source@collab.sakaiproject.org']\n",
      "['apache@localhost']\n",
      "['source@collab.sakaiproject.org']\n",
      "['louis@media.berkeley.edu']\n",
      "['source@collab.sakaiproject.org']\n",
      "['louis@media.berkeley.edu']\n",
      "['louis@media.berkeley.edu']\n",
      "['zqian@umich.edu']\n",
      "['postmaster@collab.sakaiproject.org']\n",
      "['200801042109.m04L92hb007923@nakamura.uits.iupui.edu']\n",
      "['source@collab.sakaiproject.org']\n",
      "['source@collab.sakaiproject.org']\n",
      "['source@collab.sakaiproject.org']\n",
      "['apache@localhost']\n",
      "['source@collab.sakaiproject.org']\n",
      "['zqian@umich.edu']\n",
      "['source@collab.sakaiproject.org']\n",
      "['zqian@umich.edu']\n",
      "['zqian@umich.edu']\n",
      "['rjlowe@iupui.edu']\n",
      "['postmaster@collab.sakaiproject.org']\n",
      "['200801042044.m04Kiem3007881@nakamura.uits.iupui.edu']\n",
      "['source@collab.sakaiproject.org']\n",
      "['source@collab.sakaiproject.org']\n",
      "['source@collab.sakaiproject.org']\n",
      "['apache@localhost']\n",
      "['source@collab.sakaiproject.org']\n",
      "['rjlowe@iupui.edu']\n",
      "['source@collab.sakaiproject.org']\n",
      "['rjlowe@iupui.edu']\n",
      "['rjlowe@iupui.edu']\n",
      "['zqian@umich.edu']\n",
      "['postmaster@collab.sakaiproject.org']\n",
      "['200801042001.m04K1cO0007738@nakamura.uits.iupui.edu']\n",
      "['source@collab.sakaiproject.org']\n",
      "['source@collab.sakaiproject.org']\n",
      "['source@collab.sakaiproject.org']\n",
      "['apache@localhost']\n",
      "['source@collab.sakaiproject.org']\n",
      "['zqian@umich.edu']\n",
      "['source@collab.sakaiproject.org']\n",
      "['zqian@umich.edu']\n",
      "['zqian@umich.edu']\n",
      "['zqian@umich.edu']\n",
      "['rjlowe@iupui.edu']\n",
      "['postmaster@collab.sakaiproject.org']\n",
      "['200801041948.m04JmdwO007705@nakamura.uits.iupui.edu']\n",
      "['source@collab.sakaiproject.org']\n",
      "['source@collab.sakaiproject.org']\n",
      "['source@collab.sakaiproject.org']\n",
      "['apache@localhost']\n",
      "['source@collab.sakaiproject.org']\n",
      "['rjlowe@iupui.edu']\n",
      "['source@collab.sakaiproject.org']\n",
      "['rjlowe@iupui.edu']\n",
      "['rjlowe@iupui.edu']\n",
      "['cwen@iupui.edu']\n",
      "['postmaster@collab.sakaiproject.org']\n",
      "['200801041635.m04GZQGZ007313@nakamura.uits.iupui.edu']\n",
      "['source@collab.sakaiproject.org']\n",
      "['source@collab.sakaiproject.org']\n",
      "['source@collab.sakaiproject.org']\n",
      "['apache@localhost']\n",
      "['source@collab.sakaiproject.org']\n",
      "['cwen@iupui.edu']\n",
      "['source@collab.sakaiproject.org']\n",
      "['cwen@iupui.edu']\n",
      "['cwen@iupui.edu']\n",
      "['hu2@iupui.edu']\n",
      "['cwen@iupui.edu']\n",
      "['postmaster@collab.sakaiproject.org']\n",
      "['200801041633.m04GX6eG007292@nakamura.uits.iupui.edu']\n",
      "['source@collab.sakaiproject.org']\n",
      "['source@collab.sakaiproject.org']\n",
      "['source@collab.sakaiproject.org']\n",
      "['apache@localhost']\n",
      "['source@collab.sakaiproject.org']\n",
      "['cwen@iupui.edu']\n",
      "['source@collab.sakaiproject.org']\n",
      "['cwen@iupui.edu']\n",
      "['cwen@iupui.edu']\n",
      "['hu2@iupui.edu']\n",
      "['gsilver@umich.edu']\n",
      "['postmaster@collab.sakaiproject.org']\n",
      "['200801041611.m04GB1Lb007221@nakamura.uits.iupui.edu']\n",
      "['source@collab.sakaiproject.org']\n",
      "['source@collab.sakaiproject.org']\n",
      "['source@collab.sakaiproject.org']\n",
      "['apache@localhost']\n",
      "['source@collab.sakaiproject.org']\n",
      "['gsilver@umich.edu']\n",
      "['source@collab.sakaiproject.org']\n",
      "['gsilver@umich.edu']\n",
      "['gsilver@umich.edu']\n",
      "['gsilver@umich.edu']\n",
      "['postmaster@collab.sakaiproject.org']\n",
      "['200801041610.m04GA5KP007209@nakamura.uits.iupui.edu']\n",
      "['source@collab.sakaiproject.org']\n",
      "['source@collab.sakaiproject.org']\n",
      "['source@collab.sakaiproject.org']\n",
      "['apache@localhost']\n",
      "['source@collab.sakaiproject.org']\n",
      "['gsilver@umich.edu']\n",
      "['source@collab.sakaiproject.org']\n",
      "['gsilver@umich.edu']\n",
      "['gsilver@umich.edu']\n",
      "['zqian@umich.edu']\n",
      "['postmaster@collab.sakaiproject.org']\n",
      "['200801041609.m04G9EuX007197@nakamura.uits.iupui.edu']\n",
      "['source@collab.sakaiproject.org']\n",
      "['source@collab.sakaiproject.org']\n",
      "['source@collab.sakaiproject.org']\n",
      "['apache@localhost']\n",
      "['source@collab.sakaiproject.org']\n",
      "['zqian@umich.edu']\n",
      "['source@collab.sakaiproject.org']\n",
      "['zqian@umich.edu']\n",
      "['zqian@umich.edu']\n",
      "['gsilver@umich.edu']\n",
      "['postmaster@collab.sakaiproject.org']\n",
      "['200801041608.m04G8d7w007184@nakamura.uits.iupui.edu']\n",
      "['source@collab.sakaiproject.org']\n",
      "['source@collab.sakaiproject.org']\n",
      "['source@collab.sakaiproject.org']\n",
      "['apache@localhost']\n",
      "['source@collab.sakaiproject.org']\n",
      "['gsilver@umich.edu']\n",
      "['source@collab.sakaiproject.org']\n",
      "['gsilver@umich.edu']\n",
      "['gsilver@umich.edu']\n",
      "['wagnermr@iupui.edu']\n",
      "['postmaster@collab.sakaiproject.org']\n",
      "['200801041537.m04Fb6Ci007092@nakamura.uits.iupui.edu']\n",
      "['source@collab.sakaiproject.org']\n",
      "['source@collab.sakaiproject.org']\n",
      "['source@collab.sakaiproject.org']\n",
      "['apache@localhost']\n",
      "['source@collab.sakaiproject.org']\n",
      "['wagnermr@iupui.edu']\n",
      "['source@collab.sakaiproject.org']\n",
      "['wagnermr@iupui.edu']\n",
      "['wagnermr@iupui.edu']\n",
      "['zqian@umich.edu']\n",
      "['postmaster@collab.sakaiproject.org']\n",
      "['200801041515.m04FFv42007050@nakamura.uits.iupui.edu']\n",
      "['source@collab.sakaiproject.org']\n",
      "['source@collab.sakaiproject.org']\n",
      "['source@collab.sakaiproject.org']\n",
      "['apache@localhost']\n",
      "['source@collab.sakaiproject.org']\n",
      "['zqian@umich.edu']\n",
      "['source@collab.sakaiproject.org']\n",
      "['zqian@umich.edu']\n",
      "['zqian@umich.edu']\n",
      "['antranig@caret.cam.ac.uk']\n",
      "['postmaster@collab.sakaiproject.org']\n",
      "['200801041502.m04F21Jo007031@nakamura.uits.iupui.edu']\n",
      "['source@collab.sakaiproject.org']\n",
      "['source@collab.sakaiproject.org']\n",
      "['source@collab.sakaiproject.org']\n",
      "['apache@localhost']\n",
      "['source@collab.sakaiproject.org']\n",
      "['antranig@caret.cam.ac.uk']\n",
      "['source@collab.sakaiproject.org']\n",
      "['antranig@caret.cam.ac.uk']\n",
      "['antranig@caret.cam.ac.uk']\n",
      "['gopal.ramasammycook@gmail.com']\n",
      "['postmaster@collab.sakaiproject.org']\n",
      "['200801041403.m04E3psW006926@nakamura.uits.iupui.edu']\n",
      "['source@collab.sakaiproject.org']\n",
      "['source@collab.sakaiproject.org']\n",
      "['source@collab.sakaiproject.org']\n",
      "['apache@localhost']\n",
      "['source@collab.sakaiproject.org']\n",
      "['gopal.ramasammycook@gmail.com']\n",
      "['source@collab.sakaiproject.org']\n",
      "['gopal.ramasammycook@gmail.com']\n",
      "['gopal.ramasammycook@gmail.com']\n",
      "['david.horwitz@uct.ac.za']\n",
      "['postmaster@collab.sakaiproject.org']\n",
      "['200801041200.m04C0gfK006793@nakamura.uits.iupui.edu']\n",
      "['source@collab.sakaiproject.org']\n",
      "['source@collab.sakaiproject.org']\n",
      "['source@collab.sakaiproject.org']\n",
      "['apache@localhost']\n",
      "['source@collab.sakaiproject.org']\n",
      "['david.horwitz@uct.ac.za']\n",
      "['source@collab.sakaiproject.org']\n",
      "['david.horwitz@uct.ac.za']\n",
      "['david.horwitz@uct.ac.za']\n",
      "['david.horwitz@uct.ac.za']\n",
      "['dhorwitz@david-horwitz-6:~/branchManagemnt/sakai_2-5-x']\n",
      "['dhorwitz@david-horwitz-6:~/branchManagemnt/sakai_2-5-x']\n",
      "['david.horwitz@uct.ac.za']\n",
      "['postmaster@collab.sakaiproject.org']\n",
      "['200801041106.m04B6lK3006677@nakamura.uits.iupui.edu']\n",
      "['source@collab.sakaiproject.org']\n",
      "['source@collab.sakaiproject.org']\n",
      "['source@collab.sakaiproject.org']\n",
      "['apache@localhost']\n",
      "['source@collab.sakaiproject.org']\n",
      "['david.horwitz@uct.ac.za']\n",
      "['source@collab.sakaiproject.org']\n",
      "['david.horwitz@uct.ac.za']\n",
      "['david.horwitz@uct.ac.za']\n",
      "['david.horwitz@uct.ac.za']\n",
      "['postmaster@collab.sakaiproject.org']\n",
      "['200801040947.m049lUxo006517@nakamura.uits.iupui.edu']\n",
      "['source@collab.sakaiproject.org']\n",
      "['source@collab.sakaiproject.org']\n",
      "['source@collab.sakaiproject.org']\n",
      "['apache@localhost']\n",
      "['source@collab.sakaiproject.org']\n",
      "['david.horwitz@uct.ac.za']\n",
      "['source@collab.sakaiproject.org']\n",
      "['david.horwitz@uct.ac.za']\n",
      "['david.horwitz@uct.ac.za']\n",
      "['josrodri@iupui.edu']\n",
      "['dhorwitz@david-horwitz-6:~/branchManagemnt/sakai_2-5-x']\n",
      "['david.horwitz@uct.ac.za']\n",
      "['postmaster@collab.sakaiproject.org']\n",
      "['200801040932.m049W2i5006493@nakamura.uits.iupui.edu']\n",
      "['source@collab.sakaiproject.org']\n",
      "['source@collab.sakaiproject.org']\n",
      "['source@collab.sakaiproject.org']\n",
      "['apache@localhost']\n",
      "['source@collab.sakaiproject.org']\n",
      "['david.horwitz@uct.ac.za']\n",
      "['source@collab.sakaiproject.org']\n",
      "['david.horwitz@uct.ac.za']\n",
      "['david.horwitz@uct.ac.za']\n",
      "['josrodri@iupui.edu']\n",
      "['dhorwitz@david-horwitz-6:~/branchManagemnt/sakai_2-5-x']\n",
      "['stephen.marquard@uct.ac.za']\n",
      "['postmaster@collab.sakaiproject.org']\n",
      "['200801040905.m0495rWB006420@nakamura.uits.iupui.edu']\n",
      "['source@collab.sakaiproject.org']\n",
      "['source@collab.sakaiproject.org']\n",
      "['source@collab.sakaiproject.org']\n",
      "['apache@localhost']\n",
      "['source@collab.sakaiproject.org']\n",
      "['stephen.marquard@uct.ac.za']\n",
      "['source@collab.sakaiproject.org']\n",
      "['stephen.marquard@uct.ac.za']\n",
      "['stephen.marquard@uct.ac.za']\n",
      "['louis@media.berkeley.edu']\n",
      "['postmaster@collab.sakaiproject.org']\n",
      "['200801040023.m040NpCc005473@nakamura.uits.iupui.edu']\n",
      "['source@collab.sakaiproject.org']\n",
      "['source@collab.sakaiproject.org']\n",
      "['source@collab.sakaiproject.org']\n",
      "['apache@localhost']\n",
      "['source@collab.sakaiproject.org']\n",
      "['louis@media.berkeley.edu']\n",
      "['source@collab.sakaiproject.org']\n",
      "['louis@media.berkeley.edu']\n",
      "['louis@media.berkeley.edu']\n",
      "['louis@media.berkeley.edu']\n",
      "['postmaster@collab.sakaiproject.org']\n",
      "['200801032216.m03MGhDa005292@nakamura.uits.iupui.edu']\n",
      "['source@collab.sakaiproject.org']\n",
      "['source@collab.sakaiproject.org']\n",
      "['source@collab.sakaiproject.org']\n",
      "['apache@localhost']\n",
      "['source@collab.sakaiproject.org']\n",
      "['louis@media.berkeley.edu']\n",
      "['source@collab.sakaiproject.org']\n",
      "['louis@media.berkeley.edu']\n",
      "['louis@media.berkeley.edu']\n",
      "['ray@media.berkeley.edu']\n",
      "['postmaster@collab.sakaiproject.org']\n",
      "['200801032205.m03M5Ea7005273@nakamura.uits.iupui.edu']\n",
      "['source@collab.sakaiproject.org']\n",
      "['source@collab.sakaiproject.org']\n",
      "['source@collab.sakaiproject.org']\n",
      "['apache@localhost']\n",
      "['source@collab.sakaiproject.org']\n",
      "['ray@media.berkeley.edu']\n",
      "['source@collab.sakaiproject.org']\n",
      "['ray@media.berkeley.edu']\n",
      "['ray@media.berkeley.edu']\n",
      "['cwen@iupui.edu']\n",
      "['postmaster@collab.sakaiproject.org']\n",
      "['200801032133.m03LX3gG005191@nakamura.uits.iupui.edu']\n",
      "['source@collab.sakaiproject.org']\n",
      "['source@collab.sakaiproject.org']\n",
      "['source@collab.sakaiproject.org']\n",
      "['apache@localhost']\n",
      "['source@collab.sakaiproject.org']\n",
      "['cwen@iupui.edu']\n",
      "['source@collab.sakaiproject.org']\n",
      "['cwen@iupui.edu']\n",
      "['cwen@iupui.edu']\n",
      "['cwen@iupui.edu']\n",
      "['postmaster@collab.sakaiproject.org']\n",
      "['200801032127.m03LRUqH005177@nakamura.uits.iupui.edu']\n",
      "['source@collab.sakaiproject.org']\n",
      "['source@collab.sakaiproject.org']\n",
      "['source@collab.sakaiproject.org']\n",
      "['apache@localhost']\n",
      "['source@collab.sakaiproject.org']\n",
      "['cwen@iupui.edu']\n",
      "['source@collab.sakaiproject.org']\n",
      "['cwen@iupui.edu']\n",
      "['cwen@iupui.edu']\n",
      "['wagnermr@iupui.edu']\n",
      "['cwen@iupui.edu']\n",
      "['postmaster@collab.sakaiproject.org']\n",
      "['200801032122.m03LMFo4005148@nakamura.uits.iupui.edu']\n",
      "['source@collab.sakaiproject.org']\n",
      "['source@collab.sakaiproject.org']\n",
      "['source@collab.sakaiproject.org']\n",
      "['apache@localhost']\n",
      "['source@collab.sakaiproject.org']\n",
      "['cwen@iupui.edu']\n",
      "['source@collab.sakaiproject.org']\n",
      "['cwen@iupui.edu']\n",
      "['cwen@iupui.edu']\n",
      "['wagnermr@iupui.edu']\n"
     ]
    }
   ],
   "source": [
    "# Search for lines that have email addresses.The characters must be a letter or number\n",
    "import re\n",
    "hand = open('mbox-short.txt')\n",
    "for line in hand:\n",
    "    line = line.rstrip()\n",
    "    x = re.findall('[a-zA-Z0-9]\\S*@\\S*[a-zA-Z0-9]', line)\n",
    "    if len(x) > 0:\n",
    "        print(x)"
   ]
  },
  {
   "cell_type": "code",
   "execution_count": 13,
   "metadata": {},
   "outputs": [
    {
     "name": "stdout",
     "output_type": "stream",
     "text": [
      "X-DSPAM-Confidence: 0.8475\n",
      "X-DSPAM-Probability: 0.0000\n",
      "X-DSPAM-Confidence: 0.6178\n",
      "X-DSPAM-Probability: 0.0000\n",
      "X-DSPAM-Confidence: 0.6961\n",
      "X-DSPAM-Probability: 0.0000\n",
      "X-DSPAM-Confidence: 0.7565\n",
      "X-DSPAM-Probability: 0.0000\n",
      "X-DSPAM-Confidence: 0.7626\n",
      "X-DSPAM-Probability: 0.0000\n",
      "X-DSPAM-Confidence: 0.7556\n",
      "X-DSPAM-Probability: 0.0000\n",
      "X-DSPAM-Confidence: 0.7002\n",
      "X-DSPAM-Probability: 0.0000\n",
      "X-DSPAM-Confidence: 0.7615\n",
      "X-DSPAM-Probability: 0.0000\n",
      "X-DSPAM-Confidence: 0.7601\n",
      "X-DSPAM-Probability: 0.0000\n",
      "X-DSPAM-Confidence: 0.7605\n",
      "X-DSPAM-Probability: 0.0000\n",
      "X-DSPAM-Confidence: 0.6959\n",
      "X-DSPAM-Probability: 0.0000\n",
      "X-DSPAM-Confidence: 0.7606\n",
      "X-DSPAM-Probability: 0.0000\n",
      "X-DSPAM-Confidence: 0.7559\n",
      "X-DSPAM-Probability: 0.0000\n",
      "X-DSPAM-Confidence: 0.7605\n",
      "X-DSPAM-Probability: 0.0000\n",
      "X-DSPAM-Confidence: 0.6932\n",
      "X-DSPAM-Probability: 0.0000\n",
      "X-DSPAM-Confidence: 0.7558\n",
      "X-DSPAM-Probability: 0.0000\n",
      "X-DSPAM-Confidence: 0.6526\n",
      "X-DSPAM-Probability: 0.0000\n",
      "X-DSPAM-Confidence: 0.6948\n",
      "X-DSPAM-Probability: 0.0000\n",
      "X-DSPAM-Confidence: 0.6528\n",
      "X-DSPAM-Probability: 0.0000\n",
      "X-DSPAM-Confidence: 0.7002\n",
      "X-DSPAM-Probability: 0.0000\n",
      "X-DSPAM-Confidence: 0.7554\n",
      "X-DSPAM-Probability: 0.0000\n",
      "X-DSPAM-Confidence: 0.6956\n",
      "X-DSPAM-Probability: 0.0000\n",
      "X-DSPAM-Confidence: 0.6959\n",
      "X-DSPAM-Probability: 0.0000\n",
      "X-DSPAM-Confidence: 0.7556\n",
      "X-DSPAM-Probability: 0.0000\n",
      "X-DSPAM-Confidence: 0.9846\n",
      "X-DSPAM-Probability: 0.0000\n",
      "X-DSPAM-Confidence: 0.8509\n",
      "X-DSPAM-Probability: 0.0000\n",
      "X-DSPAM-Confidence: 0.9907\n",
      "X-DSPAM-Probability: 0.0000\n"
     ]
    }
   ],
   "source": [
    "# Search for lines that start with 'X' followed by any non whitespace characters and ':' followed by a space\n",
    "# and any number. The number can include a decimal.Then print the line.\n",
    "import re\n",
    "hand = open('mbox-short.txt')\n",
    "for line in hand:\n",
    "    line = line.rstrip()\n",
    "    if re.search('^X-\\S*: [0-9.]+', line):\n",
    "        print(line)"
   ]
  },
  {
   "cell_type": "code",
   "execution_count": 14,
   "metadata": {},
   "outputs": [
    {
     "name": "stdout",
     "output_type": "stream",
     "text": [
      "['0.8475']\n",
      "['0.0000']\n",
      "['0.6178']\n",
      "['0.0000']\n",
      "['0.6961']\n",
      "['0.0000']\n",
      "['0.7565']\n",
      "['0.0000']\n",
      "['0.7626']\n",
      "['0.0000']\n",
      "['0.7556']\n",
      "['0.0000']\n",
      "['0.7002']\n",
      "['0.0000']\n",
      "['0.7615']\n",
      "['0.0000']\n",
      "['0.7601']\n",
      "['0.0000']\n",
      "['0.7605']\n",
      "['0.0000']\n",
      "['0.6959']\n",
      "['0.0000']\n",
      "['0.7606']\n",
      "['0.0000']\n",
      "['0.7559']\n",
      "['0.0000']\n",
      "['0.7605']\n",
      "['0.0000']\n",
      "['0.6932']\n",
      "['0.0000']\n",
      "['0.7558']\n",
      "['0.0000']\n",
      "['0.6526']\n",
      "['0.0000']\n",
      "['0.6948']\n",
      "['0.0000']\n",
      "['0.6528']\n",
      "['0.0000']\n",
      "['0.7002']\n",
      "['0.0000']\n",
      "['0.7554']\n",
      "['0.0000']\n",
      "['0.6956']\n",
      "['0.0000']\n",
      "['0.6959']\n",
      "['0.0000']\n",
      "['0.7556']\n",
      "['0.0000']\n",
      "['0.9846']\n",
      "['0.0000']\n",
      "['0.8509']\n",
      "['0.0000']\n",
      "['0.9907']\n",
      "['0.0000']\n"
     ]
    }
   ],
   "source": [
    "# Search for lines that start with 'X' followed by any non whitespace characters and ':' followed by a space\n",
    "# and any number. The number can include a decimal.Then print the number if it is greater than zero.\n",
    "import re\n",
    "hand = open('mbox-short.txt')\n",
    "for line in hand:\n",
    "    line = line.rstrip()\n",
    "    x = re.findall('^X\\S*: ([0-9.]+)', line)  # ( ) - stuff inside paranthesis will be extracted.\n",
    "    if len(x) > 0:\n",
    "        print(x)"
   ]
  },
  {
   "cell_type": "code",
   "execution_count": 15,
   "metadata": {},
   "outputs": [
    {
     "name": "stdout",
     "output_type": "stream",
     "text": [
      "['39772']\n",
      "['39771']\n",
      "['39770']\n",
      "['39769']\n",
      "['39766']\n",
      "['39765']\n",
      "['39764']\n",
      "['39763']\n",
      "['39762']\n",
      "['39761']\n",
      "['39760']\n",
      "['39759']\n",
      "['39758']\n",
      "['39757']\n",
      "['39756']\n",
      "['39755']\n",
      "['39754']\n",
      "['39753']\n",
      "['39752']\n",
      "['39751']\n",
      "['39750']\n",
      "['39749']\n",
      "['39746']\n",
      "['39745']\n",
      "['39744']\n",
      "['39743']\n",
      "['39742']\n"
     ]
    }
   ],
   "source": [
    "# Search for lines that start with 'Details: rev=' followed by numbers and '.'. Then print the number if it is greater than zero\n",
    "import re\n",
    "hand = open('mbox-short.txt')\n",
    "for line in hand:\n",
    "    line = line.rstrip()\n",
    "    x = re.findall('^Details:.*rev=([0-9.]+)', line)\n",
    "    if len(x) > 0:\n",
    "        print(x)"
   ]
  },
  {
   "cell_type": "code",
   "execution_count": 16,
   "metadata": {},
   "outputs": [
    {
     "name": "stdout",
     "output_type": "stream",
     "text": [
      "['09']\n",
      "['18']\n",
      "['16']\n",
      "['15']\n",
      "['15']\n",
      "['14']\n",
      "['11']\n",
      "['11']\n",
      "['11']\n",
      "['11']\n",
      "['11']\n",
      "['11']\n",
      "['10']\n",
      "['10']\n",
      "['10']\n",
      "['09']\n",
      "['07']\n",
      "['06']\n",
      "['04']\n",
      "['04']\n",
      "['04']\n",
      "['19']\n",
      "['17']\n",
      "['17']\n",
      "['16']\n",
      "['16']\n",
      "['16']\n"
     ]
    }
   ],
   "source": [
    "# Search for lines that start with From and a character followed by a two digit number between 00 and 99 followed by ':'\n",
    "# From stephen.marquard@uct.ac.za Sat Jan 5 09:14:16 2008  # print Hour of day\n",
    "import re\n",
    "hand = open('mbox-short.txt')\n",
    "for line in hand:\n",
    "    line = line.rstrip()\n",
    "    x = re.findall('^From .* ([0-9][0-9]):', line)\n",
    "    if len(x) > 0:\n",
    "        print(x)"
   ]
  },
  {
   "cell_type": "code",
   "execution_count": 17,
   "metadata": {},
   "outputs": [
    {
     "name": "stdout",
     "output_type": "stream",
     "text": [
      "['$10.00']\n"
     ]
    }
   ],
   "source": [
    "import re\n",
    "x = 'We just received $10.00 for cookies.'\n",
    "y = re.findall('\\$[0-9.]+',x)  # \\$ says $ is a normal sign not end of search\n",
    "print(y)"
   ]
  },
  {
   "cell_type": "markdown",
   "metadata": {},
   "source": [
    "### Exercise"
   ]
  },
  {
   "cell_type": "code",
   "execution_count": 20,
   "metadata": {},
   "outputs": [
    {
     "name": "stdout",
     "output_type": "stream",
     "text": [
      "Enter a regular expression: X\n",
      "mbox-short.txt had 230 lines that matched X\n"
     ]
    }
   ],
   "source": [
    "# Ask the user to enter a regular expression and count the number of lines that matched the regular expression using Grep:\n",
    "import re\n",
    "try:\n",
    "    grep = input ('Enter a regular expression: ')   # ^X,  ^Author,  java$\n",
    "    hand = open('mbox-short.txt')\n",
    "    count = 0\n",
    "    for line in hand:\n",
    "        line = line.rstrip()\n",
    "        x = re.findall(grep, line)\n",
    "        if len(x) > 0:\n",
    "            count +=1    \n",
    "    print ('mbox-short.txt' + \" had \" + str(count) + \" lines that matched \" + str (grep))\n",
    "\n",
    "except:\n",
    "    print ('Incorrect file or regular expression')"
   ]
  },
  {
   "cell_type": "code",
   "execution_count": 21,
   "metadata": {},
   "outputs": [
    {
     "name": "stdout",
     "output_type": "stream",
     "text": [
      "Avg =  39756.92592592593\n"
     ]
    }
   ],
   "source": [
    "# Write a program to look for lines of the form: New Revision: 39772\n",
    "# Extract the number from each of the lines using a regular expression and the findall() method. \n",
    "# Compute the average of the numbers and print out the average as an integer.\n",
    "import re\n",
    "hand = open('mbox-short.txt')\n",
    "lst = []\n",
    "sum = 0\n",
    "for line in hand:\n",
    "    line = line.rstrip()\n",
    "    x = re.findall('^New Revision: ([0-9]+)', line)\n",
    "    if len(x)>0:\n",
    "        lst.append(x)\n",
    "        sum = sum + float(x[0])\n",
    "\n",
    "print('Avg = ', sum/len(lst))\n",
    "        "
   ]
  },
  {
   "cell_type": "code",
   "execution_count": 22,
   "metadata": {},
   "outputs": [
    {
     "name": "stdout",
     "output_type": "stream",
     "text": [
      "[['3036', '7209'], ['4497', '6702', '8454'], ['7449'], ['3665', '7936', '9772'], ['7114'], ['956', '2564'], ['8003', '1704', '3816'], ['6662', '5858', '7777'], ['6482'], ['9634'], ['8805', '7123'], ['9703', '4676', '6373'], ['2834'], ['7221'], ['2981'], ['5415'], ['6872'], ['4806'], ['5460', '8533'], ['3538'], ['9663', '8001', '9795'], ['8752', '1117', '5349'], ['4509'], ['1004', '9258', '4183'], ['4034', '3342'], ['3482', '8567'], ['1052', '8135'], ['5561', '517', '1218'], ['4'], ['8877'], ['8062', '1720'], ['279'], ['2054', '801'], ['918'], ['8687'], ['7073', '1865', '7084'], ['2923', '63'], ['8824'], ['1079', '5801', '5047'], ['5'], ['2572'], ['5616', '171', '3062'], ['9552', '7655'], ['829', '6096', '2312'], ['6015', '7100'], ['9548', '2727', '1792'], ['8402'], ['4', '3'], ['42']]\n",
      "445833.0\n"
     ]
    }
   ],
   "source": [
    "# The problem is to read the file, look for integers using the re.findall(), looking for a regular expression of '[0-9]+'\n",
    "# and then converting the extracted strings to integers and summing up the integers.\n",
    "import re\n",
    "hand = open('Sample.txt')  # For Sample data\n",
    "lst = list()\n",
    "sum = 0\n",
    "for line in hand:\n",
    "    x = re.findall('\\D*([0-9]+)\\D*', line)\n",
    "    if len(x)>0:\n",
    "        lst.append(x)\n",
    "        for i in range(len(x)):\n",
    "            sum = sum + float(x[i])\n",
    "print(lst)\n",
    "print(sum)"
   ]
  },
  {
   "cell_type": "code",
   "execution_count": 23,
   "metadata": {},
   "outputs": [
    {
     "name": "stdout",
     "output_type": "stream",
     "text": [
      "354092.0\n"
     ]
    }
   ],
   "source": [
    "# Coursera assignment to read the file, look for integers using the re.findall(), looking for a regular expression of '[0-9]+'\n",
    "# and then converting the extracted strings to integers and summing up the integers for actual data.\n",
    "import re\n",
    "hand = open('actual.txt')  # For actual data\n",
    "lst = list()\n",
    "sum = 0\n",
    "for line in hand:\n",
    "    line = line.rstrip()\n",
    "    x = re.findall('\\D*([0-9]+)\\D*', line)\n",
    "    if len(x) > 0:\n",
    "        lst.append(x)\n",
    "        for i in range(len(x)):\n",
    "            sum = sum + float(x[i])\n",
    "# print(lst)\n",
    "print(sum) "
   ]
  },
  {
   "cell_type": "markdown",
   "metadata": {},
   "source": [
    "## Chapter - 14 Object Oriented Programming"
   ]
  },
  {
   "cell_type": "code",
   "execution_count": 24,
   "metadata": {},
   "outputs": [
    {
     "name": "stdout",
     "output_type": "stream",
     "text": [
      "So far 1\n",
      "So far 2\n",
      "So far 3\n",
      "So far 4\n"
     ]
    }
   ],
   "source": [
    "class PartyAnimal:\n",
    "    x = 0\n",
    "    def party(self) :\n",
    "        self.x = self.x + 1\n",
    "        print(\"So far\",self.x)\n",
    "\n",
    "an = PartyAnimal()\n",
    "an.party()\n",
    "an.party()\n",
    "an.party()\n",
    "PartyAnimal.party(an)"
   ]
  },
  {
   "cell_type": "code",
   "execution_count": 25,
   "metadata": {},
   "outputs": [
    {
     "name": "stdout",
     "output_type": "stream",
     "text": [
      "Type <class '__main__.PartyAnimal'>\n",
      "Dir  ['__class__', '__delattr__', '__dict__', '__dir__', '__doc__', '__eq__', '__format__', '__ge__', '__getattribute__', '__gt__', '__hash__', '__init__', '__init_subclass__', '__le__', '__lt__', '__module__', '__ne__', '__new__', '__reduce__', '__reduce_ex__', '__repr__', '__setattr__', '__sizeof__', '__str__', '__subclasshook__', '__weakref__', 'party', 'x']\n",
      "Type <class 'int'>\n",
      "Type <class 'method'>\n"
     ]
    }
   ],
   "source": [
    "# Classes as types\n",
    "class PartyAnimal:\n",
    "    x = 0\n",
    "    def party(self) :\n",
    "        self.x = self.x + 1\n",
    "        print(\"So far\",self.x)\n",
    "\n",
    "an = PartyAnimal()\n",
    "print (\"Type\", type(an))\n",
    "print (\"Dir \", dir(an))\n",
    "print (\"Type\", type(an.x))\n",
    "print (\"Type\", type(an.party))"
   ]
  },
  {
   "cell_type": "code",
   "execution_count": 27,
   "metadata": {},
   "outputs": [
    {
     "name": "stdout",
     "output_type": "stream",
     "text": [
      "I am constructed\n",
      "So far 1\n",
      "So far 2\n",
      "I am destructed 2\n",
      "an contains 42\n"
     ]
    }
   ],
   "source": [
    "# Object Lifecycle\n",
    "class PartyAnimal:\n",
    "    x = 0\n",
    "    def __init__(self):                  # Constructor\n",
    "        print('I am constructed')\n",
    "    def party(self) :\n",
    "        self.x = self.x + 1\n",
    "        print('So far',self.x)\n",
    "    def __del__(self):                   # Destructor\n",
    "        print('I am destructed', self.x)\n",
    "\n",
    "an = PartyAnimal()\n",
    "an.party()\n",
    "an.party()\n",
    "an = 42\n",
    "print('an contains',an)"
   ]
  },
  {
   "cell_type": "code",
   "execution_count": 28,
   "metadata": {},
   "outputs": [
    {
     "name": "stdout",
     "output_type": "stream",
     "text": [
      "Sally constructed\n",
      "Jim constructed\n",
      "Sally party count 1\n",
      "Jim party count 1\n",
      "Sally party count 2\n"
     ]
    }
   ],
   "source": [
    "# Multiple Instances\n",
    "class PartyAnimal:\n",
    "    x = 0\n",
    "    name = ''\n",
    "    def __init__(self, nam):\n",
    "        self.name = nam\n",
    "        print(self.name,'constructed')\n",
    "    def party(self) :\n",
    "        self.x = self.x + 1\n",
    "        print(self.name,'party count',self.x)\n",
    "\n",
    "s = PartyAnimal('Sally')\n",
    "j = PartyAnimal('Jim')\n",
    "\n",
    "s.party()\n",
    "j.party()\n",
    "s.party()"
   ]
  },
  {
   "cell_type": "code",
   "execution_count": null,
   "metadata": {},
   "outputs": [],
   "source": [
    "# Inheritance\n",
    "class CricketFan(PartyAnimal):   // CricketFan(child) inherits PartyAnimal(parent)\n",
    "    points = 0\n",
    "    def six(self):\n",
    "        self.points = self.points + 6\n",
    "        self.party()\n",
    "        print(self.name,\"points\",self.points)\n",
    "\n",
    "s = PartyAnimal(\"Sally\")\n",
    "s.party()\n",
    "j = CricketFan(\"Jim\")\n",
    "j.party()\n",
    "j.six()\n",
    "print(dir(j))"
   ]
  },
  {
   "cell_type": "markdown",
   "metadata": {},
   "source": [
    "## Chapter - 12  Networked Programs - Sockets, urllib, beautiful Soup, Web Crawling"
   ]
  },
  {
   "cell_type": "markdown",
   "metadata": {},
   "source": [
    "### Socket Programming - Retrieving data from URLs"
   ]
  },
  {
   "cell_type": "code",
   "execution_count": 38,
   "metadata": {},
   "outputs": [
    {
     "name": "stdout",
     "output_type": "stream",
     "text": [
      "HTTP/1.1 200 OK\r\n",
      "Date: Sun, 20 Jun 2021 14:30:58 GMT\r\n",
      "Server: Apache/2.4.18 (Ubuntu)\r\n",
      "Last-Modified: Sat, 13 May 2017 11:22:22 GMT\r\n",
      "ETag: \"1d3-54f6609240717\"\r\n",
      "Accept-Ranges: bytes\r\n",
      "Content-Length: 467\r\n",
      "Cache-Control: max-age=0, no-cache, no-store, must-revalidate\r\n",
      "Pragma: no-cache\r\n",
      "Expires: Wed, 11 Jan 1984 05:00:00 GMT\r\n",
      "Connection: close\r\n",
      "Content-Type: text/plain\r\n",
      "\r\n",
      "Why should you learn to write programs?\n",
      "\n",
      "Writing programs (or programming) is a very creative \n",
      "and rewarding activity.  You can write programs for \n",
      "many reasons, ranging from making your living to solving\n",
      "a difficult data analysis problem to having fun to helping\n",
      "someone else solve a problem.  This book assumes that \n",
      "everyone needs to know how to program, and that once \n",
      "you know how to program you will figure out what you want \n",
      "to do with your newfound skills.  \n"
     ]
    }
   ],
   "source": [
    "#  Request a document in web (romeo.txt) and display what the server sends back using HTTP protocol by using socket\n",
    "\n",
    "import socket\n",
    "\n",
    "mysock = socket.socket(socket.AF_INET, socket.SOCK_STREAM)   #  Here we made a socket instance and passed it two parameters. The first parameter is AF_INET and the second one is SOCK_STREAM. AF_INET refers to the address family ipv4. The SOCK_STREAM means connection oriented TCP protocol.\n",
    "mysock.connect(('data.pr4e.org', 80))                                  # port 80 for http protocol. Program makes a connection to port 80 on the server www.py4e.com.\n",
    "cmd = 'GET http://data.pr4e.org/intro-short.txt HTTP/1.0\\r\\n\\r\\n'.encode()   # Since our program is playing the role of the “web browser”, the HTTP protocol says we must send the GET command followed by a blank line.\n",
    "mysock.send(cmd)\n",
    "\n",
    "while True:\n",
    "    data = mysock.recv(512)\n",
    "    if len(data) < 1:\n",
    "        break\n",
    "    print(data.decode(),end='')\n",
    "    \n",
    "mysock.close()"
   ]
  },
  {
   "cell_type": "code",
   "execution_count": 30,
   "metadata": {},
   "outputs": [
    {
     "name": "stdout",
     "output_type": "stream",
     "text": [
      "5120 5120\n",
      "80 5200\n",
      "5120 10320\n",
      "2680 13000\n",
      "1300 14300\n",
      "5120 19420\n",
      "5120 24540\n",
      "5120 29660\n",
      "5120 34780\n",
      "5120 39900\n",
      "5120 45020\n",
      "1780 46800\n",
      "3900 50700\n",
      "5120 55820\n",
      "80 55900\n",
      "5120 61020\n",
      "2680 63700\n",
      "5120 68820\n",
      "5120 73940\n",
      "2760 76700\n",
      "1300 78000\n",
      "5120 83120\n",
      "80 83200\n",
      "5120 88320\n",
      "3980 92300\n",
      "3900 96200\n",
      "5120 101320\n",
      "5120 106440\n",
      "5120 111560\n",
      "1540 113100\n",
      "5120 118220\n",
      "5120 123340\n",
      "1460 124800\n",
      "1300 126100\n",
      "3900 130000\n",
      "5120 135120\n",
      "5120 140240\n",
      "1460 141700\n",
      "5120 146820\n",
      "5120 151940\n",
      "5120 157060\n",
      "5120 162180\n",
      "5120 167300\n",
      "5120 172420\n",
      "1780 174200\n",
      "5120 179320\n",
      "80 179400\n",
      "5120 184520\n",
      "5120 189640\n",
      "5120 194760\n",
      "5120 199880\n",
      "5120 205000\n",
      "5120 210120\n",
      "4380 214500\n",
      "5120 219620\n",
      "2680 222300\n",
      "3900 226200\n",
      "1300 227500\n",
      "3108 230608\n",
      "Header length 394\n",
      "HTTP/1.1 200 OK\n",
      "Date: Sun, 20 Jun 2021 08:33:20 GMT\n",
      "Server: Apache/2.4.18 (Ubuntu)\n",
      "Last-Modified: Mon, 15 May 2017 12:27:40 GMT\n",
      "ETag: \"38342-54f8f2e5b6277\"\n",
      "Accept-Ranges: bytes\n",
      "Content-Length: 230210\n",
      "Vary: Accept-Encoding\n",
      "Cache-Control: max-age=0, no-cache, no-store, must-revalidate\n",
      "Pragma: no-cache\n",
      "Expires: Wed, 11 Jan 1984 05:00:00 GMT\n",
      "Connection: close\n",
      "Content-Type: image/jpeg\n"
     ]
    }
   ],
   "source": [
    "# Retrieving an image over HTTP\n",
    "import socket\n",
    "import time\n",
    "\n",
    "HOST = 'data.pr4e.org'\n",
    "PORT = 80\n",
    "mysock = socket.socket(socket.AF_INET, socket.SOCK_STREAM)\n",
    "mysock.connect((HOST, PORT))\n",
    "mysock.sendall(b'GET http://data.pr4e.org/cover3.jpg HTTP/1.0\\r\\n\\r\\n') # b used instead of encode\n",
    "count = 0\n",
    "picture = b\"\"  # b is byte code \n",
    "\n",
    "while True:\n",
    "    data = mysock.recv(5120)\n",
    "    if len(data) < 1: break\n",
    "    # time.sleep(0.25)\n",
    "    count = count + len(data)\n",
    "    print(len(data), count)\n",
    "    picture = picture + data\n",
    "\n",
    "mysock.close()\n",
    "# Look for the end of the header (2 CRLF)\n",
    "pos = picture.find(b\"\\r\\n\\r\\n\")\n",
    "print('Header length', pos)\n",
    "print(picture[:pos].decode())   # printing header   [header upto position 'pos' after that \\r\\n\\r\\n after that image data]+\n",
    "\n",
    "# Skip past the header and save the picture data\n",
    "picture = picture[pos+4:]\n",
    "fhand = open(\"stuff.jpg\", \"wb\")   # creating stuff.jpg to write data inside picture into stuff.jpg  wb - write in binary mode\n",
    "fhand.write(picture)\n",
    "fhand.close()"
   ]
  },
  {
   "cell_type": "markdown",
   "metadata": {},
   "source": [
    "### Retrieving web pages with urllib"
   ]
  },
  {
   "cell_type": "code",
   "execution_count": null,
   "metadata": {},
   "outputs": [],
   "source": [
    "# Using urllib, we can treat a web page much like a file. We simply indicate which web page you would like to retrieve \n",
    "# and urllib handles all of the HTTP protocol and header details."
   ]
  },
  {
   "cell_type": "code",
   "execution_count": 31,
   "metadata": {},
   "outputs": [
    {
     "name": "stdout",
     "output_type": "stream",
     "text": [
      "But soft what light through yonder window breaks\n",
      "It is the east and Juliet is the sun\n",
      "Arise fair sun and kill the envious moon\n",
      "Who is already sick and pale with grief\n"
     ]
    }
   ],
   "source": [
    "# The equivalent code to read the romeo.txt file from the web using urllib\n",
    "import urllib.request\n",
    "\n",
    "fhand = urllib.request.urlopen('http://data.pr4e.org/romeo.txt')\n",
    "for line in fhand:\n",
    "    print(line.decode().strip())"
   ]
  },
  {
   "cell_type": "code",
   "execution_count": 32,
   "metadata": {},
   "outputs": [
    {
     "name": "stdout",
     "output_type": "stream",
     "text": [
      "{'But': 1, 'soft': 1, 'what': 1, 'light': 1, 'through': 1, 'yonder': 1, 'window': 1, 'breaks': 1, 'It': 1, 'is': 3, 'the': 3, 'east': 1, 'and': 3, 'Juliet': 1, 'sun': 2, 'Arise': 1, 'fair': 1, 'kill': 1, 'envious': 1, 'moon': 1, 'Who': 1, 'already': 1, 'sick': 1, 'pale': 1, 'with': 1, 'grief': 1}\n"
     ]
    }
   ],
   "source": [
    "# Compute the frequency of each word in the above file\n",
    "import urllib.request, urllib.parse, urllib.error\n",
    "\n",
    "fhand = urllib.request.urlopen('http://data.pr4e.org/romeo.txt')\n",
    "counts = dict()\n",
    "for line in fhand:\n",
    "    words = line.decode().split()\n",
    "    for word in words:\n",
    "        counts[word] = counts.get(word, 0) + 1\n",
    "print(counts)"
   ]
  },
  {
   "cell_type": "code",
   "execution_count": 39,
   "metadata": {},
   "outputs": [],
   "source": [
    "# open the URL and use read to download the entire contents of the document into a string variable (img) \n",
    "# then write that information to a local file\n",
    "import urllib.request, urllib.parse, urllib.error\n",
    "\n",
    "img = urllib.request.urlopen('http://data.pr4e.org/cover3.jpg').read()\n",
    "fhand = open('cover3.jpg', 'wb')\n",
    "fhand.write(img)\n",
    "fhand.close()"
   ]
  },
  {
   "cell_type": "code",
   "execution_count": 40,
   "metadata": {},
   "outputs": [
    {
     "name": "stdout",
     "output_type": "stream",
     "text": [
      "230210 characters copied.\n"
     ]
    }
   ],
   "source": [
    "# to read data in chucks not to overflow disk memory\n",
    "import urllib.request, urllib.parse, urllib.error\n",
    "img = urllib.request.urlopen('http://data.pr4e.org/cover3.jpg')\n",
    "fhand = open('cover4.jpg', 'wb')\n",
    "size = 0\n",
    "while True:\n",
    "    info = img.read(100000)\n",
    "    if len(info) < 1: break\n",
    "    size = size + len(info)\n",
    "    fhand.write(info)\n",
    "\n",
    "print(size, 'characters copied.')\n",
    "fhand.close()"
   ]
  },
  {
   "cell_type": "markdown",
   "metadata": {},
   "source": [
    "### Parsing HTML using regular expressions"
   ]
  },
  {
   "cell_type": "code",
   "execution_count": 35,
   "metadata": {},
   "outputs": [
    {
     "name": "stdout",
     "output_type": "stream",
     "text": [
      "Enter - https://en.wikipedia.org/wiki/Particulates\n",
      "https://en.wikipedia.org/wiki/Particulates\n",
      "https://www.eea.europa.eu/themes/air/air-quality-index\n",
      "https://en.wikipedia.org/w/index.php?title=Particulates&amp;action=edit\n",
      "http://gmao.gsfc.nasa.gov/research/aerosol/modeling/nr1_movie/\n",
      "http://gmao.gsfc.nasa.gov/research/aerosol/\n",
      "https://archive.org/details/atmosphericchemi0000sein/page/97\n",
      "https://archive.org/details/atmosphericchemi0000sein/page/97\n",
      "http://www.harmo.org/Conferences/Proceedings/_Crete/publishedSections/p398.pdf\n",
      "https://doi.org/10.1504%2FIJEP.2010.030891\n",
      "https://doi.org/10.1186%2F1743-8977-10-12\n",
      "https://www.epa.gov/pm-pollution/particulate-matter-pm-basics#PM\n",
      "https://web.archive.org/web/20160529064001/http://ehp.niehs.nih.gov/1408092/\n",
      "http://ehp.niehs.nih.gov/1408092/\n",
      "https://www.theguardian.com/environment/2019/jun/13/revealed-uk-government-failing-to-tackle-rise-of-ammonia-serious-air-pollutant\n",
      "https://www.epa.gov/pm-pollution/health-and-environmental-effects-particulate-matter-pm\n",
      "http://www.thelancet.com/journals/lanonc/article/PIIS1470-2045%2813%2970279-1/abstract\n",
      "https://doi.org/10.1016%2FS1470-2045%2813%2970279-1\n",
      "https://www.stateofglobalair.org/sites/default/files/soga-2018-report.pdf\n",
      "https://undark.org/breathtaking\n",
      "https://doi.org/10.1016%2Fj.rser.2015.04.019\n",
      "http://earthobservatory.nasa.gov/Features/Aerosols/\n",
      "https://web.archive.org/web/20080228174319/http://www.grida.no/climate/ipcc_tar/wg1/168.htm#5221\n",
      "http://grida.no/climate/ipcc_tar/wg1/168.htm#5221\n",
      "https://ui.adsabs.harvard.edu/abs/2012PNAS..109.2836P\n",
      "https://doi.org/10.1073%2Fpnas.1119909109\n",
      "https://web.archive.org/web/20080228174324/http://www.grida.no/climate/ipcc_tar/wg1/169.htm#5222\n",
      "http://grida.no/climate/ipcc_tar/wg1/169.htm#5222\n",
      "https://www.researchgate.net/publication/250144316\n",
      "https://doi.org/10.2174%2F1876325100802010047\n",
      "https://web.archive.org/web/20080228174330/http://www.grida.no/climate/ipcc_tar/wg1/172.htm#5226\n",
      "http://grida.no/climate/ipcc_tar/wg1/172.htm#5226\n",
      "https://www.nytimes.com/2012/02/19/science/earth/scientists-find-new-dangers-in-tiny-but-pervasive-particles-in-air-pollution.html\n",
      "https://web.archive.org/web/20160919230954/http://documents.worldbank.org/curated/en/866561468274261208/pdf/529700REPLACEM1paper0FINAL002110110.pdf\n",
      "http://documents.worldbank.org/curated/en/866561468274261208/pdf/529700REPLACEM1paper0FINAL002110110.pdf\n",
      "http://earthobservatory.nasa.gov/GlobalMaps/view.php?d1=MODAL2_M_AER_RA,\n",
      "http://earthobservatory.nasa.gov/GlobalMaps/view.php?d1=MODAL2_M_AER_OD\n",
      "http://papers.sae.org/2013-01-2741/\n",
      "https://doi.org/10.4271%2F2013-01-2741\n",
      "http://ijates.com/images/short_pdf/1404370755_P118-129.pdf\n",
      "https://www.purakamasks.com/pm25-filters\n",
      "http://www.baghouse.com/2011/02/01/the-encyclopedia-of-filters-dust-collection-systems/\n",
      "https://archive.today/20130223062930/http://www.agu.org/pubs/crossref/2000/1999RG000078.shtml\n",
      "https://ui.adsabs.harvard.edu/abs/2000RvGeo..38..513H\n",
      "https://doi.org/10.1029%2F1999RG000078\n",
      "http://www.agu.org/pubs/crossref/2000/1999RG000078.shtml\n",
      "https://doi.org/10.1175%2F1520-0469%281977%29034%3C1149%3ATIOPOT%3E2.0.CO%3B2\n",
      "https://ui.adsabs.harvard.edu/abs/1977JAtS...34.1149T\n",
      "https://doi.org/10.1175%2F1520-0469%281977%29034%3C1149%3ATIOPOT%3E2.0.CO%3B2\n",
      "http://elib.dlr.de/51416/\n",
      "https://web.archive.org/web/20020228024246/http://www.grida.no/climate/ipcc_tar/wg1/237.htm#678\n",
      "http://www.grida.no/climate/ipcc_tar/wg1/237.htm#678\n",
      "https://ui.adsabs.harvard.edu/abs/1992Sci...255..423C\n",
      "https://doi.org/10.1126%2Fscience.255.5043.423\n",
      "https://api.semanticscholar.org/CorpusID:26740611\n",
      "https://zenodo.org/record/1234697\n",
      "https://ui.adsabs.harvard.edu/abs/2000JAtS...57.2684A\n",
      "https://doi.org/10.1175%2F1520-0469%282000%29057%3C2684%3AEOAOCA%3E2.0.CO%3B2\n",
      "https://zenodo.org/record/1231122\n",
      "https://doi.org/10.1126%2Fscience.277.5332.1636\n",
      "https://ui.adsabs.harvard.edu/abs/2000JAtS...57.2707F\n",
      "https://doi.org/10.1175%2F1520-0469%282000%29057%3C2707%3ADSIST%3E2.0.CO%3B2\n",
      "https://doi.org/10.1029%2F1999GL006066\n",
      "https://ui.adsabs.harvard.edu/abs/1999GeoRL..26.3105R\n",
      "https://doi.org/10.1029%2F1999GL006066\n",
      "https://doi.org/10.1029%2F96JD03436\n",
      "https://ui.adsabs.harvard.edu/abs/1997JGR...102.6831H\n",
      "https://doi.org/10.1029%2F96JD03436\n",
      "https://digital.library.unt.edu/ark:/67531/metadc734475/\n",
      "https://ui.adsabs.harvard.edu/abs/2000Sci...288.1042A\n",
      "https://doi.org/10.1126%2Fscience.288.5468.1042\n",
      "https://semanticscholar.org/paper/1f85f555642f2e290a66f7b9741b4655b3a48674\n",
      "https://ui.adsabs.harvard.edu/abs/2004Sci...303.1342K\n",
      "https://doi.org/10.1126%2Fscience.1089424\n",
      "https://api.semanticscholar.org/CorpusID:37347993\n",
      "https://web.archive.org/web/20020620082532/http://www.grida.no/climate/ipcc_tar/wg1/232.htm\n",
      "http://www.grida.no/climate/ipcc_tar/wg1/232.htm\n",
      "https://doi.org/10.1002%2Fjgrd.50171\n",
      "https://ui.adsabs.harvard.edu/abs/2013JGRD..118.5380B\n",
      "https://doi.org/10.1002%2Fjgrd.50171\n",
      "http://www.geologytimes.com/Research/1600_Eruption_Caused_Global_Disruption.asp\n",
      "https://web.archive.org/web/20110215095449/http://www.geologytimes.com/Research/1600_Eruption_Caused_Global_Disruption.asp\n",
      "https://www.nbcnews.com/id/24467948\n",
      "http://www.sciencecentric.com/news/article.php?q=08042402\n",
      "https://web.archive.org/web/20100428052829/http://www.sciencecentric.com/news/article.php?q=08042402\n",
      "https://web.archive.org/web/20100215145220/http://jack.pixe.lth.se/kfgu/KOO090_FKF075/Artiklar/P05.pdf\n",
      "https://ui.adsabs.harvard.edu/abs/1995Natur.373..399M\n",
      "https://doi.org/10.1038%2F373399a0\n",
      "https://api.semanticscholar.org/CorpusID:46437912\n",
      "http://jack.pixe.lth.se/kfgu/KOO090_FKF075/Artiklar/P05.pdf\n",
      "https://zenodo.org/record/1231307\n",
      "https://ui.adsabs.harvard.edu/abs/1992GeoRL..19..159S\n",
      "https://doi.org/10.1029%2F91GL02958\n",
      "https://web.archive.org/web/20130307130448/http://news.sciencemag.org/sciencenow/2013/03/earth-not-so-hot-thanks-to-volca.html\n",
      "http://news.sciencemag.org/sciencenow/2013/03/earth-not-so-hot-thanks-to-volca.html\n",
      "https://ui.adsabs.harvard.edu/abs/2013GeoRL..40..999N\n",
      "https://doi.org/10.1002%2Fgrl.50263\n",
      "https://semanticscholar.org/paper/930d36d89592ebb2cced812b2d5523015756fdad\n",
      "https://ui.adsabs.harvard.edu/abs/2006JCli...19.2036C\n",
      "https://doi.org/10.1175%2FJCLI3820.1\n",
      "https://api.semanticscholar.org/CorpusID:10435613\n",
      "http://apollo.eas.gatech.edu/EAS6792/presentations/aerosol_effects.ppt\n",
      "https://web.archive.org/web/20081216221948/http://apollo.eas.gatech.edu/EAS6792/presentations/aerosol_effects.ppt\n",
      "http://www.csiro.au/files/files/pbg2.pdf\n",
      "https://web.archive.org/web/20120616044758/http://www.csiro.au/files/files/pbg2.pdf\n",
      "http://www.theage.com.au/news/national/pollution-rearranging-ocean-currents/2008/01/21/1200764169893.html\n",
      "https://web.archive.org/web/20110629014447/http://www.bloomberg.com/apps/news?pid=washingtonstory&amp;sid=aBt.yLf.YfOo\n",
      "https://www.bloomberg.com/apps/news?pid=washingtonstory&amp;sid=aBt.yLf.YfOo\n",
      "https://journal.chestnet.org/article/S0012-3692(18)32723-5/fulltext\n",
      "https://www.theguardian.com/environment/ng-interactive/2019/may/17/air-pollution-may-be-damaging-every-organ-and-cell-in-the-body-finds-global-review#\n",
      "https://semanticscholar.org/paper/acceb535ec45585257427680aab1a5c6956dcffb\n",
      "https://doi.org/10.1080%2F15287390590936166\n",
      "https://api.semanticscholar.org/CorpusID:23814778\n",
      "https://web.archive.org/web/20110514110919/http://www.niehs.nih.gov/health/impacts/cardiovascular/\n",
      "http://www.niehs.nih.gov/health/impacts/cardiovascular/\n",
      "https://doi.org/10.1080%2F01621459.1973.10482421\n",
      "https://semanticscholar.org/paper/ed162f325ab6c3847798d6b6c5aafd9492b9ab11\n",
      "https://doi.org/10.1001%2Fjama.291.10.1238\n",
      "https://api.semanticscholar.org/CorpusID:14589790\n",
      "http://www.eea.europa.eu/publications/spatial-assessment-of-pm10-and-ozone-concentrations-in-europe-2005-1/at_download/file\n",
      "https://doi.org/10.2800%2F165\n",
      "https://doi.org/10.1016%2Fs0140-6736%2812%2961766-8\n",
      "https://pubmed.ncbi.nlm.nih.gov/3444932/\n",
      "https://www.theguardian.com/environment/2021/feb/17/air-pollution-significantly-raises-risk-of-infertility-study-finds\n",
      "https://doi.org/10.1007%2Fs11869-010-0106-3\n",
      "https://api.semanticscholar.org/CorpusID:95781433\n",
      "https://doi.org/10.1161%2FHYPERTENSIONAHA.117.10944\n",
      "https://cfpub.epa.gov/ncea/isa/recordisplay.cfm?deid=216546\n",
      "https://doi.org/10.1155%2F2014%2F901017\n",
      "https://ui.adsabs.harvard.edu/abs/2012ER....117...46L\n",
      "https://doi.org/10.1016%2Fj.envres.2012.05.011\n",
      "https://ui.adsabs.harvard.edu/abs/2009ER....109..311W\n",
      "https://doi.org/10.1016%2Fj.envres.2008.12.012\n",
      "https://doi.org/10.1136%2Fjcp.53.11.822\n",
      "https://doi.org/10.1136%2Fbmj.301.6761.1111\n",
      "https://doi.org/10.1001%2Fjama.287.9.1132\n",
      "http://www.medical-reference.net/2014/01/new-study-linked-pm-with-heart-attack.html\n",
      "https://doi.org/10.1136%2Fbmj.f7412\n",
      "https://lra.le.ac.uk/bitstream/2381/39549/5/Hussey_et_al-2017-Environmental_Microbiology.pdf\n",
      "https://doi.org/10.1111%2F1462-2920.13686\n",
      "http://www.newswise.com/articles/view/540721/\n",
      "https://www.pnas.org/content/115/37/9193\n",
      "https://doi.org/10.1073%2Fpnas.1809474115\n",
      "https://ui.adsabs.harvard.edu/abs/2019NatSR...9.8237S\n",
      "https://doi.org/10.1038%2Fs41598-019-44561-0\n",
      "https://www.nature.com/articles/tp2016280\n",
      "https://semanticscholar.org/paper/acceb535ec45585257427680aab1a5c6956dcffb\n",
      "https://doi.org/10.1080%2F15287390590936166\n",
      "https://api.semanticscholar.org/CorpusID:23814778\n",
      "https://doi.org/10.1016%2FS0140-6736%2810%2962296-9\n",
      "https://api.semanticscholar.org/CorpusID:20168936\n",
      "http://www.baq2008.org/system/files/sw16_Vajanapoom+presentation.pdf\n",
      "https://web.archive.org/web/20081217174016/http://www.baq2008.org/system/files/sw16_Vajanapoom+presentation.pdf\n",
      "https://muse.jhu.edu/article/736789\n",
      "https://doi.org/10.1353%2Fsgo.2019.0031\n",
      "https://dx.doi.org/10.1007/s10052-002-0987-x\n",
      "https://ui.adsabs.harvard.edu/abs/2002EPJC...24..665.\n",
      "https://doi.org/10.1007%2Fs10052-002-0987-x\n",
      "https://doi.org/10.2105%2FAJPH.2017.304297\n",
      "https://dx.doi.org/10.1289/ehp.01109s3357\n",
      "https://doi.org/10.1289%2Fehp.01109s3357\n",
      "https://www.usatoday.com/in-depth/news/nation/2020/10/12/covid-racism-kills-black-americans-living-near-toxic-plants/3498180001/\n",
      "https://www.epa.gov/pm-pollution/how-smoke-fires-can-affect-your-health\n",
      "https://doi.org/10.1289%2Fehp.0800166\n",
      "https://doi.org/10.1161%2FJAHA.114.001653\n",
      "https://www.sciencedirect.com/science/article/pii/S0160412018330277\n",
      "https://doi.org/10.1016%2Fj.envint.2019.04.033\n",
      "https://doi.org/10.1111%2Fresp.12613\n",
      "https://doi.org/10.1111%2Fresp.12613\n",
      "https://api.semanticscholar.org/CorpusID:22910313\n",
      "https://doi.org/10.1289%2FEHP3860\n",
      "https://www.theguardian.com/environment/2021/mar/18/oil-industry-fossil-fuels-air-pollution-documents?CMP=Share_iOSApp_Other\n",
      "https://www.theguardian.com/environment/2021/mar/18/oil-industry-fossil-fuels-air-pollution-documents?CMP=Share_iOSApp_Other\n",
      "https://www.theguardian.com/us-news/ng-interactive/2020/oct/20/trump-us-dirtier-planet-warmer-75-ways\n",
      "https://blog.ucsusa.org/elliott-negin/oil-industry-ghostwrites-trumps-deadly-anti-environmental-policies\n",
      "http://www.eoearth.org/article/Abiotic_factor?topic=49461\n",
      "https://doi.org/10.1289%2Fehp.1408092\n",
      "https://www.legislation.gov.au/Details/F2016C00215\n",
      "http://www.ccme.ca/files/current_priorities/aqms_elements/caaqs_and_azmf.pdf\n",
      "http://kjs.mep.gov.cn/hjbhbz/bzwb/dqhjbh/dqhjzlbz/201203/W020120410330232398521.pdf\n",
      "http://ec.europa.eu/environment/air/quality/standards.htm\n",
      "http://www.epd.gov.hk/epd/english/environmentinhk/air/air_quality_objectives/air_quality_objectives.html\n",
      "https://web.archive.org/web/20150228230336/http://www.kankyo.metro.tokyo.jp/air/air_pollution/PM2.5/index.html\n",
      "http://www.kankyo.metro.tokyo.jp/air/air_pollution/PM2.5/index.html\n",
      "http://www2.dmu.dk/AtmosphericEnvironment/Expost/database/docs/AQ_limit_values.pdf\n",
      "http://www.airkorea.or.kr/\n",
      "http://news.kbs.co.kr/news/view.do?ncd=3621522&amp;ref=A\n",
      "http://air.epa.gov.tw/Public/suspended_particles.aspx\n",
      "http://www.taipeitimes.com/News/taiwan/archives/2014/02/05/2003582795\n",
      "http://www.epa.gov/airtrends/aqtrnd95/pm10.html\n",
      "http://www.epa.gov/ttn/naaqs/standards/pm/s_pm_history.html\n",
      "https://web.archive.org/web/20100101100532/http://www.dtsc.ca.gov/TechnologyDevelopment/Nanotechnology/index.cfm\n",
      "http://www.dtsc.ca.gov/TechnologyDevelopment/Nanotechnology/index.cfm\n",
      "https://web.archive.org/web/20100318011017/http://www.dtsc.ca.gov/PollutionPrevention/Chemical_Call_In.cfm\n",
      "http://www.dtsc.ca.gov/PollutionPrevention/Chemical_Call_In.cfm\n",
      "https://web.archive.org/web/20170127145621/http://www.dtsc.ca.gov/TechnologyDevelopment/Nanotechnology/upload/Formal_AB289_Call_In_Letter_CNTs.pdf\n",
      "http://www.dtsc.ca.gov/TechnologyDevelopment/Nanotechnology/upload/Formal_AB289_Call_In_Letter_CNTs.pdf\n",
      "https://web.archive.org/web/20170131163500/http://www.dtsc.ca.gov/TechnologyDevelopment/Nanotechnology/upload/AB289_CNT_Contact_List.pdf\n",
      "http://www.dtsc.ca.gov/TechnologyDevelopment/Nanotechnology/upload/AB289_CNT_Contact_List.pdf\n",
      "https://web.archive.org/web/20100101164727/http://www.dtsc.ca.gov/TechnologyDevelopment/Nanotechnology/ArchivedSymposium.cfm\n",
      "http://www.dtsc.ca.gov/TechnologyDevelopment/Nanotechnology/ArchivedSymposium.cfm\n",
      "http://www.dtsc.ca.gov/TechnologyDevelopment/Nanotechnology/index.cfm\n",
      "https://web.archive.org/web/20100101100532/http://www.dtsc.ca.gov/TechnologyDevelopment/Nanotechnology/index.cfm\n",
      "https://www.theguardian.com/environment/2015/apr/02/call-for-action-on-pollution-as-emissions-linked-to-respiratory-illnesses-double\n",
      "https://web.archive.org/web/20110701120727/http://guangzhou.usembassy-china.org.cn/guangzhou-air-quality-monitor.html\n",
      "http://guangzhou.usembassy-china.org.cn/guangzhou-air-quality-monitor.html\n",
      "https://www.who.int/mediacentre/factsheets/fs313/en/\n",
      "https://earthobservatory.nasa.gov/features/Aerosols\n",
      "https://web.archive.org/web/20020220174932/http://www.grida.no/climate/ipcc_tar/wg1/160.htm\n",
      "http://insideepa.com/secure/insider_display.asp?f=epa_2001.ask&amp;docid=142006_links\n",
      "http://tc.bmjjournals.com/cgi/reprint/13/3/219?ijkey=330b5aea15a8e36fcc2f4208cf99da58d84150f3\n",
      "https://undark.org/breathtaking/\n",
      "https://www.sciencedirect.com/science/article/pii/S0048969720340183\n",
      "https://en.wiktionary.org/wiki/Special:Search/particulates\n",
      "https://earth.nullschool.net/#current/particulates/surface/level/overlay=pm1/winkel3\n",
      "https://earth.nullschool.net/#current/particulates/surface/level/overlay=pm2.5/winkel3\n",
      "https://earth.nullschool.net/#current/particulates/surface/level/overlay=pm10/winkel3\n",
      "https://www.wikidata.org/wiki/Q498957#identifiers\n",
      "https://d-nb.info/gnd/4153891-2\n",
      "https://academic.microsoft.com/v2/detail/24245907\n",
      "https://en.wikipedia.org/w/index.php?title=Template:Severe_weather_terminology_(United_States)_navbox&amp;action=edit\n",
      "https://en.wikipedia.org/w/index.php?title=Template:Pollution&amp;action=edit\n",
      "https://en.wikipedia.org/w/index.php?title=Template:Human_impact_on_the_environment&amp;action=edit\n",
      "https://commons.wikimedia.org/wiki/Category:Environmental_impact\n",
      "https://en.wikipedia.org/w/index.php?title=Template:HVAC&amp;action=edit\n",
      "https://en.wikipedia.org/w/index.php?title=Particulates&amp;oldid=1028660306\n",
      "https://donate.wikimedia.org/wiki/Special:FundraiserRedirector?utm_source=donate&amp;utm_medium=sidebar&amp;utm_campaign=C13_en.wikipedia.org&amp;uselang=en\n",
      "https://www.wikidata.org/wiki/Special:EntityPage/Q498957\n",
      "https://commons.wikimedia.org/wiki/Category:Dust_pollution\n",
      "https://ar.wikipedia.org/wiki/%D8%AC%D8%B3%D9%8A%D9%85%D8%A7%D8%AA_%D9%85%D8%B9%D9%84%D9%82%D8%A9\n",
      "https://be-tarask.wikipedia.org/wiki/%D0%A6%D1%8C%D0%B2%D1%91%D1%80%D0%B4%D1%8B%D1%8F_%D1%87%D0%B0%D1%81%D1%8C%D1%86%D1%96%D0%BD%D0%BA%D1%96\n",
      "https://bh.wikipedia.org/wiki/%E0%A4%AA%E0%A4%BE%E0%A4%B0%E0%A5%8D%E0%A4%9F%E0%A4%BF%E0%A4%95%E0%A5%81%E0%A4%B2%E0%A5%87%E0%A4%9F_%E0%A4%AE%E0%A5%88%E0%A4%9F%E0%A4%B0\n",
      "https://bg.wikipedia.org/wiki/%D0%A4%D0%B8%D0%BD%D0%B8_%D0%BF%D1%80%D0%B0%D1%85%D0%BE%D0%B2%D0%B8_%D1%87%D0%B0%D1%81%D1%82%D0%B8%D1%86%D0%B8\n",
      "https://ca.wikipedia.org/wiki/Aerosol_atmosf%C3%A8ric\n",
      "https://cs.wikipedia.org/wiki/Pevn%C3%A9_%C4%8D%C3%A1stice\n",
      "https://cy.wikipedia.org/wiki/Mater_gronynnol\n",
      "https://da.wikipedia.org/wiki/Atmosf%C3%A6risk_st%C3%B8v\n",
      "https://de.wikipedia.org/wiki/Feinstaub\n",
      "https://es.wikipedia.org/wiki/Part%C3%ADculas_en_suspensi%C3%B3n\n",
      "https://eo.wikipedia.org/wiki/Partikla_materialo\n",
      "https://fa.wikipedia.org/wiki/%D8%B0%D8%B1%D8%A7%D8%AA_%D9%85%D8%B9%D9%84%D9%82\n",
      "https://fr.wikipedia.org/wiki/Particules_en_suspension\n",
      "https://ko.wikipedia.org/wiki/%EB%AF%B8%EC%84%B8%EB%A8%BC%EC%A7%80\n",
      "https://hi.wikipedia.org/wiki/%E0%A4%85%E0%A4%AD%E0%A4%BF%E0%A4%95%E0%A4%A3\n",
      "https://is.wikipedia.org/wiki/Svifryk\n",
      "https://it.wikipedia.org/wiki/Particolato\n",
      "https://he.wikipedia.org/wiki/%D7%97%D7%95%D7%9E%D7%A8_%D7%97%D7%9C%D7%A7%D7%99%D7%A7%D7%99\n",
      "https://lt.wikipedia.org/wiki/Kietosios_dalel%C4%97s\n",
      "https://lmo.wikipedia.org/wiki/Pulviscol_atmosferegh\n",
      "https://hu.wikipedia.org/wiki/Sz%C3%A1ll%C3%B3_por\n",
      "https://ms.wikipedia.org/wiki/Zarahan\n",
      "https://nl.wikipedia.org/wiki/Fijnstof\n",
      "https://ja.wikipedia.org/wiki/%E7%B2%92%E5%AD%90%E7%8A%B6%E7%89%A9%E8%B3%AA\n",
      "https://no.wikipedia.org/wiki/Svevest%C3%B8v\n",
      "https://pl.wikipedia.org/wiki/Py%C5%82_(zanieczyszczenie)\n",
      "https://pt.wikipedia.org/wiki/Material_particulado\n",
      "https://ru.wikipedia.org/wiki/%D0%90%D1%8D%D1%80%D0%BE%D0%B7%D0%BE%D0%BB%D1%8C%D0%BD%D1%8B%D0%B5_%D0%B7%D0%B0%D0%B3%D1%80%D1%8F%D0%B7%D0%BD%D0%B5%D0%BD%D0%B8%D1%8F\n",
      "https://simple.wikipedia.org/wiki/Particulate\n",
      "https://sk.wikipedia.org/wiki/Pevn%C3%A9_%C4%8Dastice_(emisie)\n",
      "https://sl.wikipedia.org/wiki/Pra%C5%A1ni_delci\n",
      "https://fi.wikipedia.org/wiki/Pienhiukkanen\n",
      "https://sv.wikipedia.org/wiki/Luftburna_partiklar\n",
      "https://th.wikipedia.org/wiki/%E0%B8%9D%E0%B8%B8%E0%B9%88%E0%B8%99%E0%B8%A5%E0%B8%B0%E0%B8%AD%E0%B8%AD%E0%B8%87\n",
      "https://tr.wikipedia.org/wiki/Partik%C3%BCl\n",
      "https://wa.wikipedia.org/wiki/Mierpo%C3%BBssire\n",
      "https://zh.wikipedia.org/wiki/%E6%87%B8%E6%B5%AE%E7%B2%92%E5%AD%90\n",
      "https://www.wikidata.org/wiki/Special:EntityPage/Q498957#sitelinks-wikipedia\n",
      "https://foundation.wikimedia.org/wiki/Privacy_policy\n",
      "https://www.mediawiki.org/wiki/Special:MyLanguage/How_to_contribute\n",
      "https://stats.wikimedia.org/#/en.wikipedia.org\n",
      "https://foundation.wikimedia.org/wiki/Cookie_statement\n",
      "https://wikimediafoundation.org/\n",
      "https://www.mediawiki.org/\n"
     ]
    }
   ],
   "source": [
    "# Search for link values within URL input\n",
    "import urllib.request, urllib.parse, urllib.error\n",
    "import re\n",
    "import ssl\n",
    "\n",
    "# Ignore SSL certificate errors\n",
    "ctx = ssl.create_default_context()\n",
    "ctx.check_hostname = False\n",
    "ctx.verify_mode = ssl.CERT_NONE\n",
    "\n",
    "url = input('Enter - ')   # https://en.wikipedia.org/wiki/Particulates    # https://docs.python.org\n",
    "html = urllib.request.urlopen(url, context=ctx).read()\n",
    "links = re.findall(b'href=\"(http[s]?://.*?)\"', html)\n",
    "for link in links:\n",
    "    print(link.decode())"
   ]
  },
  {
   "cell_type": "markdown",
   "metadata": {},
   "source": [
    "### Parsing HTML using BeautifulSoup"
   ]
  },
  {
   "cell_type": "code",
   "execution_count": null,
   "metadata": {},
   "outputs": [],
   "source": [
    "# Even though HTML looks like XML, and some pages are carefully constructed to be XML, most HTML is generally broken \n",
    "# in ways that cause an XML parser to reject the entire page of HTML as improperly formed.\n",
    "# BeautifulSoup tolerates highly flawed HTML and still lets you easily extract the data you need."
   ]
  },
  {
   "cell_type": "code",
   "execution_count": null,
   "metadata": {},
   "outputs": [],
   "source": [
    "from bs4 import BeautifulSoup"
   ]
  },
  {
   "cell_type": "code",
   "execution_count": 41,
   "metadata": {},
   "outputs": [
    {
     "name": "stdout",
     "output_type": "stream",
     "text": [
      "Enter - https://docs.python.org\n",
      "[<a accesskey=\"I\" href=\"genindex.html\" title=\"General Index\">index</a>, <a href=\"py-modindex.html\" title=\"Python Module Index\">modules</a>, <a href=\"https://www.python.org/\">Python</a>, <a href=\"#\">3.9.5 Documentation</a>, <a class=\"biglink\" href=\"whatsnew/3.9.html\">What's new in Python 3.9?</a>, <a href=\"whatsnew/index.html\">all \"What's new\" documents</a>, <a class=\"biglink\" href=\"tutorial/index.html\">Tutorial</a>, <a class=\"biglink\" href=\"library/index.html\">Library Reference</a>, <a class=\"biglink\" href=\"reference/index.html\">Language Reference</a>, <a class=\"biglink\" href=\"using/index.html\">Python Setup and Usage</a>, <a class=\"biglink\" href=\"howto/index.html\">Python HOWTOs</a>, <a class=\"biglink\" href=\"installing/index.html\">Installing Python Modules</a>, <a class=\"biglink\" href=\"distributing/index.html\">Distributing Python Modules</a>, <a class=\"biglink\" href=\"extending/index.html\">Extending and Embedding</a>, <a class=\"biglink\" href=\"c-api/index.html\">Python/C API</a>, <a class=\"biglink\" href=\"faq/index.html\">FAQs</a>, <a class=\"biglink\" href=\"py-modindex.html\">Global Module Index</a>, <a class=\"biglink\" href=\"genindex.html\">General Index</a>, <a class=\"biglink\" href=\"glossary.html\">Glossary</a>, <a class=\"biglink\" href=\"search.html\">Search page</a>, <a class=\"biglink\" href=\"contents.html\">Complete Table of Contents</a>, <a class=\"biglink\" href=\"bugs.html\">Reporting bugs</a>, <a class=\"biglink\" href=\"https://devguide.python.org/docquality/#helping-with-documentation\">Contributing to Docs</a>, <a class=\"biglink\" href=\"about.html\">About the documentation</a>, <a class=\"biglink\" href=\"license.html\">History and License of Python</a>, <a class=\"biglink\" href=\"copyright.html\">Copyright</a>, <a href=\"download.html\">Download these documents</a>, <a href=\"https://docs.python.org/3.11/\">Python 3.11 (in development)</a>, <a href=\"https://docs.python.org/3.10/\">Python 3.10 (pre-release)</a>, <a href=\"https://docs.python.org/3.9/\">Python 3.9 (stable)</a>, <a href=\"https://docs.python.org/3.8/\">Python 3.8 (security-fixes)</a>, <a href=\"https://docs.python.org/3.7/\">Python 3.7 (security-fixes)</a>, <a href=\"https://docs.python.org/3.6/\">Python 3.6 (security-fixes)</a>, <a href=\"https://docs.python.org/3.5/\">Python 3.5 (EOL)</a>, <a href=\"https://docs.python.org/2.7/\">Python 2.7 (EOL)</a>, <a href=\"https://www.python.org/doc/versions/\">All versions</a>, <a href=\"https://www.python.org/dev/peps/\">PEP Index</a>, <a href=\"https://wiki.python.org/moin/BeginnersGuide\">Beginner's Guide</a>, <a href=\"https://wiki.python.org/moin/PythonBooks\">Book List</a>, <a href=\"https://www.python.org/doc/av/\">Audio/Visual Talks</a>, <a href=\"https://devguide.python.org/\">Python Developer’s Guide</a>, <a href=\"genindex.html\" title=\"General Index\">index</a>, <a href=\"py-modindex.html\" title=\"Python Module Index\">modules</a>, <a href=\"https://www.python.org/\">Python</a>, <a href=\"#\">3.9.5 Documentation</a>, <a href=\"copyright.html\">Copyright</a>, <a href=\"https://www.python.org/psf/donations/\">Please donate.</a>, <a href=\"https://docs.python.org/3/bugs.html\">Found a bug</a>, <a href=\"https://www.sphinx-doc.org/\">Sphinx</a>]\n",
      "genindex.html\n",
      "py-modindex.html\n",
      "https://www.python.org/\n",
      "#\n",
      "whatsnew/3.9.html\n",
      "whatsnew/index.html\n",
      "tutorial/index.html\n",
      "library/index.html\n",
      "reference/index.html\n",
      "using/index.html\n",
      "howto/index.html\n",
      "installing/index.html\n",
      "distributing/index.html\n",
      "extending/index.html\n",
      "c-api/index.html\n",
      "faq/index.html\n",
      "py-modindex.html\n",
      "genindex.html\n",
      "glossary.html\n",
      "search.html\n",
      "contents.html\n",
      "bugs.html\n",
      "https://devguide.python.org/docquality/#helping-with-documentation\n",
      "about.html\n",
      "license.html\n",
      "copyright.html\n",
      "download.html\n",
      "https://docs.python.org/3.11/\n",
      "https://docs.python.org/3.10/\n",
      "https://docs.python.org/3.9/\n",
      "https://docs.python.org/3.8/\n",
      "https://docs.python.org/3.7/\n",
      "https://docs.python.org/3.6/\n",
      "https://docs.python.org/3.5/\n",
      "https://docs.python.org/2.7/\n",
      "https://www.python.org/doc/versions/\n",
      "https://www.python.org/dev/peps/\n",
      "https://wiki.python.org/moin/BeginnersGuide\n",
      "https://wiki.python.org/moin/PythonBooks\n",
      "https://www.python.org/doc/av/\n",
      "https://devguide.python.org/\n",
      "genindex.html\n",
      "py-modindex.html\n",
      "https://www.python.org/\n",
      "#\n",
      "copyright.html\n",
      "https://www.python.org/psf/donations/\n",
      "https://docs.python.org/3/bugs.html\n",
      "https://www.sphinx-doc.org/\n"
     ]
    }
   ],
   "source": [
    "import urllib.request, urllib.parse, urllib.error\n",
    "from bs4 import BeautifulSoup\n",
    "import ssl\n",
    "\n",
    "# Ignore SSL certificate errors\n",
    "ctx = ssl.create_default_context()\n",
    "ctx.check_hostname = False\n",
    "ctx.verify_mode = ssl.CERT_NONE\n",
    "\n",
    "url = input('Enter - ')       #  https://docs.python.org\n",
    "html = urllib.request.urlopen(url, context=ctx).read()\n",
    "soup = BeautifulSoup(html, 'html.parser')\n",
    "\n",
    "# Retrieve all of the anchor tags\n",
    "tags = soup('a')\n",
    "print(tags)\n",
    "for tag in tags:\n",
    "    print(tag.get('href', None))"
   ]
  },
  {
   "cell_type": "code",
   "execution_count": 42,
   "metadata": {},
   "outputs": [
    {
     "name": "stdout",
     "output_type": "stream",
     "text": [
      "Enter - https://docs.python.org\n",
      "TAG: <a accesskey=\"I\" href=\"genindex.html\" title=\"General Index\">index</a>\n",
      "URL: genindex.html\n",
      "Contents: index\n",
      "Attrs: {'href': 'genindex.html', 'title': 'General Index', 'accesskey': ['I']}\n",
      "TAG: <a href=\"py-modindex.html\" title=\"Python Module Index\">modules</a>\n",
      "URL: py-modindex.html\n",
      "Contents: modules\n",
      "Attrs: {'href': 'py-modindex.html', 'title': 'Python Module Index'}\n",
      "TAG: <a href=\"https://www.python.org/\">Python</a>\n",
      "URL: https://www.python.org/\n",
      "Contents: Python\n",
      "Attrs: {'href': 'https://www.python.org/'}\n",
      "TAG: <a href=\"#\">3.9.5 Documentation</a>\n",
      "URL: #\n",
      "Contents: 3.9.5 Documentation\n",
      "Attrs: {'href': '#'}\n",
      "TAG: <a class=\"biglink\" href=\"whatsnew/3.9.html\">What's new in Python 3.9?</a>\n",
      "URL: whatsnew/3.9.html\n",
      "Contents: What's new in Python 3.9?\n",
      "Attrs: {'class': ['biglink'], 'href': 'whatsnew/3.9.html'}\n",
      "TAG: <a href=\"whatsnew/index.html\">all \"What's new\" documents</a>\n",
      "URL: whatsnew/index.html\n",
      "Contents: all \"What's new\" documents\n",
      "Attrs: {'href': 'whatsnew/index.html'}\n",
      "TAG: <a class=\"biglink\" href=\"tutorial/index.html\">Tutorial</a>\n",
      "URL: tutorial/index.html\n",
      "Contents: Tutorial\n",
      "Attrs: {'class': ['biglink'], 'href': 'tutorial/index.html'}\n",
      "TAG: <a class=\"biglink\" href=\"library/index.html\">Library Reference</a>\n",
      "URL: library/index.html\n",
      "Contents: Library Reference\n",
      "Attrs: {'class': ['biglink'], 'href': 'library/index.html'}\n",
      "TAG: <a class=\"biglink\" href=\"reference/index.html\">Language Reference</a>\n",
      "URL: reference/index.html\n",
      "Contents: Language Reference\n",
      "Attrs: {'class': ['biglink'], 'href': 'reference/index.html'}\n",
      "TAG: <a class=\"biglink\" href=\"using/index.html\">Python Setup and Usage</a>\n",
      "URL: using/index.html\n",
      "Contents: Python Setup and Usage\n",
      "Attrs: {'class': ['biglink'], 'href': 'using/index.html'}\n",
      "TAG: <a class=\"biglink\" href=\"howto/index.html\">Python HOWTOs</a>\n",
      "URL: howto/index.html\n",
      "Contents: Python HOWTOs\n",
      "Attrs: {'class': ['biglink'], 'href': 'howto/index.html'}\n",
      "TAG: <a class=\"biglink\" href=\"installing/index.html\">Installing Python Modules</a>\n",
      "URL: installing/index.html\n",
      "Contents: Installing Python Modules\n",
      "Attrs: {'class': ['biglink'], 'href': 'installing/index.html'}\n",
      "TAG: <a class=\"biglink\" href=\"distributing/index.html\">Distributing Python Modules</a>\n",
      "URL: distributing/index.html\n",
      "Contents: Distributing Python Modules\n",
      "Attrs: {'class': ['biglink'], 'href': 'distributing/index.html'}\n",
      "TAG: <a class=\"biglink\" href=\"extending/index.html\">Extending and Embedding</a>\n",
      "URL: extending/index.html\n",
      "Contents: Extending and Embedding\n",
      "Attrs: {'class': ['biglink'], 'href': 'extending/index.html'}\n",
      "TAG: <a class=\"biglink\" href=\"c-api/index.html\">Python/C API</a>\n",
      "URL: c-api/index.html\n",
      "Contents: Python/C API\n",
      "Attrs: {'class': ['biglink'], 'href': 'c-api/index.html'}\n",
      "TAG: <a class=\"biglink\" href=\"faq/index.html\">FAQs</a>\n",
      "URL: faq/index.html\n",
      "Contents: FAQs\n",
      "Attrs: {'class': ['biglink'], 'href': 'faq/index.html'}\n",
      "TAG: <a class=\"biglink\" href=\"py-modindex.html\">Global Module Index</a>\n",
      "URL: py-modindex.html\n",
      "Contents: Global Module Index\n",
      "Attrs: {'class': ['biglink'], 'href': 'py-modindex.html'}\n",
      "TAG: <a class=\"biglink\" href=\"genindex.html\">General Index</a>\n",
      "URL: genindex.html\n",
      "Contents: General Index\n",
      "Attrs: {'class': ['biglink'], 'href': 'genindex.html'}\n",
      "TAG: <a class=\"biglink\" href=\"glossary.html\">Glossary</a>\n",
      "URL: glossary.html\n",
      "Contents: Glossary\n",
      "Attrs: {'class': ['biglink'], 'href': 'glossary.html'}\n",
      "TAG: <a class=\"biglink\" href=\"search.html\">Search page</a>\n",
      "URL: search.html\n",
      "Contents: Search page\n",
      "Attrs: {'class': ['biglink'], 'href': 'search.html'}\n",
      "TAG: <a class=\"biglink\" href=\"contents.html\">Complete Table of Contents</a>\n",
      "URL: contents.html\n",
      "Contents: Complete Table of Contents\n",
      "Attrs: {'class': ['biglink'], 'href': 'contents.html'}\n",
      "TAG: <a class=\"biglink\" href=\"bugs.html\">Reporting bugs</a>\n",
      "URL: bugs.html\n",
      "Contents: Reporting bugs\n",
      "Attrs: {'class': ['biglink'], 'href': 'bugs.html'}\n",
      "TAG: <a class=\"biglink\" href=\"https://devguide.python.org/docquality/#helping-with-documentation\">Contributing to Docs</a>\n",
      "URL: https://devguide.python.org/docquality/#helping-with-documentation\n",
      "Contents: Contributing to Docs\n",
      "Attrs: {'class': ['biglink'], 'href': 'https://devguide.python.org/docquality/#helping-with-documentation'}\n",
      "TAG: <a class=\"biglink\" href=\"about.html\">About the documentation</a>\n",
      "URL: about.html\n",
      "Contents: About the documentation\n",
      "Attrs: {'class': ['biglink'], 'href': 'about.html'}\n",
      "TAG: <a class=\"biglink\" href=\"license.html\">History and License of Python</a>\n",
      "URL: license.html\n",
      "Contents: History and License of Python\n",
      "Attrs: {'class': ['biglink'], 'href': 'license.html'}\n",
      "TAG: <a class=\"biglink\" href=\"copyright.html\">Copyright</a>\n",
      "URL: copyright.html\n",
      "Contents: Copyright\n",
      "Attrs: {'class': ['biglink'], 'href': 'copyright.html'}\n",
      "TAG: <a href=\"download.html\">Download these documents</a>\n",
      "URL: download.html\n",
      "Contents: Download these documents\n",
      "Attrs: {'href': 'download.html'}\n",
      "TAG: <a href=\"https://docs.python.org/3.11/\">Python 3.11 (in development)</a>\n",
      "URL: https://docs.python.org/3.11/\n",
      "Contents: Python 3.11 (in development)\n",
      "Attrs: {'href': 'https://docs.python.org/3.11/'}\n",
      "TAG: <a href=\"https://docs.python.org/3.10/\">Python 3.10 (pre-release)</a>\n",
      "URL: https://docs.python.org/3.10/\n",
      "Contents: Python 3.10 (pre-release)\n",
      "Attrs: {'href': 'https://docs.python.org/3.10/'}\n",
      "TAG: <a href=\"https://docs.python.org/3.9/\">Python 3.9 (stable)</a>\n",
      "URL: https://docs.python.org/3.9/\n",
      "Contents: Python 3.9 (stable)\n",
      "Attrs: {'href': 'https://docs.python.org/3.9/'}\n",
      "TAG: <a href=\"https://docs.python.org/3.8/\">Python 3.8 (security-fixes)</a>\n",
      "URL: https://docs.python.org/3.8/\n",
      "Contents: Python 3.8 (security-fixes)\n",
      "Attrs: {'href': 'https://docs.python.org/3.8/'}\n",
      "TAG: <a href=\"https://docs.python.org/3.7/\">Python 3.7 (security-fixes)</a>\n",
      "URL: https://docs.python.org/3.7/\n",
      "Contents: Python 3.7 (security-fixes)\n",
      "Attrs: {'href': 'https://docs.python.org/3.7/'}\n",
      "TAG: <a href=\"https://docs.python.org/3.6/\">Python 3.6 (security-fixes)</a>\n",
      "URL: https://docs.python.org/3.6/\n",
      "Contents: Python 3.6 (security-fixes)\n",
      "Attrs: {'href': 'https://docs.python.org/3.6/'}\n",
      "TAG: <a href=\"https://docs.python.org/3.5/\">Python 3.5 (EOL)</a>\n",
      "URL: https://docs.python.org/3.5/\n",
      "Contents: Python 3.5 (EOL)\n",
      "Attrs: {'href': 'https://docs.python.org/3.5/'}\n",
      "TAG: <a href=\"https://docs.python.org/2.7/\">Python 2.7 (EOL)</a>\n",
      "URL: https://docs.python.org/2.7/\n",
      "Contents: Python 2.7 (EOL)\n",
      "Attrs: {'href': 'https://docs.python.org/2.7/'}\n",
      "TAG: <a href=\"https://www.python.org/doc/versions/\">All versions</a>\n",
      "URL: https://www.python.org/doc/versions/\n",
      "Contents: All versions\n",
      "Attrs: {'href': 'https://www.python.org/doc/versions/'}\n",
      "TAG: <a href=\"https://www.python.org/dev/peps/\">PEP Index</a>\n",
      "URL: https://www.python.org/dev/peps/\n",
      "Contents: PEP Index\n",
      "Attrs: {'href': 'https://www.python.org/dev/peps/'}\n",
      "TAG: <a href=\"https://wiki.python.org/moin/BeginnersGuide\">Beginner's Guide</a>\n",
      "URL: https://wiki.python.org/moin/BeginnersGuide\n",
      "Contents: Beginner's Guide\n",
      "Attrs: {'href': 'https://wiki.python.org/moin/BeginnersGuide'}\n",
      "TAG: <a href=\"https://wiki.python.org/moin/PythonBooks\">Book List</a>\n",
      "URL: https://wiki.python.org/moin/PythonBooks\n",
      "Contents: Book List\n",
      "Attrs: {'href': 'https://wiki.python.org/moin/PythonBooks'}\n",
      "TAG: <a href=\"https://www.python.org/doc/av/\">Audio/Visual Talks</a>\n",
      "URL: https://www.python.org/doc/av/\n",
      "Contents: Audio/Visual Talks\n",
      "Attrs: {'href': 'https://www.python.org/doc/av/'}\n",
      "TAG: <a href=\"https://devguide.python.org/\">Python Developer’s Guide</a>\n",
      "URL: https://devguide.python.org/\n",
      "Contents: Python Developer’s Guide\n",
      "Attrs: {'href': 'https://devguide.python.org/'}\n",
      "TAG: <a href=\"genindex.html\" title=\"General Index\">index</a>\n",
      "URL: genindex.html\n",
      "Contents: index\n",
      "Attrs: {'href': 'genindex.html', 'title': 'General Index'}\n",
      "TAG: <a href=\"py-modindex.html\" title=\"Python Module Index\">modules</a>\n",
      "URL: py-modindex.html\n",
      "Contents: modules\n",
      "Attrs: {'href': 'py-modindex.html', 'title': 'Python Module Index'}\n",
      "TAG: <a href=\"https://www.python.org/\">Python</a>\n",
      "URL: https://www.python.org/\n",
      "Contents: Python\n",
      "Attrs: {'href': 'https://www.python.org/'}\n",
      "TAG: <a href=\"#\">3.9.5 Documentation</a>\n",
      "URL: #\n",
      "Contents: 3.9.5 Documentation\n",
      "Attrs: {'href': '#'}\n",
      "TAG: <a href=\"copyright.html\">Copyright</a>\n",
      "URL: copyright.html\n",
      "Contents: Copyright\n",
      "Attrs: {'href': 'copyright.html'}\n",
      "TAG: <a href=\"https://www.python.org/psf/donations/\">Please donate.</a>\n",
      "URL: https://www.python.org/psf/donations/\n",
      "Contents: Please donate.\n",
      "Attrs: {'href': 'https://www.python.org/psf/donations/'}\n",
      "TAG: <a href=\"https://docs.python.org/3/bugs.html\">Found a bug</a>\n",
      "URL: https://docs.python.org/3/bugs.html\n",
      "Contents: Found a bug\n",
      "Attrs: {'href': 'https://docs.python.org/3/bugs.html'}\n",
      "TAG: <a href=\"https://www.sphinx-doc.org/\">Sphinx</a>\n",
      "URL: https://www.sphinx-doc.org/\n",
      "Contents: Sphinx\n",
      "Attrs: {'href': 'https://www.sphinx-doc.org/'}\n"
     ]
    }
   ],
   "source": [
    "# printing parts of html parser\n",
    "from urllib.request import urlopen\n",
    "from bs4 import BeautifulSoup\n",
    "import ssl\n",
    "\n",
    "# Ignore SSL certificate errors\n",
    "ctx = ssl.create_default_context()\n",
    "ctx.check_hostname = False\n",
    "ctx.verify_mode = ssl.CERT_NONE\n",
    "\n",
    "url = input('Enter - ')      #  https://docs.python.org    # http://www.dr-chuck.com/page1.htm\n",
    "html = urlopen(url, context=ctx).read()\n",
    "soup = BeautifulSoup(html, \"html.parser\")\n",
    "\n",
    "# Retrieve all of the anchor tags\n",
    "tags = soup('a')\n",
    "for tag in tags:\n",
    "# Look at the parts of a tag\n",
    "    print('TAG:', tag)\n",
    "    print('URL:', tag.get('href', None))\n",
    "    print('Contents:', tag.contents[0])\n",
    "    print('Attrs:', tag.attrs)\n"
   ]
  },
  {
   "cell_type": "markdown",
   "metadata": {},
   "source": [
    "### Exercise"
   ]
  },
  {
   "cell_type": "code",
   "execution_count": null,
   "metadata": {},
   "outputs": [],
   "source": [
    "# Scraping Numbers from HTML using BeautifulSoup. The program will use urllib to read the HTML from the data files\n",
    "# and parse the data, extracting numbers and compute the sum of the numbers in the file.\n",
    "\n",
    "from urllib.request import urlopen\n",
    "from bs4 import BeautifulSoup\n",
    "import ssl\n",
    "\n",
    "# Ignore SSL certificate errors\n",
    "ctx = ssl.create_default_context()\n",
    "ctx.check_hostname = False\n",
    "ctx.verify_mode = ssl.CERT_NONE\n",
    "\n",
    "url = input('Enter - ')      # http://py4e-data.dr-chuck.net/comments_1135272.html\n",
    "html = urlopen(url, context=ctx).read()\n",
    "soup = BeautifulSoup(html, \"html.parser\")\n",
    "\n",
    "# Retrieve all of the anchor tags\n",
    "tags = soup('span')\n",
    "count = 0\n",
    "for tag in tags:\n",
    "    print(tag)\n",
    "    count = count + int(tag.contents[0])\n",
    "    \n",
    "print(\"Sum = \", count)"
   ]
  },
  {
   "cell_type": "code",
   "execution_count": 43,
   "metadata": {},
   "outputs": [
    {
     "name": "stdout",
     "output_type": "stream",
     "text": [
      "Enter - http://py4e-data.dr-chuck.net/known_by_Fikret.html\n",
      "Enter Position of link: 18\n",
      "Enter number of iterations: 7\n",
      "Archibald\n"
     ]
    }
   ],
   "source": [
    "# The program will use urllib to read the HTML from the data files below, extract the href= vaues from the anchor tags, \n",
    "# scan for a tag that is in a particular position relative to the first name in the list, follow that link and \n",
    "# repeat the process a number of times and report the last name you find.\n",
    "# Find the link at position 18 (the first name is 1). Follow that link. Repeat this process 7 times. \n",
    "#The answer is the last name that you retrieve.\n",
    "\n",
    "import urllib.request, urllib.parse, urllib.error\n",
    "from bs4 import BeautifulSoup\n",
    "import ssl\n",
    "\n",
    "# Ignore SSL certificate errors\n",
    "ctx = ssl.create_default_context()\n",
    "ctx.check_hostname = False\n",
    "ctx.verify_mode = ssl.CERT_NONE\n",
    "\n",
    "url = input('Enter - ') # http://py4e-data.dr-chuck.net/known_by_Fikret.html #  http py4e-data.dr-chuck.net/known_by_Harriet.html\n",
    "html = urllib.request.urlopen(url, context=ctx).read()\n",
    "soup = BeautifulSoup(html, 'html.parser')\n",
    "\n",
    "pos = int(input(\"Enter Position of link: \"))   # 18\n",
    "itr = int(input(\"Enter number of iterations: \"))   #7\n",
    "names = []\n",
    "\n",
    "# Retrieve all of the anchor tags\n",
    "tags = soup('a')\n",
    "for i in range(itr):\n",
    "    link = tags[pos-1].get('href', None)\n",
    "    name = tags[pos-1].contents[0]\n",
    "    names.append(name)\n",
    "    html = urllib.request.urlopen(link, context = ctx).read()\n",
    "    soup = BeautifulSoup(html,\"html.parser\")\n",
    "    tags = soup('a')\n",
    "\n",
    "print(names[-1])"
   ]
  },
  {
   "cell_type": "code",
   "execution_count": 61,
   "metadata": {},
   "outputs": [
    {
     "name": "stdout",
     "output_type": "stream",
     "text": [
      "Enter URL: http://data.pr4e.org/romeo.txt\n",
      "HTTP/1.1 200 OK\n",
      "Date: Sun, 20 Jun 2021 16:23:21 GMT\n",
      "Server: Apache/2.4.18 (Ubuntu)\n",
      "Last-Modified: Sat, 13 May 2017 11:22:22 GMT\n",
      "ETag: \"a7-54f6609245537\"\n",
      "Accept-Ranges: bytes\n",
      "Content-Length: 167\n",
      "Cache-Control: max-age=0, no-cache, no-store, must-revalidate\n",
      "Pragma: no-cache\n",
      "Expires: Wed, 11 Jan 1984 05:00:00 GMT\n",
      "Connection: close\n",
      "Content-Type: text/plain\n",
      "\n",
      "But soft what light through yonder window breaks\n",
      "It is the east and Juliet is the sun\n",
      "Arise fair sun and kill the envious moon\n",
      "Who is already sick and pale with grief\n"
     ]
    }
   ],
   "source": [
    "# Use socket to prompt the user for the URL so it can read any web page. You can use split('/') to break the URL into its \n",
    "# component parts so you can extract the host name for the socket connect call. Add error checking using try and\n",
    "# except to handle the condition where the user enters an improperly formatted or non-existent URL\n",
    "import socket\n",
    "\n",
    "url = input(\"Enter URL: \")  # http://data.pr4e.org/romeo.txt\n",
    "parts = url.split(\"/\")\n",
    "host = parts[2]\n",
    "try:\n",
    "    mysock = socket.socket(socket.AF_INET, socket.SOCK_STREAM)\n",
    "    mysock.connect((host, 80))\n",
    "    command = 'GET ' + url + ' HTTP/1.0\\r\\n\\r\\n'  # Space compulsory after GET and before HTTP\n",
    "    cmd = command.encode()\n",
    "    mysock.send(cmd)\n",
    "\n",
    "    while True:\n",
    "        data = mysock.recv(512)\n",
    "        if len(data) < 1:\n",
    "            break\n",
    "        print(data.decode(),end='')\n",
    "    mysock.close()\n",
    "except:\n",
    "    print(\"Invalid URL\")"
   ]
  },
  {
   "cell_type": "code",
   "execution_count": 75,
   "metadata": {
    "scrolled": true
   },
   "outputs": [
    {
     "name": "stdout",
     "output_type": "stream",
     "text": [
      "Enter URL: http://data.pr4e.org/mbox-short.txt\n",
      "HTTP/1.1 200 OK\n",
      "Date: Sun, 20 Jun 2021 16:59:21 GMT\n",
      "Server: Apache/2.4.18 (Ubuntu)\n",
      "Last-Modified: Sat, 13 May 2017 11:22:22 GMT\n",
      "ETag: \"171a2-54f6609240717\"\n",
      "Accept-Ranges: bytes\n",
      "Content-Length: 94626\n",
      "Cache-Control: max-age=0, no-cache, no-store, must-revalidate\n",
      "Pragma: no-cache\n",
      "Expires: Wed, 11 Jan 1984 05:00:00 GMT\n",
      "Connection: close\n",
      "Content-Type: text/plain\n",
      "\n",
      "From stephen.marquard@uct.ac.za Sat Jan  5 09:14:16 2008\n",
      "Return-Path: <postmaster@collab.sakaiproject.org>\n",
      "Received: from murder (mail.umich.edu [141.211.14.90])\n",
      "\t by frankenstein.mail.umich.edu (Cyrus v2.3.8) with LMTPA;\n",
      "\t Sat, 05 Jan 2008 09:14:16 -0500\n",
      "X-Sieve: CMU Sieve 2.3\n",
      "Received: from murder ([unix socket])\n",
      "\t by mail.umich.edu (Cyrus v2.2.12) with LMTPA;\n",
      "\t Sat, 05 Jan 2008 09:14:16 -0500\n",
      "Received: from holes.mr.itd.umich.edu (holes.mr.itd.umich.edu [141.211.14.79])\n",
      "\tby flawless.mail.umich.edu () with ESMTP id m05EEFR1013674;\n",
      "\tSat, 5 Jan 2008 09:14:15 -0500\n",
      "Received: FROM paploo.uhi.ac.uk (app1.prod.collab.uhi.ac.uk [194.35.219.184])\n",
      "\tBY holes.mr.itd.umich.edu ID 477F90B0.2DB2F.12494 ; \n",
      "\t 5 Jan 2008 09:14:10 -0500\n",
      "Received: from paploo.uhi.ac.uk (localhost [127.0.0.1])\n",
      "\tby paploo.uhi.ac.uk (Postfix) with ESMTP id 5F919BC2F2;\n",
      "\tSat,  5 Jan 2008 14:10:05 +0000 (GMT)\n",
      "Message-ID: <200801051412.m05ECIaH010327@nakamura.uits.iupui.edu>\n",
      "Mime-Version: 1.0\n",
      "Content-Transfer-Encoding: 7bit\n",
      "Received: from prod.collab.uhi.ac.uk ([194.35.219.182])\n",
      "          by paploo.uhi.ac.uk (JAMES SMTP Server 2.1.3) with SMTP ID 899\n",
      "          for <source@collab.sakaiproject.org>;\n",
      "          Sat, 5 Jan 2008 14:09:50 +0000 (GMT)\n",
      "Received: from nakamura.uits.iupui.edu (nakamura.uits.iupui.edu [134.68.220.122])\n",
      "\tby shmi.uhi.ac.uk (Postfix) with ESMTP id A215243002\n",
      "\tfor <source@collab.sakaiproject.org>; Sat,  5 Jan 2008 14:13:33 +0000 (GMT)\n",
      "Received: from nakamura.uits.iupui.edu (localhost [127.0.0.1])\n",
      "\tby nakamura.uits.iupui.edu (8.12.11.20060308/8.12.11) with ESMTP id m05ECJVp010329\n",
      "\tfor <source@collab.sakaiproject.org>; Sat, 5 Jan 2008 09:12:19 -0500\n",
      "Received: (from apache@localhost)\n",
      "\tby nakamura.uits.iupui.edu (8.12.11.20060308/8.12.11/Submit) id m05ECIaH010327\n",
      "\tfor source@collab.sakaiproject.org; Sat, 5 Jan 2008 09:12:18 -0500\n",
      "Date: Sat, 5 Jan 2008 09:12:18 -0500\n",
      "X-Authentication-Warning: nakamura.uits.iupui.edu: apache set sender to stephen.marquard@uct.ac.za using -f\n",
      "To: source@collab.sakaiproject.org\n",
      "From: stephen.marquard@uct.ac.za\n",
      "Subject: [sakai] svn commit: r39772 - content/branches/sakai_2-5-x/content-impl/impl/src/java/org/sakaiproject/content/impl\n",
      "X-Content-Type-Outer-Envelope: text/plain; charset=UTF-8\n",
      "X-Content-Type-Message-Body: text/plain; charset=UTF-8\n",
      "Content-Type: text/plain; charset=UTF-8\n",
      "X-DSPAM-Result: Innocent\n",
      "X-DSPAM-Processed: Sat Jan  5 09:14:16 2008\n",
      "X-DSPAM-Confidence: 0.8475\n",
      "X-DSPAM-Probability: 0.0000\n",
      "\n",
      "Details: http://source.sakaiproject.org/viewsvn/?view=rev&rev=39772\n",
      "\n",
      "Author: stephen.marquard@uct.ac.za\n",
      "Date: 2008-01-05 09:12:07 -0500 (Sat, 05 Jan 2008)\n",
      "New Revision: 39772\n",
      "\n",
      "M\n",
      "Number of characters in doc : 95000\n"
     ]
    }
   ],
   "source": [
    "# Change your socket program so that it counts the number of characters it has received and stops displaying any text \n",
    "# after it has shown 3000 characters. The program should retrieve the entire document and \n",
    "# count the total number of characters and display the count of the number of characters at the end of the document.\n",
    "import socket\n",
    "\n",
    "url = input(\"Enter URL: \")  # http://data.pr4e.org/mbox-short.txt\n",
    "parts = url.split(\"/\")\n",
    "host = parts[2]\n",
    "try:\n",
    "    mysock = socket.socket(socket.AF_INET, socket.SOCK_STREAM)\n",
    "    mysock.connect((host, 80))\n",
    "    command = 'GET ' + url + ' HTTP/1.0\\r\\n\\r\\n'  # Space compulsory after GET and before HTTP\n",
    "    cmd = command.encode()\n",
    "    mysock.send(cmd)\n",
    "\n",
    "    total_data = str()\n",
    "    while True:\n",
    "        data = mysock.recv(1000)\n",
    "        if len(data) < 1:\n",
    "            break\n",
    "        total_data = total_data + str(data.decode())\n",
    "    mysock.close()\n",
    "except:\n",
    "    print(\"Invalid URL\")\n",
    "    \n",
    "print(total_data[0:3000])\n",
    "print(\"Number of characters in doc :\", len(total_data))"
   ]
  },
  {
   "cell_type": "code",
   "execution_count": 82,
   "metadata": {
    "scrolled": true
   },
   "outputs": [
    {
     "name": "stdout",
     "output_type": "stream",
     "text": [
      "Please enter a URL to retrieve data: http://data.pr4e.org/mbox-short.txt\n",
      "From stephen.marquard@uct.ac.za Sat Jan  5 09:14:16 2008\n",
      "Return-Path: <postmaster@collab.sakaiproject.org>\n",
      "Received: from murder (mail.umich.edu [141.211.14.90])\n",
      "\t by frankenstein.mail.umich.edu (Cyrus v2.3.8) with LMTPA;\n",
      "\t Sat, 05 Jan 2008 09:14:16 -0500\n",
      "X-Sieve: CMU Sieve 2.3\n",
      "Received: from murder ([unix socket])\n",
      "\t by mail.umich.edu (Cyrus v2.2.12) with LMTPA;\n",
      "\t Sat, 05 Jan 2008 09:14:16 -0500\n",
      "Received: from holes.mr.itd.umich.edu (holes.mr.itd.umich.edu [141.211.14.79])\n",
      "\tby flawless.mail.umich.edu () with ESMTP id m05EEFR1013674;\n",
      "\tSat, 5 Jan 2008 09:14:15 -0500\n",
      "Received: FROM paploo.uhi.ac.uk (app1.prod.collab.uhi.ac.uk [194.35.219.184])\n",
      "\tBY holes.mr.itd.umich.edu ID 477F90B0.2DB2F.12494 ; \n",
      "\t 5 Jan 2008 09:14:10 -0500\n",
      "Received: from paploo.uhi.ac.uk (localhost [127.0.0.1])\n",
      "\tby paploo.uhi.ac.uk (Postfix) with ESMTP id 5F919BC2F2;\n",
      "\tSat,  5 Jan 2008 14:10:05 +0000 (GMT)\n",
      "Message-ID: <200801051412.m05ECIaH010327@nakamura.uits.iupui.edu>\n",
      "Mime-Version: 1.0\n",
      "Content-Transfer-Encoding: 7bit\n",
      "Received: from prod.collab.uhi.ac.uk ([194.35.219.182])\n",
      "          by paploo.uhi.ac.uk (JAMES SMTP Server 2.1.3) with SMTP ID 899\n",
      "          for <source@collab.sakaiproject.org>;\n",
      "          Sat, 5 Jan 2008 14:09:50 +0000 (GMT)\n",
      "Received: from nakamura.uits.iupui.edu (nakamura.uits.iupui.edu [134.68.220.122])\n",
      "\tby shmi.uhi.ac.uk (Postfix) with ESMTP id A215243002\n",
      "\tfor <source@collab.sakaiproject.org>; Sat,  5 Jan 2008 14:13:33 +0000 (GMT)\n",
      "Received: from nakamura.uits.iupui.edu (localhost [127.0.0.1])\n",
      "\tby nakamura.uits.iupui.edu (8.12.11.20060308/8.12.11) with ESMTP id m05ECJVp010329\n",
      "\tfor <source@collab.sakaiproject.org>; Sat, 5 Jan 2008 09:12:19 -0500\n",
      "Received: (from apache@localhost)\n",
      "\tby nakamura.uits.iupui.edu (8.12.11.20060308/8.12.11/Submit) id m05ECIaH010327\n",
      "\tfor source@collab.sakaiproject.org; Sat, 5 Jan 2008 09:12:18 -0500\n",
      "Date: Sat, 5 Jan 2008 09:12:18 -0500\n",
      "X-Authentication-Warning: nakamura.uits.iupui.edu: apache set sender to stephen.marquard@uct.ac.za using -f\n",
      "To: source@collab.sakaiproject.org\n",
      "From: stephen.marquard@uct.ac.za\n",
      "Subject: [sakai] svn commit: r39772 - content/branches/sakai_2-5-x/content-impl/impl/src/java/org/sakaiproject/content/impl\n",
      "X-Content-Type-Outer-Envelope: text/plain; charset=UTF-8\n",
      "X-Content-Type-Message-Body: text/plain; charset=UTF-8\n",
      "Content-Type: text/plain; charset=UTF-8\n",
      "X-DSPAM-Result: Innocent\n",
      "X-DSPAM-Processed: Sat Jan  5 09:14:16 2008\n",
      "X-DSPAM-Confidence: 0.8475\n",
      "X-DSPAM-Probability: 0.0000\n",
      "\n",
      "Details: http://source.sakaiproject.org/viewsvn/?view=rev&rev=39772\n",
      "\n",
      "Author: stephen.marquard@uct.ac.za\n",
      "Date: 2008-01-05 09:12:07 -0500 (Sat, 05 Jan 2008)\n",
      "New Revision: 39772\n",
      "\n",
      "Modified:\n",
      "content/branches/sakai_2-5-x/content-impl/impl/src/java/org/sakaiproject/content/impl/ContentServiceSqlOracle.java\n",
      "content/branches/sakai_2-5-x/content-impl/impl/src/java/org/sakaiproject/content/impl/DbContentService.java\n",
      "Log:\n",
      "SAK-12501 merge to 2-5-x: r39622, r39624:5, r39632:3 (resolve conflict from differing linebreaks for r39622)\n",
      "\n",
      "----------------------\n",
      "This\n",
      "Number of characters in doc : 94626\n"
     ]
    }
   ],
   "source": [
    "# Use urllib to replicate the previous exercise of (1) retrieving the document from a URL, (2) displaying up to 3000 characters, and\n",
    "# (3) counting the overall number of characters in the document. Show the first 3000 characters of the document contents.\n",
    "import urllib.request, urllib.parse, urllib.error\n",
    "url = input ('Please enter a URL to retrieve data: ')    #  http://data.pr4e.org/mbox-short.txt\n",
    "fhand = urllib.request.urlopen(url)\n",
    "\n",
    "total_data = str()\n",
    "for line in fhand:\n",
    "    words = line.decode()\n",
    "    total_data = total_data + str(words)\n",
    "    \n",
    "print(total_data[:3000])\n",
    "print(\"Number of characters in doc :\", len(total_data))"
   ]
  },
  {
   "cell_type": "code",
   "execution_count": 85,
   "metadata": {
    "scrolled": true
   },
   "outputs": [
    {
     "name": "stdout",
     "output_type": "stream",
     "text": [
      "Enter a URL:https://docs.python.org\n",
      "TAG: <p>\n",
      "  Welcome! This is the documentation for Python 3.9.5.\n",
      "  </p>\n",
      "TAG: <p><strong>Parts of the documentation:</strong></p>\n",
      "TAG: <p class=\"biglink\"><a class=\"biglink\" href=\"whatsnew/3.9.html\">What's new in Python 3.9?</a><br/>\n",
      "<span class=\"linkdescr\"> or <a href=\"whatsnew/index.html\">all \"What's new\" documents</a> since 2.0</span></p>\n",
      "TAG: <p class=\"biglink\"><a class=\"biglink\" href=\"tutorial/index.html\">Tutorial</a><br/>\n",
      "<span class=\"linkdescr\">start here</span></p>\n",
      "TAG: <p class=\"biglink\"><a class=\"biglink\" href=\"library/index.html\">Library Reference</a><br/>\n",
      "<span class=\"linkdescr\">keep this under your pillow</span></p>\n",
      "TAG: <p class=\"biglink\"><a class=\"biglink\" href=\"reference/index.html\">Language Reference</a><br/>\n",
      "<span class=\"linkdescr\">describes syntax and language elements</span></p>\n",
      "TAG: <p class=\"biglink\"><a class=\"biglink\" href=\"using/index.html\">Python Setup and Usage</a><br/>\n",
      "<span class=\"linkdescr\">how to use Python on different platforms</span></p>\n",
      "TAG: <p class=\"biglink\"><a class=\"biglink\" href=\"howto/index.html\">Python HOWTOs</a><br/>\n",
      "<span class=\"linkdescr\">in-depth documents on specific topics</span></p>\n",
      "TAG: <p class=\"biglink\"><a class=\"biglink\" href=\"installing/index.html\">Installing Python Modules</a><br/>\n",
      "<span class=\"linkdescr\">installing from the Python Package Index &amp; other sources</span></p>\n",
      "TAG: <p class=\"biglink\"><a class=\"biglink\" href=\"distributing/index.html\">Distributing Python Modules</a><br/>\n",
      "<span class=\"linkdescr\">publishing modules for installation by others</span></p>\n",
      "TAG: <p class=\"biglink\"><a class=\"biglink\" href=\"extending/index.html\">Extending and Embedding</a><br/>\n",
      "<span class=\"linkdescr\">tutorial for C/C++ programmers</span></p>\n",
      "TAG: <p class=\"biglink\"><a class=\"biglink\" href=\"c-api/index.html\">Python/C API</a><br/>\n",
      "<span class=\"linkdescr\">reference for C/C++ programmers</span></p>\n",
      "TAG: <p class=\"biglink\"><a class=\"biglink\" href=\"faq/index.html\">FAQs</a><br/>\n",
      "<span class=\"linkdescr\">frequently asked questions (with answers!)</span></p>\n",
      "TAG: <p><strong>Indices and tables:</strong></p>\n",
      "TAG: <p class=\"biglink\"><a class=\"biglink\" href=\"py-modindex.html\">Global Module Index</a><br/>\n",
      "<span class=\"linkdescr\">quick access to all modules</span></p>\n",
      "TAG: <p class=\"biglink\"><a class=\"biglink\" href=\"genindex.html\">General Index</a><br/>\n",
      "<span class=\"linkdescr\">all functions, classes, terms</span></p>\n",
      "TAG: <p class=\"biglink\"><a class=\"biglink\" href=\"glossary.html\">Glossary</a><br/>\n",
      "<span class=\"linkdescr\">the most important terms explained</span></p>\n",
      "TAG: <p class=\"biglink\"><a class=\"biglink\" href=\"search.html\">Search page</a><br/>\n",
      "<span class=\"linkdescr\">search this documentation</span></p>\n",
      "TAG: <p class=\"biglink\"><a class=\"biglink\" href=\"contents.html\">Complete Table of Contents</a><br/>\n",
      "<span class=\"linkdescr\">lists all sections and subsections</span></p>\n",
      "TAG: <p><strong>Meta information:</strong></p>\n",
      "TAG: <p class=\"biglink\"><a class=\"biglink\" href=\"bugs.html\">Reporting bugs</a></p>\n",
      "TAG: <p class=\"biglink\"><a class=\"biglink\" href=\"https://devguide.python.org/docquality/#helping-with-documentation\">Contributing to Docs</a></p>\n",
      "TAG: <p class=\"biglink\"><a class=\"biglink\" href=\"about.html\">About the documentation</a></p>\n",
      "TAG: <p class=\"biglink\"><a class=\"biglink\" href=\"license.html\">History and License of Python</a></p>\n",
      "TAG: <p class=\"biglink\"><a class=\"biglink\" href=\"copyright.html\">Copyright</a></p>\n",
      "TAG: <p><a href=\"download.html\">Download these documents</a></p>\n",
      "26\n"
     ]
    }
   ],
   "source": [
    "# Write a program to extract and count paragraph (p) tags from the retrieved HTML document and display the count of the \n",
    "# paragraphs as the output of your program. Do not display the paragraph text, only count them. \n",
    "import urllib.request, urllib.parse, urllib.error\n",
    "from bs4 import BeautifulSoup\n",
    "import ssl\n",
    "\n",
    "ctx = ssl.create_default_context()\n",
    "ctx.check_hostname = False\n",
    "ctx.verify_mode = ssl.CERT_NONE\n",
    "\n",
    "url = input('Enter a URL:')  # https://en.wikipedia.org/wiki/Particulates   # https://docs.python.org\n",
    "html = urllib.request.urlopen(url, context=ctx).read()\n",
    "soup = BeautifulSoup(html, 'html.parser')\n",
    "\n",
    "tags = soup('p')\n",
    "count = 0\n",
    "for tag in tags:\n",
    "    print('TAG:', tag)\n",
    "    count += 1\n",
    "\n",
    "print(count)"
   ]
  },
  {
   "cell_type": "code",
   "execution_count": 86,
   "metadata": {},
   "outputs": [
    {
     "name": "stdout",
     "output_type": "stream",
     "text": [
      "But soft what light through yonder window breaks\n",
      "It is the east and Juliet is the sun\n",
      "Arise fair sun and kill the envious moon\n",
      "Who is already sick and pale with grief\n",
      "\n"
     ]
    }
   ],
   "source": [
    "# Change the socket program so that it only shows data after the headers and a blank line have been received.\n",
    "# Remember that recv receives characters (newlines and all), not lines.\n",
    "\n",
    "import socket\n",
    "\n",
    "mysock = socket.socket(socket.AF_INET, socket.SOCK_STREAM)\n",
    "mysock.connect(('data.pr4e.org', 80))\n",
    "cmd = 'GET http://data.pr4e.org/romeo.txt HTTP/1.0\\r\\n\\r\\n'.encode()\n",
    "mysock.send(cmd)\n",
    "total_data = b''  # its in byte string. have to decode afterwards\n",
    "while True:\n",
    "    data = mysock.recv(512)\n",
    "    if len(data) < 1:\n",
    "        break\n",
    "    total_data = total_data + data\n",
    "    \n",
    "total_data = total_data.split(b\"\\r\\n\\r\\n\")\n",
    "total_data = total_data [1]\n",
    "total_data = total_data.decode()\n",
    "print (total_data)\n",
    "\n",
    "mysock.close()"
   ]
  },
  {
   "cell_type": "markdown",
   "metadata": {},
   "source": [
    "## Chapter - 13  Using Web Services - Parsing XML, JSON, Using APIs"
   ]
  },
  {
   "cell_type": "markdown",
   "metadata": {},
   "source": [
    "### Parsing XML"
   ]
  },
  {
   "cell_type": "code",
   "execution_count": 1,
   "metadata": {},
   "outputs": [
    {
     "name": "stdout",
     "output_type": "stream",
     "text": [
      "Name: Chuck\n",
      "Attr: yes\n"
     ]
    }
   ],
   "source": [
    "# simple application that parses some XML and extracts some data elements from the XML\n",
    "import xml.etree.ElementTree as ET\n",
    "data = '''                         \n",
    "        <person>\n",
    "            <name>Chuck</name>\n",
    "            <phone type=\"intl\">\n",
    "                +1 734 303 4456\n",
    "            </phone>\n",
    "            <email hide=\"yes\" />\n",
    "        </person>'''                # allow for the creation of strings that span multiple lines\n",
    "\n",
    "tree = ET.fromstring(data)    # Calling fromstring converts the string representation of the XML into a “tree” of XML elements.\n",
    "print('Name:', tree.find('name').text)   # The find function searches through the XML tree and retrieves the element that matches the specified tag.\n",
    "print('Attr:', tree.find('email').get('hide'))"
   ]
  },
  {
   "cell_type": "code",
   "execution_count": 7,
   "metadata": {},
   "outputs": [
    {
     "name": "stdout",
     "output_type": "stream",
     "text": [
      "User count: 2\n",
      "Name Chuck\n",
      "Id 001\n",
      "Attribute 2\n",
      "Name Brent\n",
      "Id 009\n",
      "Attribute 7\n"
     ]
    }
   ],
   "source": [
    "# Often the XML has multiple nodes and we need to write a loop to process all of the nodes\n",
    "import xml.etree.ElementTree as ET\n",
    "input = '''\n",
    "        <stuff>\n",
    "            <users>\n",
    "                <user x=\"2\">\n",
    "                    <id>001</id>\n",
    "                    <name>Chuck</name>\n",
    "                </user>\n",
    "                <user x=\"7\">\n",
    "                    <id>009</id>\n",
    "                    <name>Brent</name>\n",
    "                </user>\n",
    "            </users>\n",
    "        </stuff>'''\n",
    "\n",
    "stuff = ET.fromstring(input)\n",
    "lst = stuff.findall('users/user')   # also can use .//user to find directly any tag\n",
    "# It is important to include all parent level elements in findall statement except for the top level element(stuff-dont include)\n",
    "# (e.g., users/user). Otherwise, Python will not find any desired nodes.\n",
    "print('User count:', len(lst))\n",
    "\n",
    "for item in lst:\n",
    "    print('Name', item.find('name').text)\n",
    "    print('Id', item.find('id').text)\n",
    "    print('Attribute', item.get('x'))"
   ]
  },
  {
   "cell_type": "code",
   "execution_count": 5,
   "metadata": {},
   "outputs": [
    {
     "name": "stdout",
     "output_type": "stream",
     "text": [
      "Enter - http://py4e-data.dr-chuck.net/comments_42.xml\n",
      "2553\n"
     ]
    }
   ],
   "source": [
    "#  The program will prompt for a URL, read the XML data from that URL using urllib \n",
    "# and then parse and extract the comment counts from the XML data, compute the sum of the numbers in the file.\n",
    "\n",
    "import urllib.request, urllib.parse, urllib.error\n",
    "import xml.etree.ElementTree as ET\n",
    "import ssl\n",
    "\n",
    "# Ignore SSL certificate errors\n",
    "ctx = ssl.create_default_context()\n",
    "ctx.check_hostname = False\n",
    "ctx.verify_mode = ssl.CERT_NONE\n",
    "\n",
    "url = input('Enter - ') # http://py4e-data.dr-chuck.net/comments_42.xml   #  http://py4e-data.dr-chuck.net/comments_1135274.xml\n",
    "xml = urllib.request.urlopen(url, context=ctx).read()\n",
    "stuff = ET.fromstring(xml)\n",
    "lst = stuff.findall('comments/comment')   # or directly .//count \n",
    "\n",
    "sum = 0\n",
    "for item in lst:\n",
    "    sum = sum + int(item.find('count').text)\n",
    "print(sum)"
   ]
  },
  {
   "cell_type": "markdown",
   "metadata": {},
   "source": [
    "### JSON - JavaScript Object Notation"
   ]
  },
  {
   "cell_type": "code",
   "execution_count": 8,
   "metadata": {},
   "outputs": [
    {
     "name": "stdout",
     "output_type": "stream",
     "text": [
      "User count: 2\n",
      "Name Chuck\n",
      "Id 001\n",
      "Attribute 2\n",
      "Name Brent\n",
      "Id 009\n",
      "Attribute 7\n"
     ]
    }
   ],
   "source": [
    "import json\n",
    "data = '''\n",
    "        [\n",
    "            { \"id\" : \"001\",\n",
    "              \"x\" : \"2\",\n",
    "              \"name\" : \"Chuck\"\n",
    "             } ,\n",
    "             { \"id\" : \"009\",\n",
    "                \"x\" : \"7\",\n",
    "                \"name\" : \"Brent\"\n",
    "             }\n",
    "        ]'''\n",
    "info = json.loads(data)  # we get from json.loads() is a Python list which we traverse with a for loop, and each item within that list is a Python dictionary.\n",
    "print('User count:', len(info))\n",
    "\n",
    "for item in info:\n",
    "    print('Name', item['name'])   # each item within the python list is a Python dictionary.\n",
    "    print('Id', item['id'])\n",
    "    print('Attribute', item['x'])"
   ]
  },
  {
   "cell_type": "code",
   "execution_count": 4,
   "metadata": {},
   "outputs": [
    {
     "name": "stdout",
     "output_type": "stream",
     "text": [
      "Enter - http://py4e-data.dr-chuck.net/comments_42.json\n",
      "Count:  50\n",
      "Sum:  2553\n"
     ]
    }
   ],
   "source": [
    "# Prompt for an URL, read the JSON data from that URL using urllib and then parse and\n",
    "# extract the comment counts from the JSON data and compute their sum.\n",
    "\n",
    "import urllib.request, urllib.parse, urllib.error\n",
    "import json\n",
    "import ssl\n",
    "\n",
    "# Ignore SSL certificate errors\n",
    "ctx = ssl.create_default_context()\n",
    "ctx.check_hostname = False\n",
    "ctx.verify_mode = ssl.CERT_NONE\n",
    "\n",
    "url = input('Enter - ') # http://py4e-data.dr-chuck.net/comments_42.json  # http://py4e-data.dr-chuck.net/comments_1135275.json\n",
    "data = urllib.request.urlopen(url, context=ctx).read()\n",
    "\n",
    "info = json.loads(data)\n",
    "# print(json.dumps(info, indent=2))   # to see json data\n",
    "\n",
    "sum = 0\n",
    "count = 0\n",
    "for item in info['comments']:\n",
    "    num = item['count']\n",
    "    sum = sum + int(num)\n",
    "    count = count +1\n",
    "\n",
    "print('Count: ', count)\n",
    "print('Sum: ', sum)"
   ]
  },
  {
   "cell_type": "code",
   "execution_count": 3,
   "metadata": {},
   "outputs": [
    {
     "name": "stdout",
     "output_type": "stream",
     "text": [
      "Enter location: Bharthidasan University\n",
      "Retriving http://py4e-data.dr-chuck.net/json?address=Bharthidasan+University&key=42\n",
      "Retrived 1893 characters\n",
      "{\n",
      "    \"results\": [\n",
      "        {\n",
      "            \"address_components\": [\n",
      "                {\n",
      "                    \"long_name\": \"Tiruchirappalli\",\n",
      "                    \"short_name\": \"Tiruchirappalli\",\n",
      "                    \"types\": [\n",
      "                        \"locality\",\n",
      "                        \"political\"\n",
      "                    ]\n",
      "                },\n",
      "                {\n",
      "                    \"long_name\": \"Tiruchirappalli\",\n",
      "                    \"short_name\": \"Tiruchirappalli\",\n",
      "                    \"types\": [\n",
      "                        \"administrative_area_level_2\",\n",
      "                        \"political\"\n",
      "                    ]\n",
      "                },\n",
      "                {\n",
      "                    \"long_name\": \"Tamil Nadu\",\n",
      "                    \"short_name\": \"TN\",\n",
      "                    \"types\": [\n",
      "                        \"administrative_area_level_1\",\n",
      "                        \"political\"\n",
      "                    ]\n",
      "                },\n",
      "                {\n",
      "                    \"long_name\": \"India\",\n",
      "                    \"short_name\": \"IN\",\n",
      "                    \"types\": [\n",
      "                        \"country\",\n",
      "                        \"political\"\n",
      "                    ]\n",
      "                },\n",
      "                {\n",
      "                    \"long_name\": \"620024\",\n",
      "                    \"short_name\": \"620024\",\n",
      "                    \"types\": [\n",
      "                        \"postal_code\"\n",
      "                    ]\n",
      "                }\n",
      "            ],\n",
      "            \"formatted_address\": \"Palkalaiperur, Tiruchirappalli, Tamil Nadu 620024, India\",\n",
      "            \"geometry\": {\n",
      "                \"location\": {\n",
      "                    \"lat\": 10.6779085,\n",
      "                    \"lng\": 78.74454879999999\n",
      "                },\n",
      "                \"location_type\": \"GEOMETRIC_CENTER\",\n",
      "                \"viewport\": {\n",
      "                    \"northeast\": {\n",
      "                        \"lat\": 10.6792574802915,\n",
      "                        \"lng\": 78.7458977802915\n",
      "                    },\n",
      "                    \"southwest\": {\n",
      "                        \"lat\": 10.6765595197085,\n",
      "                        \"lng\": 78.74319981970848\n",
      "                    }\n",
      "                }\n",
      "            },\n",
      "            \"partial_match\": true,\n",
      "            \"place_id\": \"ChIJP1IUwk2JqjsRc3y97ndv37A\",\n",
      "            \"plus_code\": {\n",
      "                \"compound_code\": \"MPHV+5R Tiruchirappalli, Tamil Nadu, India\",\n",
      "                \"global_code\": \"7J2WMPHV+5R\"\n",
      "            },\n",
      "            \"types\": [\n",
      "                \"establishment\",\n",
      "                \"point_of_interest\",\n",
      "                \"university\"\n",
      "            ]\n",
      "        }\n",
      "    ],\n",
      "    \"status\": \"OK\"\n",
      "}\n",
      "Place id ChIJP1IUwk2JqjsRc3y97ndv37A\n"
     ]
    }
   ],
   "source": [
    "# The program will prompt for a location, contact a web service and \n",
    "# retrieve JSON for the web service and parse that data, and retrieve the first place_id from the JSON.\n",
    "\n",
    "import urllib.error, urllib.request, urllib.parse\n",
    "import json\n",
    "\n",
    "target = 'http://py4e-data.dr-chuck.net/json?' \n",
    "local = input('Enter location: ')    # Bharthidasan University\n",
    "url = target + urllib.parse.urlencode({'address': local, 'key' : 42})\n",
    "\n",
    "print('Retriving', url)\n",
    "data = urllib.request.urlopen(url).read()\n",
    "print('Retrived', len(data), 'characters')\n",
    "js = json.loads(data)\n",
    "print(json.dumps(js, indent = 4)) \n",
    "print('Place id', js['results'][0]['place_id'])"
   ]
  },
  {
   "cell_type": "markdown",
   "metadata": {},
   "source": [
    "## Chapter - 15  Using Databases and SQL"
   ]
  },
  {
   "cell_type": "markdown",
   "metadata": {},
   "source": [
    "### SQL Commands"
   ]
  },
  {
   "cell_type": "markdown",
   "metadata": {},
   "source": [
    "CREATE TABLE Tracks (title TEXT, plays INTEGER)          <br><br>\n",
    "INSERT INTO Tracks (title, plays) VALUES ('My Way', 15)  <br><br>\n",
    "SELECT * FROM Tracks WHERE title = 'My Way'              <br><br>\n",
    "SELECT title,plays FROM Tracks ORDER BY title            <br><br>\n",
    "DELETE FROM Tracks WHERE title = 'My Way'                <br><br>\n",
    "UPDATE Tracks SET plays = 16 WHERE title = 'My Way'      <br><br>"
   ]
  },
  {
   "cell_type": "code",
   "execution_count": null,
   "metadata": {},
   "outputs": [],
   "source": [
    "# Creating a a database music and then creating a table named Tracks with two fields- title, plays\n",
    "import sqlite3\n",
    "\n",
    "conn = sqlite3.connect('music.sqlite')\n",
    "cur = conn.cursor()\n",
    "\n",
    "cur.execute('DROP TABLE IF EXISTS Tracks')\n",
    "cur.execute('CREATE TABLE Tracks (title TEXT, plays INTEGER)')\n",
    "conn.close()"
   ]
  },
  {
   "cell_type": "code",
   "execution_count": 1,
   "metadata": {},
   "outputs": [
    {
     "name": "stdout",
     "output_type": "stream",
     "text": [
      "Tracks:\n",
      "('Thunderstruck', 20)\n",
      "('My Way', 15)\n"
     ]
    }
   ],
   "source": [
    "# Inserting and Deleting records into table in database\n",
    "import sqlite3\n",
    "\n",
    "conn = sqlite3.connect('music.sqlite')\n",
    "cur = conn.cursor()\n",
    "\n",
    "# Inserting values into Tracks table\n",
    "cur.execute('INSERT INTO Tracks (title, plays) VALUES (?, ?)',('Thunderstruck', 20))\n",
    "cur.execute('INSERT INTO Tracks (title, plays) VALUES (?, ?)',('My Way', 15))\n",
    "conn.commit()\n",
    "\n",
    "# Printing values stored inside Tracks\n",
    "print('Tracks:')\n",
    "cur.execute('SELECT title, plays FROM Tracks')\n",
    "for record in cur:\n",
    "    print(record)\n",
    "\n",
    "# Deleting records using condition plays <100    \n",
    "cur.execute('DELETE FROM Tracks WHERE plays < 100')\n",
    "conn.commit()\n",
    "cur.close()\n"
   ]
  },
  {
   "cell_type": "code",
   "execution_count": 17,
   "metadata": {},
   "outputs": [
    {
     "name": "stdout",
     "output_type": "stream",
     "text": [
      "Enter file name: \n",
      "iupui.edu 536\n",
      "umich.edu 491\n",
      "indiana.edu 178\n",
      "caret.cam.ac.uk 157\n",
      "vt.edu 110\n",
      "uct.ac.za 96\n",
      "media.berkeley.edu 56\n",
      "ufp.pt 28\n",
      "gmail.com 25\n",
      "et.gatech.edu 17\n",
      "txstate.edu 17\n",
      "whitman.edu 17\n",
      "lancaster.ac.uk 14\n",
      "bu.edu 14\n",
      "stanford.edu 12\n",
      "unicon.net 9\n",
      "loi.nl 9\n",
      "rsmart.com 8\n",
      "ucdavis.edu 1\n",
      "fhda.edu 1\n",
      "utoronto.ca 1\n",
      "1797\n"
     ]
    }
   ],
   "source": [
    "# Store Domain name from emails and count them from mbox.txt and store in database.\n",
    "import sqlite3\n",
    "\n",
    "conn = sqlite3.connect('assignment2.sqlite')\n",
    "cur = conn.cursor()\n",
    "\n",
    "cur.execute('DROP TABLE IF EXISTS Counts')\n",
    "\n",
    "cur.execute('''\n",
    "CREATE TABLE Counts (org TEXT, count INTEGER)''')\n",
    "\n",
    "fname = input('Enter file name: ')\n",
    "if (len(fname) < 1): fname = 'mbox.txt'\n",
    "fh = open(fname)\n",
    "for line in fh:\n",
    "    if not line.startswith('From: '): continue\n",
    "    pieces = line.split()\n",
    "    email = pieces[1]\n",
    "    words = email.split('@')\n",
    "    domain = words[1]\n",
    "    cur.execute('SELECT count FROM Counts WHERE org = ? ', (domain,))\n",
    "    row = cur.fetchone()\n",
    "    if row is None:\n",
    "        cur.execute('''INSERT INTO Counts (org, count)\n",
    "                VALUES (?, 1)''', (domain,))\n",
    "    else:\n",
    "        cur.execute('UPDATE Counts SET count = count + 1 WHERE org = ?',\n",
    "                    (domain,))\n",
    "conn.commit()\n",
    "\n",
    "# https://www.sqlite.org/lang_select.html\n",
    "sqlstr = 'SELECT org, count FROM Counts ORDER By count DESC'\n",
    "\n",
    "sum = 0\n",
    "for row in cur.execute(sqlstr):\n",
    "    print(str(row[0]), row[1])\n",
    "    sum = sum+ row[1]\n",
    "print(sum)\n",
    "\n",
    "cur.close()"
   ]
  },
  {
   "cell_type": "code",
   "execution_count": 23,
   "metadata": {},
   "outputs": [
    {
     "name": "stdout",
     "output_type": "stream",
     "text": [
      "Enter file name: \n",
      "Dict count: 404\n",
      "Another One Bites The Dust Queen Rock Greatest Hits 55 100 217103\n",
      "Asche Zu Asche Rammstein Industrial Herzeleid 79 100 231810\n",
      "Beauty School Dropout Various Soundtrack Grease 48 100 239960\n",
      "Black Dog Led Zeppelin Rock IV 109 100 296620\n",
      "Bring The Boys Back Home Pink Floyd Rock The Wall [Disc 2] 33 100 87118\n",
      "Circles Bryan Lee Funk Blues Is 54 60 355369\n",
      "Comfortably Numb Pink Floyd Rock The Wall [Disc 2] 36 100 384130\n",
      "Crazy Little Thing Called Love Queen Rock Greatest Hits 38 100 163631\n",
      "Electric Funeral Black Sabbath Metal Paranoid 44 100 293015\n",
      "Fat Bottomed Girls Queen Rock Greatest Hits 38 100 257515\n",
      "For Those About To Rock (We Salute You) AC/DC Rock Who Made Who 84 100 353750\n",
      "Four Sticks Led Zeppelin Rock IV 84 100 284421\n",
      "Furious Angels Rob Dougan Soundtrack The Matrix Reloaded 54 100 330004\n",
      "Gelle Bryan Lee Blues/R&B Blues Is 45 60 199836\n",
      "Going To California Led Zeppelin Rock IV 100 100 215666\n",
      "Grease Various Soundtrack Grease 42 100 205792\n",
      "Hand of Doom Black Sabbath Metal Paranoid 36 100 429609\n",
      "Hells Bells AC/DC Rock Who Made Who 82 100 312946\n",
      "Hey You Pink Floyd Rock The Wall [Disc 2] 23 100 282305\n",
      "I Worry Bryan Lee Blues/R&B Blues Is 33 100 341315\n",
      "Iron Man Black Sabbath Metal Paranoid 39 100 358530\n",
      "Is There Anybody Out There? Pink Floyd Rock The Wall [Disc 2] 26 100 160679\n",
      "It was a Very Good Year Frank Sinatra Easy Listening Greatest Hits 39 100 268852\n",
      "Its Your Move Bryan Lee Blues/R&B Blues Is 40 100 245002\n",
      "Jack the Stripper/Fairies Wear Boots Black Sabbath Metal Paranoid 35 100 373995\n",
      "Killer Queen Queen Rock Greatest Hits 34 100 181368\n",
      "Laichzeit Rammstein Industrial Herzeleid 41 100 262844\n",
      "Let me Down Easy Bryan Lee Blues/R&B Blues Is 43 100 331441\n",
      "Misty Mountain Hop Led Zeppelin Rock IV 88 100 278831\n",
      "No Low Down Bryan Lee Blues/R&B Blues Is 39 100 245760\n",
      "Now You Are Gone America Easy Listening Greatest Hits 52 100 187559\n",
      "Outside The Wall Pink Floyd Rock The Wall [Disc 2] 16 100 104437\n",
      "Paranoid Black Sabbath Metal Paranoid 36 100 172930\n",
      "Planet Caravan Black Sabbath Metal Paranoid 38 100 274938\n",
      "Pretty Jeanie Bryan Lee Blues/R&B Blues Is 34 100 225175\n",
      "Rammstein Rammstein Industrial Herzeleid 45 100 265090\n",
      "Rat Salad Black Sabbath Metal Paranoid 46 100 150230\n",
      "Rock & Roll Led Zeppelin Rock IV 109 100 220891\n",
      "Rode Across the Desert America Easy Listening Greatest Hits 60 100 249887\n",
      "Sandy Various Soundtrack Grease 36 100 155742\n",
      "Shake Your Foundations AC/DC Rock Who Made Who 85 100 233769\n",
      "Sister Golden Hair America Easy Listening Greatest Hits 60 100 202057\n",
      "Somebody To Love Queen Rock Greatest Hits 17 100 297586\n",
      "Stairway To Heaven Led Zeppelin Rock IV 93 100 481567\n",
      "Strangers in the Night Frank Sinatra Easy Listening Greatest Hits 42 100 158484\n",
      "Summer Nights Various Soundtrack Grease 35 100 216973\n",
      "Summer Wind Frank Sinatra Easy Listening Greatest Hits 46 100 177554\n",
      "Thats Life Frank Sinatra Easy Listening Greatest Hits 43 100 189988\n",
      "The Battle Of Evermore Led Zeppelin Rock IV 110 100 351529\n",
      "The Blues \"Is\" Bryan Lee Blues/R&B Blues Is 45 100 252238\n",
      "There it Is Bryan Lee Blues/R&B Blues Is 35 100 395441\n",
      "Think Bryan Lee Blues/R&B Blues Is 41 100 320339\n",
      "This Town Frank Sinatra Easy Listening Greatest Hits 44 100 185051\n",
      "Tin Man America Easy Listening Greatest Hits 50 100 210076\n",
      "Track 01 Billy Price Blues/R&B Danger Zone 47 100 261825\n",
      "Track 02 Billy Price Blues/R&B Danger Zone 42 100 165459\n",
      "Track 03 Billy Price Blues/R&B Danger Zone 41 100 206471\n",
      "Messin with the Kid The Canettes Blues Band Blues/R&B Self Titled 23 100 226377\n",
      "Track 04 Billy Price Blues/R&B Danger Zone 37 100 257175\n",
      "Stormy Monday The Canettes Blues Band Blues/R&B Self Titled 29 100 464143\n",
      "Track 05 Billy Price Blues/R&B Danger Zone 42 100 230295\n",
      "Waiting on Ice Bryan Lee Blues/R&B Blues Is 37 100 289384\n",
      "War Pigs/Luke's Wall Black Sabbath Metal Paranoid 38 100 478197\n",
      "We Are The Champions Queen Rock Greatest Hits 24 100 181864\n",
      "We Will Rock You Queen Rock Greatest Hits 33 100 123559\n",
      "When Somebody Loves You Frank Sinatra Easy Listening Greatest Hits 43 100 117263\n",
      "When The Levee Breaks Led Zeppelin Rock IV 83 100 427624\n",
      "You are the One that I Want Various Soundtrack Grease 31 100 169900\n",
      "You Done Me Wrong Bryan Lee Blues/R&B Blues Is 35 100 200097\n",
      "You Shook Me All Night Long AC/DC Rock Who Made Who 92 100 210938\n",
      "You're My Best Friend Queen Rock Greatest Hits 31 100 172643\n",
      "Zion Fluke Soundtrack The Matrix Reloaded 47 100 273528\n",
      "Who Made Who AC/DC Rock Who Made Who 110 100 207203\n",
      "D.T. AC/DC Rock Who Made Who 90 None 173714\n",
      "Sink the Pink AC/DC Rock Who Made Who 83 None 253466\n",
      "Ride On AC/DC Rock Who Made Who 75 None 351268\n",
      "Chase the Ace AC/DC Rock Who Made Who 93 None 181420\n",
      "Wollt Ihr Das Bett In Flammen Sehen Rammstein Industrial Herzeleid 50 None 317387\n",
      "Der Meister Rammstein Industrial Herzeleid 46 None 250801\n",
      "Weisses Fleisch Rammstein Industrial Herzeleid 52 None 215902\n",
      "Seemann Rammstein Industrial Herzeleid 34 None 288235\n",
      "Du Riechst So Gut Rammstein Industrial Herzeleid 50 None 289332\n",
      "Das Alte Leid Rammstein Industrial Herzeleid 46 None 344581\n",
      "Heirate Mich Rammstein Industrial Herzeleid 39 None 284734\n",
      "Herzeleid Rammstein Industrial Herzeleid 42 None 223425\n",
      "Baba O'Riley The Who Rock Who's Next 45 None 298448\n",
      "Bargain The Who Rock Who's Next 37 None 331676\n",
      "Love Ain't for Keeping The Who Rock Who's Next 24 None 130560\n",
      "My Wife The Who Rock Who's Next 17 None 213786\n",
      "The Song Is Over The Who Rock Who's Next 14 None 375797\n",
      "Getting In Tune The Who Rock Who's Next 27 None 288809\n",
      "Going Mobile The Who Rock Who's Next 28 100 221910\n",
      "Behind Blue Eyes The Who Rock Who's Next 43 None 221570\n",
      "Won't Get Fooled Again The Who Rock Who's Next 21 None 511111\n",
      "Folsom Prison Blues Johnny Cash Country The Legend Of Johnny Cash 47 100 170004\n",
      "I Walk The Line Johnny Cash Country The Legend Of Johnny Cash 33 100 165720\n",
      "Get Rhythm Johnny Cash Country The Legend Of Johnny Cash 35 100 134530\n",
      "Big River Johnny Cash Country The Legend Of Johnny Cash 51 None 152711\n",
      "Guess Things Happen That Way Johnny Cash Country The Legend Of Johnny Cash 35 None 111386\n",
      "Ring Of Fire Johnny Cash Country The Legend Of Johnny Cash 30 100 157100\n",
      "Jackson Johnny Cash Country The Legend Of Johnny Cash 35 100 166530\n",
      "A Boy Named Sue (live) Johnny Cash Country The Legend Of Johnny Cash 37 None 226063\n",
      "You Raise Me Up Selah Gospel & Religious Hiding Place 9 None 302262\n",
      "Hold On, I'm Coming The Canettes Blues Band Blues/R&B On Tap & In the Can 34 100 282566\n",
      "Got my Mojo Working The Canettes Blues Band Blues/R&B On Tap & In the Can 52 100 310517\n",
      "Sweet Home Chicago The Canettes Blues Band Blues/R&B On Tap & In the Can 27 100 375849\n",
      "Heavy Love The Canettes Blues Band Blues/R&B On Tap & In the Can 28 100 253544\n",
      "Cold Cold Feeling The Canettes Blues Band Blues/R&B On Tap & In the Can 43 100 261929\n",
      "Lonely Avenue The Canettes Blues Band Blues/R&B On Tap & In the Can 24 100 292022\n",
      "Good Morning Little Schoolgirl The Canettes Blues Band Blues/R&B On Tap & In the Can 20 100 278648\n",
      "Dust My Broom The Canettes Blues Band Blues/R&B On Tap & In the Can 24 100 299311\n",
      "Gimme' Some Lovin The Canettes Blues Band Blues/R&B On Tap & In the Can 35 100 227239\n",
      "Everybody Needs Somebody to Love The Canettes Blues Band Blues/R&B On Tap & In the Can 24 100 195186\n",
      "Black Magic Woman The Canettes Blues Band Blues/R&B On Tap & In the Can 31 100 442644\n",
      "Steppin' Rooster The Canettes Blues Band Blues/R&B On Tap & In the Can 21 100 704862\n",
      "Our Love is Drifting The Canettes Blues Band Blues/R&B On Tap & In the Can 15 100 292649\n",
      "Doin' 100 The Canettes Blues Band Blues/R&B On Tap & In the Can 20 100 343980\n",
      "Mother Joy Matt Ender New Age Natural Wonders Music Sampler 1999 463 None 287294\n",
      "Soldier's Lament Steve McDonald New Age Natural Wonders Music Sampler 1999 371 None 347193\n",
      "Dulaman Altan New Age Natural Wonders Music Sampler 1999 403 None 223007\n",
      "The Arrow Chris Spheeris New Age Natural Wonders Music Sampler 1999 416 None 319869\n",
      "Spanish Eyes La Esperanza New Age Natural Wonders Music Sampler 1999 375 None 259030\n",
      "Banana Bay Luis Villegas New Age Natural Wonders Music Sampler 1999 403 None 198060\n",
      "Aguas De Marco Rosa Passos New Age Natural Wonders Music Sampler 1999 407 None 179408\n",
      "Tamborea Energipsy New Age Natural Wonders Music Sampler 1999 355 None 235389\n",
      "Gone Hollie Smith New Age Natural Wonders Music Sampler 1999 362 None 196414\n",
      "The Immigrant Joanie Madden New Age Natural Wonders Music Sampler 1999 350 None 362631\n",
      "Pahrump-Big Water Cusco New Age Natural Wonders Music Sampler 1999 342 None 191634\n",
      "Seeker's Quest Cheryl Gunn New Age Natural Wonders Music Sampler 1999 337 None 236434\n",
      "Floating To Forever Dean Everson New Age Natural Wonders Music Sampler 1999 337 None 351686\n",
      "Open Road Jeff Bailey Jazz Relaxing Jazz 10 None 318563\n",
      "Ruby Kaiser Chiefs Alternative & Punk Yours Truly, Angry Mob 13 None 205008\n",
      "The Angry Mob Kaiser Chiefs Alternative & Punk Yours Truly, Angry Mob 41 None 288313\n",
      "Heat Dies Down Kaiser Chiefs Alternative & Punk Yours Truly, Angry Mob 12 None 237061\n",
      "Highroyds Kaiser Chiefs Alternative & Punk Yours Truly, Angry Mob 10 None 199575\n",
      "Love's Not A Competition (But I'm Winning) Kaiser Chiefs Alternative & Punk Yours Truly, Angry Mob 11 None 197799\n",
      "Thank You Very Much Kaiser Chiefs Alternative & Punk Yours Truly, Angry Mob 11 None 157753\n",
      "I Can Do It Without You Kaiser Chiefs Alternative & Punk Yours Truly, Angry Mob 11 None 204199\n",
      "My Kind Of Guy Kaiser Chiefs Alternative & Punk Yours Truly, Angry Mob 10 None 246595\n",
      "Everything Is Average Nowadays Kaiser Chiefs Alternative & Punk Yours Truly, Angry Mob 16 None 164754\n"
     ]
    },
    {
     "name": "stdout",
     "output_type": "stream",
     "text": [
      "Learnt My Lesson Well Kaiser Chiefs Alternative & Punk Yours Truly, Angry Mob 9 None 325955\n",
      "Try Your Best Kaiser Chiefs Alternative & Punk Yours Truly, Angry Mob 8 None 222511\n",
      "Retirement Kaiser Chiefs Alternative & Punk Yours Truly, Angry Mob 10 None 237426\n",
      "The Angry Mob [Live From Berlin] Kaiser Chiefs Alternative & Punk Yours Truly, Angry Mob 40 None 279066\n",
      "I Like To Fight Kaiser Chiefs Alternative & Punk Yours Truly, Angry Mob 8 None 218566\n",
      "From The Neck Down Kaiser Chiefs Alternative & Punk Yours Truly, Angry Mob 15 None 147226\n",
      "The Wisdom of Crowds: Why the Many Are Smarter than the Few Part 1 of 3 James Surowiecki Business The Wisdom of Crowds: Why the Many Are Smarter than the Few (Abridged Nonfiction) 15 None 8586749\n",
      "The Wisdom of Crowds: Why the Many Are Smarter than the Few Part 2 of 3 James Surowiecki Business The Wisdom of Crowds: Why the Many Are Smarter than the Few (Abridged Nonfiction) 9 None 8443432\n",
      "The Wisdom of Crowds: Why the Many Are Smarter than the Few Part 3 of 3 James Surowiecki Business The Wisdom of Crowds: Why the Many Are Smarter than the Few (Abridged Nonfiction) 3 None 4168829\n",
      "The Wisdom of Crowds: Why the Many Are Smarter Than the Few (Unabridged) Part 1 of 5 James Surowiecki Nonfiction The Wisdom of Crowds: Why the Many Are Smarter Than the Few (Unabridged) 4 None 7920893\n",
      "The Wisdom of Crowds: Why the Many Are Smarter Than the Few (Unabridged) Part 2 of 5 James Surowiecki Nonfiction The Wisdom of Crowds: Why the Many Are Smarter Than the Few (Unabridged) None None 7921106\n",
      "The Wisdom of Crowds: Why the Many Are Smarter Than the Few (Unabridged) Part 3 of 5 James Surowiecki Nonfiction The Wisdom of Crowds: Why the Many Are Smarter Than the Few (Unabridged) None None 7965736\n",
      "The Wisdom of Crowds: Why the Many Are Smarter Than the Few (Unabridged) Part 4 of 5 James Surowiecki Nonfiction The Wisdom of Crowds: Why the Many Are Smarter Than the Few (Unabridged) 1 None 9653330\n",
      "The Wisdom of Crowds: Why the Many Are Smarter Than the Few (Unabridged) Part 5 of 5 James Surowiecki Nonfiction The Wisdom of Crowds: Why the Many Are Smarter Than the Few (Unabridged) None None 746536\n",
      "Misty David Osborne Classical Moonlight And Love Songs 302 None 249312\n",
      "My Funny Valentine David Osborne Classical Moonlight And Love Songs 301 None 235885\n",
      "Since I Don't Have You David Osborne Classical Moonlight And Love Songs 288 None 251846\n",
      "Tenderly David Osborne Classical Moonlight And Love Songs 284 None 227395\n",
      "When I Fall In Love David Osborne Classical Moonlight And Love Songs 281 None 187768\n",
      "Unforgettable David Osborne Classical Moonlight And Love Songs 280 None 272927\n",
      "The Way You Look Tonight David Osborne Classical Moonlight And Love Songs 277 None 247222\n",
      "I've Grown Accustomed To Your Face David Osborne Classical Moonlight And Love Songs 280 None 148035\n",
      "Smoke Gets In Your Eyes David Osborne Classical Moonlight And Love Songs 277 None 198504\n",
      "Fly Me To The Moon David Osborne Classical Moonlight And Love Songs 275 None 182543\n",
      "Unchained Melody David Osborne Classical Moonlight And Love Songs 265 None 259369\n",
      "These Foolish Things Remind Me Of You David Osborne Classical Moonlight And Love Songs 267 None 184711\n",
      "La Vie En Rose David Osborne Classical Moonlight And Love Songs 259 None 276767\n",
      "As Time Goes By David Osborne Classical Moonlight And Love Songs 290 None 257985\n",
      "Pilot Fairly Legal Drama Fairly Legal, Season 1 1 None 3847006\n",
      "hte postal service - the impor The Postal Service Electronic unreleased demo None None 193959\n",
      "Winter Wonderland Bing Crosby Holiday Seasons Greatings 163 None 144744\n",
      "Jingle Bells Frank Sinatra Holiday Seasons Greatings 271 None 121756\n",
      "White Christmas Bing Crosby Holiday Seasons Greatings 158 None 95634\n",
      "The Christmas Song Frank Sinatra Holiday Seasons Greatings 272 None 209632\n",
      "Little Drummer Boy Bing Crosby Holiday Seasons Greatings 154 None 178311\n",
      "Silent Night Frank Sinatra Holiday Seasons Greatings 257 None 149054\n",
      "Let It Snow Bing Crosby Holiday Seasons Greatings 154 None 125126\n",
      "Mistletoe And Holly Frank Sinatra Holiday Seasons Greatings 257 None 138501\n",
      "O Holy Night Bing Crosby Holiday Seasons Greatings 150 None 214021\n",
      "Have Yourself A Merry Little Christmas Frank Sinatra Holiday Seasons Greatings 252 None 208248\n",
      "Do You Hear What I Hear Bing Crosby Holiday Seasons Greatings 155 None 164728\n",
      "I'll Be Home For Christmas Frank Sinatra Holiday Seasons Greatings 249 None 190876\n",
      "Voices Disturbed Alternative The Sickness None None 191764\n",
      "The Game Disturbed Alternative The Sickness 1 None 227134\n",
      "Stupify Disturbed Alternative The Sickness 1 None 274233\n",
      "Down With The Sickness Disturbed Alternative The Sickness 1 None 278726\n",
      "Violence Fetish Disturbed Alternative The Sickness None None 203833\n",
      "Fear Disturbed Alternative The Sickness 4 None 227004\n",
      "Numb Disturbed Alternative The Sickness None None 224940\n",
      "Want Disturbed Alternative The Sickness None None 232803\n",
      "Conflict Disturbed Alternative The Sickness 5 None 275330\n",
      "Shout 2000 Disturbed Alternative The Sickness 1 None 257802\n",
      "Droppin' Plates Disturbed Alternative The Sickness 4 None 229302\n",
      "Meaning Of Life Disturbed Alternative The Sickness 3 None 242599\n",
      "PY4INF-01-Intro.mp3 Recording by Dr. Chuck Podcast Python for Informatics's official Podcast. 1 None 3428075\n",
      "Eben Upton: Raspberry Pi IEEE Computer Society Podcast Computing Conversations 2 None 661368\n",
      "Andrew Tanenbaum: Writing the Book on Networks IEEE Computer Society Podcast Computing Conversations 4 None 535040\n",
      "Massimo Banzi: Building Arduino IEEE Computer Society Podcast Computing Conversations 1 None 567745\n",
      "PY4INF-04-Functions.mp3 Recording by Dr. Chuck Podcast Python for Informatics's official Podcast. None None 1683800\n",
      "PY4INF-02-Expressions.mp3 Recording by Dr. Chuck Podcast Python for Informatics's official Podcast. None None 2578416\n",
      "PY4INF-03-Conditional.mp3 Recording by Dr. Chuck Podcast Python for Informatics's official Podcast. None None 2296058\n",
      "PY4INF-05-Iterations.mp3 Recording by Dr. Chuck Podcast Python for Informatics's official Podcast. 1 None 2804297\n",
      "PY4INF-06-Strings.mp3 Recording by Dr. Chuck Podcast Python for Informatics's official Podcast. None None 1677844\n",
      "PY4INF-07-Files.mp3 Recording by Dr. Chuck Podcast Python for Informatics's official Podcast. None None 1478713\n",
      "PY4INF-08-Lists.mp3 Recording by Dr. Chuck Podcast Python for Informatics's official Podcast. None None 1636231\n",
      "PY4INF-09-Dictionaries.mp3 Recording by Dr. Chuck Podcast Python for Informatics's official Podcast. None None 2254445\n",
      "PY4INF-10-Tuples.mp3 Recording by Dr. Chuck Podcast Python for Informatics's official Podcast. None None 1597596\n",
      "PY4INF-11-Regex.mp3 Recording by Dr. Chuck Podcast Python for Informatics's official Podcast. None None 2123702\n",
      "John C. Hollar: History of Computing IEEE Computer Society Podcast Computing Conversations 1 None 694073\n",
      "Bob Metcalfe: Ethernet at Forty IEEE Computer Society Podcast Computing Conversations None None 1031392\n",
      "Gordon Bell: Building Blocks of Computing IEEE Computer Society Podcast Computing Conversations 1 None 744620\n",
      "Ian Horrocks: Standardizing OWL IEEE Computer Society Podcast Computing Conversations 1 None 572212\n",
      "Katie Hafner: The Origins of the Internet IEEE Computer Society Podcast Computing Conversations 1 None 652460\n",
      "Larry Smarr: Building Mosaic IEEE Computer Society Podcast Computing Conversations None None 894693\n",
      "Len Kleinrock: The Theory of Packets IEEE Computer Society Podcast Computing Conversations 1 None 674742\n",
      "Mitchell Baker: The Mozilla Foundation IEEE Computer Society Podcast Computing Conversations None None 994246\n",
      "Pooja Sankar: Building the Piazza Collaboration System IEEE Computer Society Podcast Computing Conversations None None 496404\n",
      "Van Jacobson: Content-Centric Networking IEEE Computer Society Podcast Computing Conversations None None 780251\n",
      "The Apache Software Foundation IEEE Computer Society Podcast Computing Conversations None None 542484\n",
      "A Brief History of Packets IEEE Computer Society Podcast Computing Conversations None None 1004643\n",
      "Discovering JavaScript Object Notation IEEE Computer Society Podcast Computing Conversations None None 650971\n",
      "Inventing PHP IEEE Computer Society Podcast Computing Conversations None None 494915\n",
      "Monash Museum of Computing History IEEE Computer Society Podcast Computing Conversations None None 362657\n",
      "The Rise of JavaScript IEEE Computer Society Podcast Computing Conversations None None 526132\n",
      "Joseph Hardin: NCSA Mosaic IEEE Computer Society Podcast Computing Conversations None None 845635\n",
      "Len Kleinrock on the Internet's First Two Packets IEEE Computer Society Podcast Computing Conversations 1 None 594390\n",
      "Doug Van Houweling on Building the NSFNet IEEE Computer Society Podcast Computing Conversations None None 773146\n",
      "Computing Conversations: Nathaniel Borenstein on MIME IEEE Computer Society Podcast Computing Conversations None None 682135\n",
      "You Don't Mess Around With Jim Jim Croce Folk Classic Hits None None 184398\n",
      "Andrew S. Tanenbaum on MINIX IEEE Computer Society Podcast Computing Conversations None None 603000\n",
      "Computing Conversations: Elizabeth Fong on SQL Standards IEEE Computer Society Podcast Computing Conversations None None 533577\n",
      "Nii Quaynor on Bringing the Internet to Africa IEEE Computer Society Podcast Computing Conversations 1 None 673332\n",
      "PHP-09-Transactions.mp3 Created by Sakai Podcast SI 664 W14's official Podcast. None None 1728888\n",
      "PHP-01-Intro.mp3 Created by Sakai Podcast SI 664 W14's official Podcast. None None 2250624\n",
      "PHP-02-Install.mp3 Created by Sakai Podcast SI 664 W14's official Podcast. 1 None None\n",
      "PHP-04-Expressions.mp3 Created by Sakai Podcast SI 664 W14's official Podcast. None None 2168064\n",
      "PHP-05-Functions.mp3 Created by Sakai Podcast SI 664 W14's official Podcast. None None 1446792\n",
      "PHP-06-Strings.mp3 Created by Sakai Podcast SI 664 W14's official Podcast. None None 417696\n",
      "PHP-12-Sessions.mp3 Created by Sakai Podcast SI 664 W14's official Podcast. None None 3624312\n",
      "PHP-06-Objects.mp3 Created by Sakai Podcast SI 664 W14's official Podcast. None None 2455368\n",
      "SI664-13-JSON-A.mp3 Created by Sakai Podcast SI 664 W14's official Podcast. None None 4407672\n",
      "PHP-13-JavaScript.mp3 Created by Sakai Podcast SI 664 W14's official Podcast. None None 3650088\n",
      "PHP-09-Database-Design.mp3 Created by Sakai Podcast SI 664 W14's official Podcast. None None 3591072\n",
      "PHP-Tsugi-Install.mp3 Created by Sakai Podcast SI 664 W14's official Podcast. None None 3181656\n",
      "PHP-10-MySQL-PDO.mp3 Created by Sakai Podcast SI 664 W14's official Podcast. None None 4536685\n"
     ]
    },
    {
     "name": "stdout",
     "output_type": "stream",
     "text": [
      "PHP-08-MySQL.mp3 Created by Sakai Podcast SI 664 W14's official Podcast. None None 3994656\n",
      "SI664-13-JSON-B.mp3 Created by Sakai Podcast SI 664 W14's official Podcast. None None 1484616\n",
      "IMS-Learning-Tools-Interoperability.mp3 Created by Sakai Podcast SI 664 W14's official Podcast. None None 2185848\n",
      "An Interview with Don Waters Matt Pasiewicz Speech CNI Event Coverage 2 None 1411082\n",
      "PY4INF-11-Regex.mp3 Recording by Dr. Chuck Podcast Python for Informatics's official Podcast. None None 2123702\n",
      "PY4INF-10-Tuples.mp3 Recording by Dr. Chuck Podcast Python for Informatics's official Podcast. None None 1597596\n",
      "PY4INF-09-Dictionaries.mp3 Recording by Dr. Chuck Podcast Python for Informatics's official Podcast. None None 2254445\n",
      "PY4INF-08-Lists.mp3 Recording by Dr. Chuck Podcast Python for Informatics's official Podcast. None None 1636231\n",
      "PY4INF-07-Files.mp3 Recording by Dr. Chuck Podcast Python for Informatics's official Podcast. None None 1478713\n",
      "PY4INF-06-Strings.mp3 Recording by Dr. Chuck Podcast Python for Informatics's official Podcast. None None 1677844\n",
      "PY4INF-05-Iterations.mp3 Recording by Dr. Chuck Podcast Python for Informatics's official Podcast. None None 2804297\n",
      "PY4INF-04-Functions.mp3 Recording by Dr. Chuck Podcast Python for Informatics's official Podcast. None None 1683800\n",
      "PY4INF-03-Conditional.mp3 Recording by Dr. Chuck Podcast Python for Informatics's official Podcast. None None 2296058\n",
      "PY4INF-02-Expressions.mp3 Recording by Dr. Chuck Podcast Python for Informatics's official Podcast. None None 2578416\n",
      "PY4INF-01-Intro.mp3 Recording by Dr. Chuck Podcast Python for Informatics's official Podcast. None None 3428075\n",
      "Py4Inf-11-Regex.mp3 Recording by Dr. Chuck Podcast Python for Informatics's official Podcast. None None 2123702\n",
      "Py4Inf-10-Tuples.mp3 Recording by Dr. Chuck Podcast Python for Informatics's official Podcast. None None 1597596\n",
      "Py4Inf-09-Dictionaries.mp3 Recording by Dr. Chuck Podcast Python for Informatics's official Podcast. None None 2254445\n",
      "Py4Inf-08-Lists.mp3 Recording by Dr. Chuck Podcast Python for Informatics's official Podcast. None None 1636231\n",
      "Py4Inf-07-Files.mp3 Recording by Dr. Chuck Podcast Python for Informatics's official Podcast. None None 1478713\n",
      "Py4Inf-06-Strings.mp3 Recording by Dr. Chuck Podcast Python for Informatics's official Podcast. None None 1677844\n",
      "Py4Inf-05-Iterations.mp3 Recording by Dr. Chuck Podcast Python for Informatics's official Podcast. None None 2804297\n",
      "Py4Inf-04-Functions.mp3 Recording by Dr. Chuck Podcast Python for Informatics's official Podcast. None None 1683800\n",
      "Py4Inf-03-Conditional.mp3 Recording by Dr. Chuck Podcast Python for Informatics's official Podcast. None None 2296058\n",
      "Py4Inf-02-Expressions.mp3 Recording by Dr. Chuck Podcast Python for Informatics's official Podcast. None None 2578416\n",
      "Py4Inf-01-Intro.mp3 Recording by Dr. Chuck Podcast Python for Informatics's official Podcast. None None 3428075\n",
      "Ian Foster on the Globus Project IEEE Computer Society Podcast Computing Conversations 1 None 538305\n",
      "Khan Academy and Computer Science IEEE Computer Society Podcast Computing Conversations 1 None 558837\n",
      "Guido van Rossumon the Early Years of Python IEEE Computer Society Podcast Computing Conversations 1 None 701884\n",
      "Guido van Rossum on the Modern Era of Python IEEE Computer Society Podcast Computing Conversations None None 741616\n",
      "John Resig on Building jQuery IEEE Computer Society Podcast Computing Conversations None None 595983\n",
      "Roy T. Fielding on Understanding the REST Style IEEE Computer Society Podcast Computing Conversations 1 None 683650\n",
      "Anil Jain: 25 Years of Biometric Recognition IEEE Computer Society Podcast Computing Conversations None None 661368\n",
      "Waste Management Undercover Boss Reality TV Undercover Boss, Season 1 1 None 2565232\n",
      "Sleep Like a Baby Tonight U2 Rock Songs of Innocence None None 301641\n",
      "Evergreen The Black Crowes Rock Warpaint None None 261373\n",
      "Oh Josephine The Black Crowes Rock Warpaint None None 398907\n",
      "Movin' On Down the Line The Black Crowes Rock Warpaint None None 342693\n",
      "Wounded Bird The Black Crowes Rock Warpaint None None 263453\n",
      "Volcano U2 Rock Songs of Innocence None None 194116\n",
      "Wee Who See the Deep The Black Crowes Rock Warpaint None None 290520\n",
      "Cedarwood Road U2 Rock Songs of Innocence None None 265268\n",
      "Locust Street The Black Crowes Rock Warpaint None None 255240\n",
      "Raised By Wolves U2 Rock Songs of Innocence None None 245599\n",
      "The Troubles U2 Rock Songs of Innocence None None 285843\n",
      "This Is Where You Can Reach Me Now U2 Rock Songs of Innocence None None 305134\n",
      "God's Got It The Black Crowes Rock Warpaint None None 202653\n",
      "California (There Is No End to Love) U2 Rock Songs of Innocence None None 239846\n",
      "Every Breaking Wave U2 Rock Songs of Innocence None None 252162\n",
      "Interview With the Onion News Network Onion News Network Comedy Onion News Network, Season 1 1 None 302002\n",
      "Song for Someone U2 Rock Songs of Innocence None None 226763\n",
      "The Miracle (Of Joey Ramone) U2 Rock Songs of Innocence None None 255382\n",
      "Iris (Hold Me Close) U2 Rock Songs of Innocence None None 319457\n",
      "Goodbye Daughters of the Revolution The Black Crowes Rock Warpaint None None 304147\n",
      "Walk Believer Walk The Black Crowes Rock Warpaint None None 280253\n",
      "Choice Hotels International Undercover Boss Reality TV Undercover Boss, Season 2 1 None 2614047\n",
      "Microchip Jason Farnham Dance & Electronic YouTube Audio Library None None 114336\n",
      "Anant Agarwal IEEE Computer Society Podcast Computing Conversations None None 494000\n"
     ]
    }
   ],
   "source": [
    "# This application will read an iTunes export file in XML and produce a properly normalized database\n",
    "import xml.etree.ElementTree as ET\n",
    "import sqlite3\n",
    "\n",
    "conn = sqlite3.connect('assignment_3.sqlite')\n",
    "cur = conn.cursor()\n",
    "\n",
    "# Make some fresh tables using executescript()\n",
    "cur.executescript('''\n",
    "DROP TABLE IF EXISTS Artist;\n",
    "DROP TABLE IF EXISTS Genre;\n",
    "DROP TABLE IF EXISTS Album;\n",
    "DROP TABLE IF EXISTS Track;\n",
    "\n",
    "CREATE TABLE Artist (\n",
    "    id  INTEGER NOT NULL PRIMARY KEY AUTOINCREMENT UNIQUE,\n",
    "    name    TEXT UNIQUE\n",
    ");\n",
    "\n",
    "CREATE TABLE Genre(\n",
    "    id INTEGER NOT NULL PRIMARY KEY AUTOINCREMENT UNIQUE,\n",
    "    name TEXT UNIQUE\n",
    ");\n",
    "\n",
    "CREATE TABLE Album (\n",
    "    id  INTEGER NOT NULL PRIMARY KEY AUTOINCREMENT UNIQUE,\n",
    "    artist_id  INTEGER,\n",
    "    title   TEXT UNIQUE\n",
    ");\n",
    "\n",
    "CREATE TABLE Track (\n",
    "    id  INTEGER NOT NULL PRIMARY KEY \n",
    "        AUTOINCREMENT UNIQUE,\n",
    "    title TEXT  UNIQUE,\n",
    "    album_id  INTEGER,\n",
    "    genre_id INTEGER,\n",
    "    len INTEGER, rating INTEGER, count INTEGER\n",
    ");\n",
    "''')\n",
    "\n",
    "fname = input('Enter file name: ')\n",
    "if ( len(fname) < 1 ) : fname = 'Library.xml'\n",
    "\n",
    "# <key>Track ID</key><integer>369</integer>\n",
    "# <key>Name</key><string>Another One Bites The Dust</string>\n",
    "# <key>Artist</key><string>Queen</string>\n",
    "# <key>Genre</key><string>Industrial</string>\n",
    "def lookup(d, key):\n",
    "    found = False\n",
    "    for child in d:\n",
    "        if found : return child.text\n",
    "        if child.tag == 'key' and child.text == key :\n",
    "            found = True\n",
    "    return None\n",
    "\n",
    "#create element tress and find branch\n",
    "stuff = ET.parse(fname)\n",
    "all = stuff.findall('dict/dict/dict')#add one dict/\n",
    "print ('Dict count:', len(all))\n",
    "for entry in all:\n",
    "    if ( lookup(entry, 'Track ID') is None ) : continue\n",
    "\n",
    "    name = lookup(entry, 'Name')\n",
    "    artist = lookup(entry, 'Artist')\n",
    "    genre = lookup(entry, 'Genre')#add\n",
    "    album = lookup(entry, 'Album')\n",
    "    count = lookup(entry, 'Play Count')\n",
    "    rating = lookup(entry, 'Rating')\n",
    "    length = lookup(entry, 'Total Time')\n",
    "\n",
    "    if name is None or artist is None or album is None or genre is None: \n",
    "        continue\n",
    "\n",
    "    print( name, artist, genre, album, count, rating, length)\n",
    "\n",
    "    cur.execute('''INSERT OR IGNORE INTO Artist (name) \n",
    "        VALUES ( ? )''', ( artist, ) )\n",
    "    cur.execute('SELECT id FROM Artist WHERE name = ? ', (artist, ))\n",
    "    artist_id = cur.fetchone()[0]\n",
    "\n",
    "    cur.execute('''INSERT OR IGNORE INTO Genre (name) \n",
    "        VALUES ( ? )''', ( genre, ) )\n",
    "    cur.execute('SELECT id FROM Genre WHERE name = ? ', (genre, ))\n",
    "    genre_id = cur.fetchone()[0]\n",
    "\n",
    "    cur.execute('''INSERT OR IGNORE INTO Album (title, artist_id) \n",
    "        VALUES ( ?, ? )''', ( album, artist_id ) )\n",
    "    cur.execute('SELECT id FROM Album WHERE title = ? ', (album, ))\n",
    "    album_id = cur.fetchone()[0]\n",
    "\n",
    "    cur.execute('''INSERT OR REPLACE INTO Track\n",
    "        (title, album_id, genre_id, len, rating, count) \n",
    "        VALUES ( ?, ?, ?, ?, ?, ? )''', \n",
    "        ( name, album_id, genre_id, length, rating, count ) )\n",
    "\n",
    "    conn.commit()"
   ]
  },
  {
   "cell_type": "markdown",
   "metadata": {},
   "source": [
    "## Chapter - 16 Visualization"
   ]
  },
  {
   "cell_type": "code",
   "execution_count": 8,
   "metadata": {},
   "outputs": [
    {
     "name": "stdout",
     "output_type": "stream",
     "text": [
      "Enter file name: roster_data.json\n",
      "('Aymie', 'si110', 1)\n",
      "('Maggie', 'si110', 0)\n",
      "('Peige', 'si110', 0)\n",
      "('Tabbitha', 'si110', 0)\n",
      "('Alfy', 'si110', 0)\n",
      "('Caley', 'si110', 0)\n",
      "('Tammara', 'si110', 0)\n",
      "('Loghan', 'si110', 0)\n",
      "('Jill', 'si110', 0)\n",
      "('Caidyn', 'si110', 0)\n",
      "('Saul', 'si110', 0)\n",
      "('Oliwia', 'si110', 0)\n",
      "('Mackie', 'si110', 0)\n",
      "('Ellen', 'si110', 0)\n",
      "('Maximus', 'si110', 0)\n",
      "('Keison', 'si110', 0)\n",
      "('Ivory', 'si110', 0)\n",
      "('Talha', 'si110', 0)\n",
      "('Eren', 'si110', 0)\n",
      "('Tarik', 'si110', 0)\n",
      "('Bryn', 'si110', 0)\n",
      "('Laci', 'si110', 0)\n",
      "('Minha', 'si110', 0)\n",
      "('Megan', 'si106', 1)\n",
      "('Korben', 'si106', 0)\n",
      "('Roni', 'si106', 0)\n",
      "('Eireyn', 'si106', 0)\n",
      "('Heather', 'si106', 0)\n",
      "('Rehaan', 'si106', 0)\n",
      "('Lexy', 'si106', 0)\n",
      "('Rhylee', 'si106', 0)\n",
      "('Leigh', 'si106', 0)\n",
      "('Lyndsay', 'si106', 0)\n",
      "('Pola', 'si106', 0)\n",
      "('Dominic', 'si106', 0)\n",
      "('Cormak', 'si106', 0)\n",
      "('Surien', 'si106', 0)\n",
      "('CJ', 'si106', 0)\n",
      "('Ismaeel', 'si106', 0)\n",
      "('Roxabella', 'si106', 0)\n",
      "('Vicky', 'si106', 0)\n",
      "('Samanthalee', 'si106', 0)\n",
      "('Lylakay', 'si106', 0)\n",
      "('Ellice', 'si106', 0)\n",
      "('Zachery', 'si106', 0)\n",
      "('Calder', 'si106', 0)\n",
      "('Priscillia', 'si106', 0)\n",
      "('Anja', 'si106', 0)\n",
      "('Surya', 'si206', 1)\n",
      "('Didier', 'si206', 0)\n",
      "('Alara', 'si206', 0)\n",
      "('Fabian', 'si206', 0)\n",
      "('Kalise', 'si206', 0)\n",
      "('Alysa', 'si206', 0)\n",
      "('Jonah', 'si206', 0)\n",
      "('Ramsey', 'si206', 0)\n",
      "('Amieleigh', 'si206', 0)\n",
      "('Allen', 'si206', 0)\n",
      "('Lochlann', 'si206', 0)\n",
      "('Koddi', 'si206', 0)\n",
      "('Ardal', 'si206', 0)\n",
      "('Hamna', 'si206', 0)\n",
      "('Daysi', 'si206', 0)\n",
      "('Alister', 'si206', 0)\n",
      "('Siddharth', 'si206', 0)\n",
      "('Colin', 'si206', 0)\n",
      "('Laurence', 'si206', 0)\n",
      "('Saphyre', 'si206', 0)\n",
      "('Sister', 'si206', 0)\n",
      "('Keyra', 'si206', 0)\n",
      "('Kisha', 'si206', 0)\n",
      "('Umar', 'si206', 0)\n",
      "('Jordan', 'si206', 0)\n",
      "('Enoghado', 'si206', 0)\n",
      "('Aneesah', 'si206', 0)\n",
      "('Ash', 'si301', 1)\n",
      "('Roderick', 'si301', 0)\n",
      "('Nicki', 'si301', 0)\n",
      "('Geena', 'si301', 0)\n",
      "('Vincenzo', 'si301', 0)\n",
      "('Hishaam', 'si301', 0)\n",
      "('Damian', 'si301', 0)\n",
      "('Llana', 'si301', 0)\n",
      "('Helena', 'si301', 0)\n",
      "('Cahl', 'si301', 0)\n",
      "('Mackenzy', 'si301', 0)\n",
      "('Skye', 'si301', 0)\n",
      "('Kairn', 'si301', 0)\n",
      "('Saira', 'si301', 0)\n",
      "('Cleone', 'si301', 0)\n",
      "('Colm', 'si301', 0)\n",
      "('Sarka', 'si301', 0)\n",
      "('Anmolpreet', 'si310', 1)\n",
      "('Izaak', 'si310', 0)\n",
      "('Lucy', 'si310', 0)\n",
      "('Sabila', 'si310', 0)\n",
      "('Ayleigh', 'si310', 0)\n",
      "('Kaileigh', 'si310', 0)\n",
      "('Oriana', 'si310', 0)\n",
      "('Ronin', 'si310', 0)\n",
      "('Jae', 'si310', 0)\n",
      "('Man', 'si310', 0)\n",
      "('Ian', 'si310', 0)\n",
      "('Kelsay', 'si310', 0)\n",
      "('Naomi', 'si310', 0)\n",
      "('Alber', 'si310', 0)\n",
      "('Marcel', 'si310', 0)\n",
      "('Windsor', 'si310', 0)\n",
      "('Kirsty', 'si310', 0)\n",
      "('Cheyanna', 'si310', 0)\n",
      "('Architha', 'si310', 0)\n",
      "('Roshni', 'si310', 0)\n",
      "('Ka', 'si310', 0)\n",
      "('Dionne', 'si310', 0)\n",
      "('Mawahib', 'si310', 0)\n",
      "('Ehsen', 'si310', 0)\n",
      "('Ferre', 'si310', 0)\n",
      "('Lorin', 'si310', 0)\n",
      "('Eirann', 'si334', 1)\n",
      "('Irene', 'si334', 0)\n",
      "('Kodie', 'si334', 0)\n",
      "('Kylian', 'si334', 0)\n",
      "('Lochlann', 'si334', 0)\n",
      "('Kallie', 'si334', 0)\n",
      "('Aoibha', 'si334', 0)\n",
      "('Torrin', 'si334', 0)\n",
      "('Siranne', 'si334', 0)\n",
      "('Majka', 'si334', 0)\n",
      "('Cassy', 'si334', 0)\n",
      "('Simah', 'si334', 0)\n",
      "('Happy', 'si334', 0)\n",
      "('Baley', 'si334', 0)\n",
      "('Karys', 'si334', 0)\n",
      "('Kelci', 'si334', 0)\n",
      "('Jac', 'si334', 0)\n",
      "('Melissa', 'si334', 0)\n",
      "('Calib', 'si334', 0)\n",
      "('Keelan', 'si334', 0)\n",
      "('Nikos', 'si334', 0)\n",
      "('Clarizze', 'si334', 0)\n",
      "('Amez', 'si363', 1)\n",
      "('Riven', 'si363', 0)\n",
      "('Rhiannan', 'si363', 0)\n",
      "('Lucas', 'si363', 0)\n",
      "('Barrie', 'si363', 0)\n",
      "('Virginia', 'si363', 0)\n",
      "('Jaslyn', 'si363', 0)\n",
      "('Micah', 'si363', 0)\n",
      "('Shiza', 'si363', 0)\n",
      "('Nabeeha', 'si363', 0)\n",
      "('Reid', 'si363', 0)\n",
      "('Mahek', 'si363', 0)\n",
      "('Doire', 'si363', 0)\n",
      "('Mikolaj', 'si363', 0)\n",
      "('Teydren', 'si363', 0)\n",
      "('Peige', 'si363', 0)\n",
      "('Ireayomide', 'si363', 0)\n",
      "('Chioma', 'si363', 0)\n",
      "('Kevin', 'si363', 0)\n",
      "('Calypso', 'si363', 0)\n",
      "('Lylakay', 'si363', 0)\n",
      "('Karleigh', 'si363', 0)\n",
      "('Roary', 'si363', 0)\n",
      "('Cale', 'si363', 0)\n",
      "('Kesia', 'si363', 0)\n",
      "('Cejay', 'si363', 0)\n",
      "('Arved', 'si363', 0)\n",
      "('Elisabetta', 'si364', 1)\n",
      "('Kirwin', 'si364', 0)\n",
      "('Harnisha', 'si364', 0)\n",
      "('Dylin', 'si364', 0)\n",
      "('Boys', 'si364', 0)\n",
      "('Rhianyn', 'si364', 0)\n",
      "('Ragen', 'si364', 0)\n",
      "('Melisa', 'si364', 0)\n",
      "('Inemesit', 'si364', 0)\n",
      "('Berlin', 'si364', 0)\n",
      "('Sami', 'si364', 0)\n",
      "('Shula', 'si364', 0)\n",
      "('Elivia', 'si364', 0)\n",
      "('Kenna', 'si364', 0)\n",
      "('Lanakai', 'si364', 0)\n",
      "('Lochlan', 'si364', 0)\n",
      "('Rosina', 'si364', 0)\n",
      "('Abbeygail', 'si364', 0)\n",
      "('LLeyton', 'si364', 0)\n",
      "('Shanzay', 'si364', 0)\n",
      "('Leanne', 'si364', 0)\n",
      "('Jaimee', 'si364', 0)\n",
      "('Laaibah', 'si364', 0)\n",
      "('Rhiannon', 'si364', 0)\n",
      "('Sergio', 'si364', 0)\n",
      "('Pia', 'si364', 0)\n",
      "('Zion', 'si364', 0)\n",
      "('Clare', 'si364', 0)\n",
      "('Schekina', 'si364', 0)\n",
      "('Koddi', 'si364', 0)\n",
      "('Suhaira', 'si364', 0)\n",
      "('Hadiqa', 'si364', 0)\n",
      "('Kaydn', 'si422', 1)\n",
      "('Chahinez', 'si422', 0)\n",
      "('Rebbecah', 'si422', 0)\n",
      "('Ellise', 'si422', 0)\n",
      "('Sree', 'si422', 0)\n",
      "('Fedora', 'si422', 0)\n",
      "('Chintu', 'si422', 0)\n",
      "('Aleksandar', 'si422', 0)\n",
      "('Rhett', 'si422', 0)\n",
      "('Reena', 'si422', 0)\n",
      "('Mathilda', 'si422', 0)\n",
      "('Maxx', 'si422', 0)\n",
      "('Eric', 'si422', 0)\n",
      "('Kalvyn', 'si422', 0)\n",
      "('Penelope', 'si422', 0)\n",
      "('Samir', 'si422', 0)\n",
      "('Kiyaleigh', 'si422', 0)\n",
      "('Zi', 'si422', 0)\n",
      "('Peyton', 'si422', 0)\n",
      "('Melissa', 'si422', 0)\n",
      "('Madiha', 'si422', 0)\n",
      "('Kalum', 'si422', 0)\n",
      "('Sarahjane', 'si422', 0)\n",
      "('Rexford', 'si422', 0)\n",
      "('Greg', 'si422', 0)\n",
      "('Alistar', 'si422', 0)\n",
      "('Micheal', 'si422', 0)\n",
      "('Georgi', 'si430', 1)\n",
      "('Xiao', 'si430', 0)\n",
      "('Ahmed', 'si430', 0)\n",
      "('Taiwo', 'si430', 0)\n",
      "('Jeni', 'si430', 0)\n",
      "('Carron', 'si430', 0)\n",
      "('Rayyan', 'si430', 0)\n",
      "('Shafira', 'si430', 0)\n",
      "('Halina', 'si430', 0)\n",
      "('Kennedy', 'si430', 0)\n",
      "('Torri', 'si430', 0)\n",
      "('Owais', 'si430', 0)\n",
      "('Kimi', 'si430', 0)\n",
      "('Youcef', 'si430', 0)\n",
      "('Milli', 'si430', 0)\n",
      "('Callie', 'si430', 0)\n",
      "('Raina', 'si430', 0)\n",
      "('Reigan', 'si430', 0)\n",
      "('Shi', 'si430', 0)\n",
      "('Seamas', 'si430', 0)\n",
      "('Zhuo', 'si430', 0)\n",
      "('Kirsteen', 'si430', 0)\n"
     ]
    }
   ],
   "source": [
    "# Many to many relationship. Create a normalized database for users, courses. \n",
    "# Create a seperate member table to include both foreign keys and role of member(1-instructor, 0-student) for a certain course.\n",
    "import json\n",
    "import sqlite3\n",
    "\n",
    "conn = sqlite3.connect('rosterdb.sqlite')\n",
    "cur = conn.cursor()\n",
    "\n",
    "# Do some setup\n",
    "cur.executescript('''\n",
    "DROP TABLE IF EXISTS User;\n",
    "DROP TABLE IF EXISTS Member;\n",
    "DROP TABLE IF EXISTS Course;\n",
    "\n",
    "CREATE TABLE User (\n",
    "    id     INTEGER NOT NULL PRIMARY KEY AUTOINCREMENT UNIQUE,\n",
    "    name   TEXT UNIQUE\n",
    ");\n",
    "\n",
    "CREATE TABLE Course (\n",
    "    id     INTEGER NOT NULL PRIMARY KEY AUTOINCREMENT UNIQUE,\n",
    "    title  TEXT UNIQUE\n",
    ");\n",
    "\n",
    "CREATE TABLE Member (\n",
    "    user_id     INTEGER,\n",
    "    course_id   INTEGER,\n",
    "    role        INTEGER,\n",
    "    PRIMARY KEY (user_id, course_id)\n",
    ")\n",
    "''')\n",
    "\n",
    "fname = input('Enter file name: ')          # file name: roster_data.json\n",
    "if len(fname) < 1:\n",
    "    fname = 'roster_data.json'\n",
    "\n",
    "# [\n",
    "#   [ \"Charley\", \"si110\", 1 ],\n",
    "#   [ \"Mea\", \"si110\", 0 ],\n",
    "\n",
    "str_data = open(fname).read()            \n",
    "json_data = json.loads(str_data)\n",
    "\n",
    "for entry in json_data:\n",
    "\n",
    "    name = entry[0]\n",
    "    title = entry[1]\n",
    "    role = entry[2]\n",
    "\n",
    "    print((name, title, role))\n",
    "\n",
    "    cur.execute('''INSERT OR IGNORE INTO User (name)\n",
    "        VALUES ( ? )''', ( name, ) )\n",
    "    cur.execute('SELECT id FROM User WHERE name = ? ', (name, ))\n",
    "    user_id = cur.fetchone()[0]\n",
    "\n",
    "    cur.execute('''INSERT OR IGNORE INTO Course (title)\n",
    "        VALUES ( ? )''', ( title, ) )\n",
    "    cur.execute('SELECT id FROM Course WHERE title = ? ', (title, ))\n",
    "    course_id = cur.fetchone()[0]\n",
    "\n",
    "    cur.execute('''INSERT OR REPLACE INTO Member\n",
    "        (user_id, course_id, role) VALUES ( ?, ? ,?)''',\n",
    "        ( user_id, course_id, role ) )\n",
    "\n",
    "    conn.commit()"
   ]
  },
  {
   "cell_type": "code",
   "execution_count": 1,
   "metadata": {},
   "outputs": [
    {
     "name": "stdout",
     "output_type": "stream",
     "text": [
      "\n",
      "Found in database  Tanuku West Godavari\n",
      "\n",
      "Found in database  AGH University of Science and Technology\n",
      "\n",
      "Found in database  Academy of Fine Arts Warsaw Poland\n",
      "\n",
      "Found in database  American University in Cairo\n",
      "\n",
      "Found in database  Arizona State University\n",
      "\n",
      "Found in database  Athens Information Technology\n",
      "\n",
      "Found in database  BITS Pilani\n",
      "\n",
      "Found in database  Babcock University\n",
      "\n",
      "Found in database  Banaras Hindu University\n",
      "\n",
      "Found in database  Bangalore University\n",
      "\n",
      "Found in database  Baylor University\n",
      "\n",
      "Found in database  Beijing normal university\n",
      "\n",
      "Found in database  Belarusian State University\n",
      "\n",
      "Found in database  Belgrade University\n",
      "\n",
      "Found in database  Beloit College\n",
      "\n",
      "Found in database  Belorussian State University\n",
      "\n",
      "Found in database  Ben Gurion University\n",
      "\n",
      "Found in database  Bharthidasan University\n",
      "\n",
      "Found in database  Boston University\n",
      "\n",
      "Found in database  California Polytechnic State University of San Luis Obispo\n",
      "\n",
      "Found in database  California State University San Bernardino\n",
      "\n",
      "Found in database  City of Westminster College\n",
      "\n",
      "Found in database  Columbia University\n",
      "\n",
      "Found in database  Cranfield University\n",
      "\n",
      "Found in database  Czech Technical University in Prague\n",
      "\n",
      "Found in database  Dartmouth\n",
      "\n",
      "Found in database  De Anza College\n",
      "\n",
      "Found in database  Distant University of Hagen\n",
      "\n",
      "Found in database  Dnipropetrovsk National University\n",
      "\n",
      "Found in database  Dokuz Eylul University\n",
      "\n",
      "Found in database  Drexel\n",
      "\n",
      "Found in database  Drexel University and University of Texas at Austin\n",
      "\n",
      "Found in database  Duke University\n",
      "\n",
      "Found in database  EM Lyon\n",
      "\n",
      "Found in database  Ecole centrale de PARIS\n",
      "\n",
      "Found in database  Elon University\n",
      "\n",
      "Found in database  Erhvervsakademi Sydvest\n",
      "\n",
      "Found in database  Escuela Superior Politecnica del Litoral\n",
      "\n",
      "Found in database  Fachhochschule Dusseldorf\n",
      "\n",
      "Found in database  Fachhochschule FH Salzburg\n",
      "\n",
      "Found in database  Faculdade de Tecnologia do Estado de Sao Paulo\n",
      "\n",
      "Found in database  Faculty of Technical Sciences Novi Sad Serbia\n",
      "\n",
      "Found in database  Farmingdale State University\n",
      "\n",
      "Found in database  Federal University of Minas Gerais\n",
      "\n",
      "Found in database  Florida Atlantic University\n",
      "\n",
      "Found in database  Franklin Pierce College\n",
      "\n",
      "Found in database  Gauhati University\n",
      "\n",
      "Found in database  George Mason University\n",
      "\n",
      "Found in database  Georgetown University Law Center\n",
      "\n",
      "Found in database  Georgia State University\n",
      "\n",
      "Found in database  Grandville\n",
      "\n",
      "Found in database  Groep T University\n",
      "\n",
      "Found in database  Hanoi University of Science and Technology\n",
      "\n",
      "Found in database  Hebrew University\n",
      "\n",
      "Found in database  IIIT Hyderabad\n",
      "\n",
      "Found in database  IIT KANPUR\n",
      "\n",
      "Found in database  IT College of Estonia\n",
      "\n",
      "Found in database  IU\n",
      "\n",
      "Found in database  IUAV Venezia\n",
      "\n",
      "Found in database  Illinois Institute of Technology\n",
      "\n",
      "Found in database  Illinois State University Joliet Junior College\n",
      "\n",
      "Found in database  Indian Institute of Technology\n",
      "\n",
      "Found in database  Indian Institute of Technology Kharagpur India\n",
      "\n",
      "Found in database  Indian School of Mines Dhanbad\n",
      "\n",
      "Found in database  Indiana University\n",
      "\n",
      "Found in database  Indiana University at Bloomington\n",
      "\n",
      "Found in database  Institut Superieur de technologies\n",
      "\n",
      "Found in database  Institute of Business and Modern Technologies\n",
      "\n",
      "Found in database  Instituto Tecnologico de Santo Domingo\n",
      "\n",
      "Found in database  International Institute of Information Technology Hyderabad\n",
      "\n",
      "Found in database  Irkutsk State University\n",
      "\n",
      "Found in database  JADAVPUR UNIVERSITY\n",
      "\n",
      "Found in database  Jawaharlal Nehru Technological University\n",
      "\n",
      "Found in database  Jawaharlal Nehru University\n",
      "\n",
      "Found in database  Jordan University of Science and Technology\n",
      "\n",
      "Found in database  K-State\n",
      "\n",
      "Found in database  KUL\n",
      "\n",
      "Found in database  Kalamazoo College\n",
      "\n",
      "Found in database  Kaunas Technology University\n",
      "\n",
      "Found in database  Kaunas university of technology\n",
      "\n",
      "Found in database  Kazan Federal University\n",
      "\n",
      "Found in database  Kent State University\n",
      "\n",
      "Found in database  Kharkiv State Academy of Municipal Economy Ukraine\n",
      "\n",
      "Found in database  King Mongkuts University of Technology Thonburi\n",
      "\n",
      "Found in database  Kokshetau Institute of Economics and Management\n",
      "\n",
      "Found in database  Kyiv Polytechnic Institute\n",
      "\n",
      "Found in database  Kyiv Polytechnical Institute\n",
      "\n",
      "Found in database  Kyiv Unisersity of Oriental Language\n",
      "\n",
      "Found in database  Laurentian University\n",
      "\n",
      "Found in database  Lisandro Alvarado\n",
      "\n",
      "Found in database  Lodz University of Technology\n",
      "\n",
      "Found in database  Lviv University\n",
      "\n",
      "Found in database  MSU\n",
      "\n",
      "Found in database  Madras university\n",
      "\n",
      "Found in database  Magnitogorsk State Technical University\n",
      "\n",
      "Found in database  Malayer Azad University\n",
      "\n",
      "Found in database  Marietta College\n",
      "\n",
      "Found in database  Masdar Institute\n",
      "\n",
      "Found in database  Matematicki fakultet Beograd\n",
      "\n",
      "Found in database  Michigan State University\n",
      "\n",
      "Found in database  Middle East Technical University\n",
      "\n",
      "Found in database  Missouri University of Science and Technology\n",
      "\n",
      "Found in database  Monash\n",
      "\n",
      "Found in database  Monash University\n",
      "\n",
      "Found in database  Monash University Churchill Australia\n",
      "\n",
      "Found in database  Monterrey Institute of Technology and Higher Education\n",
      "\n",
      "Found in database  Moscow Engineering-Physics Institute\n",
      "\n",
      "Found in database  Moscow Institute of Physics & Technology\n",
      "\n",
      "Found in database  Moscow State University\n",
      "\n",
      "Found in database  NIT ROURKELA\n",
      "\n",
      "Found in database  NYU\n",
      "\n",
      "Found in database  Nagpur University\n",
      "\n",
      "Found in database  Nanyang Technological University\n",
      "\n",
      "Found in database  National Institute of Technology Jalandhar\n",
      "\n",
      "Found in database  National Taiwan University\n",
      "\n",
      "Found in database  National University of Engineering\n",
      "\n",
      "Found in database  North Central College\n",
      "\n",
      "Found in database  Northeastern University\n",
      "\n",
      "Found in database  Northwestern University\n",
      "\n",
      "Found in database  Obninsk Technical University of Nuclear Power Engineering Russia\n",
      "\n",
      "Found in database  Old Dominion University\n",
      "\n",
      "Found in database  Oregon Institute of Technology\n",
      "\n",
      "Found in database  PUCMM\n",
      "\n",
      "Found in database  Payame Noor University\n",
      "\n",
      "Found in database  Penn State University\n",
      "\n",
      "Found in database  Politecnico di Milano\n",
      "\n",
      "Found in database  Politehnica University Bucharest\n",
      "\n",
      "Found in database  Polytechnic University of Timisoara\n",
      "\n",
      "Found in database  Pondicherry University\n",
      "\n",
      "Found in database  Pontificia universidad catolica de chile\n",
      "\n",
      "Found in database  Portland State University\n",
      "\n",
      "Found in database  Purdue University Indianapolis\n",
      "\n",
      "Found in database  R V College of Engineering\n",
      "\n",
      "Found in database  RPI\n",
      "\n",
      "Found in database  Ramapo College of New Jersey\n",
      "\n",
      "Found in database  Rochester Institute of Technology\n",
      "\n",
      "Found in database  SASTRA University\n",
      "\n",
      "Found in database  Saint Petersburg State University\n",
      "\n",
      "Found in database  Saint Petersburg State University of Aerospace Instrumentation\n",
      "\n",
      "Found in database  Saint-Petersburg Polytechnic Univesity\n",
      "\n",
      "Found in database  San Francisco State University\n",
      "\n",
      "Found in database  San Jose State University\n",
      "\n",
      "Found in database  Shanghai Jiao Tong University\n",
      "\n",
      "Found in database  Sharif University of Technology\n",
      "\n",
      "Found in database  Simon Bolivar University\n",
      "\n",
      "Found in database  Simon Fraser University\n",
      "\n",
      "Found in database  Smolensk State University\n",
      "\n",
      "Found in database  Sonoma State University\n",
      "\n",
      "Found in database  South Federal University\n",
      "\n",
      "Found in database  Spiru Haret University\n",
      "\n",
      "Retrieving http://py4e-data.dr-chuck.net/json?address=Stanford&key=42\n",
      "Retrieved 1772 characters {    \"results\" : [  \n",
      "\n",
      "Retrieving http://py4e-data.dr-chuck.net/json?address=State+University+of+Campinas&key=42\n",
      "Retrieved 2103 characters {    \"results\" : [  \n",
      "\n",
      "Retrieving http://py4e-data.dr-chuck.net/json?address=State+University+of+New+York+College+at+Oswego&key=42\n",
      "Retrieved 2098 characters {    \"results\" : [  \n",
      "\n",
      "Retrieving http://py4e-data.dr-chuck.net/json?address=Stellenbosch+University&key=42\n",
      "Retrieved 1903 characters {    \"results\" : [  \n",
      "\n",
      "Retrieving http://py4e-data.dr-chuck.net/json?address=Stonehill+College&key=42\n",
      "Retrieved 2316 characters {    \"results\" : [  \n",
      "\n",
      "Retrieving http://py4e-data.dr-chuck.net/json?address=Tallinn+University&key=42\n",
      "Retrieved 2139 characters {    \"results\" : [  \n",
      "\n",
      "Retrieving http://py4e-data.dr-chuck.net/json?address=Tallinn+University+of+Technology&key=42\n",
      "Retrieved 2116 characters {    \"results\" : [  \n",
      "\n",
      "Retrieving http://py4e-data.dr-chuck.net/json?address=Tampere+University+of+Technology&key=42\n",
      "Retrieved 1441 characters {    \"results\" : [  \n"
     ]
    },
    {
     "name": "stdout",
     "output_type": "stream",
     "text": [
      "\n",
      "Retrieving http://py4e-data.dr-chuck.net/json?address=Tanta+University&key=42\n",
      "Retrieved 1849 characters {    \"results\" : [  \n",
      "\n",
      "Retrieving http://py4e-data.dr-chuck.net/json?address=Tarrant+County+College&key=42\n",
      "Retrieved 2299 characters {    \"results\" : [  \n",
      "Pausing for a bit...\n",
      "\n",
      "Retrieving http://py4e-data.dr-chuck.net/json?address=Technical+University+of+Cluj-Napoca&key=42\n",
      "Retrieved 2158 characters {    \"results\" : [  \n",
      "\n",
      "Retrieving http://py4e-data.dr-chuck.net/json?address=Technion&key=42\n",
      "Retrieved 2599 characters {    \"results\" : [  \n",
      "\n",
      "Retrieving http://py4e-data.dr-chuck.net/json?address=Tel+Aviv+University&key=42\n",
      "Retrieved 1474 characters {    \"results\" : [  \n",
      "\n",
      "Retrieving http://py4e-data.dr-chuck.net/json?address=The+Jerusalem+collage+of+engineering&key=42\n",
      "Retrieved 2425 characters {    \"results\" : [  \n",
      "\n",
      "Retrieving http://py4e-data.dr-chuck.net/json?address=The+University+of+Latvia&key=42\n",
      "Retrieved 1798 characters {    \"results\" : [  \n",
      "\n",
      "Retrieving http://py4e-data.dr-chuck.net/json?address=The+University+of+Manchester&key=42\n",
      "Retrieved 1966 characters {    \"results\" : [  \n",
      "\n",
      "Retrieving http://py4e-data.dr-chuck.net/json?address=The+University+of+South+Africa&key=42\n",
      "Retrieved 2229 characters {    \"results\" : [  \n",
      "\n",
      "Retrieving http://py4e-data.dr-chuck.net/json?address=Transilvania+University&key=42\n",
      "Retrieved 2306 characters {    \"results\" : [  \n",
      "\n",
      "Retrieving http://py4e-data.dr-chuck.net/json?address=Tufts+University&key=42\n",
      "Retrieved 2115 characters {    \"results\" : [  \n",
      "\n",
      "Retrieving http://py4e-data.dr-chuck.net/json?address=UC+Berkeley&key=42\n",
      "Retrieved 1723 characters {    \"results\" : [  \n",
      "Pausing for a bit...\n",
      "\n",
      "Retrieving http://py4e-data.dr-chuck.net/json?address=UCLA&key=42\n",
      "Retrieved 1988 characters {    \"results\" : [  \n",
      "\n",
      "Retrieving http://py4e-data.dr-chuck.net/json?address=UCSD&key=42\n",
      "Retrieved 2284 characters {    \"results\" : [  \n",
      "\n",
      "Retrieving http://py4e-data.dr-chuck.net/json?address=UIUC&key=42\n",
      "Retrieved 1654 characters {    \"results\" : [  \n",
      "\n",
      "Retrieving http://py4e-data.dr-chuck.net/json?address=UMD&key=42\n",
      "Retrieved 1875 characters {    \"results\" : [  \n",
      "\n",
      "Retrieving http://py4e-data.dr-chuck.net/json?address=UNISA&key=42\n",
      "Retrieved 2447 characters {    \"results\" : [  \n",
      "\n",
      "Retrieving http://py4e-data.dr-chuck.net/json?address=UNIVERSIDAD+DE+Buenos+Aires&key=42\n",
      "Retrieved 1988 characters {    \"results\" : [  \n",
      "\n",
      "Retrieving http://py4e-data.dr-chuck.net/json?address=UOC&key=42\n",
      "Retrieved 2331 characters {    \"results\" : [  \n",
      "\n",
      "Retrieving http://py4e-data.dr-chuck.net/json?address=USC&key=42\n",
      "Retrieved 2189 characters {    \"results\" : [  \n",
      "\n",
      "Retrieving http://py4e-data.dr-chuck.net/json?address=UW+Madison&key=42\n",
      "Retrieved 1632 characters {    \"results\" : [  \n",
      "\n",
      "Retrieving http://py4e-data.dr-chuck.net/json?address=Universidad+Central+de+Venezuela&key=42\n",
      "Retrieved 1678 characters {    \"results\" : [  \n",
      "Pausing for a bit...\n",
      "\n",
      "Retrieving http://py4e-data.dr-chuck.net/json?address=Universidad+Complutense+de+Madrid&key=42\n",
      "Retrieved 1932 characters {    \"results\" : [  \n",
      "\n",
      "Retrieving http://py4e-data.dr-chuck.net/json?address=Universidad+Cooperativa+de+Colombia&key=42\n",
      "Retrieved 2303 characters {    \"results\" : [  \n",
      "\n",
      "Retrieving http://py4e-data.dr-chuck.net/json?address=Universidad+Nacional+Autonoma+de+Mexico&key=42\n",
      "Retrieved 1698 characters {    \"results\" : [  \n",
      "\n",
      "Retrieving http://py4e-data.dr-chuck.net/json?address=Universidad+Nacional+Costa+Rica&key=42\n",
      "Retrieved 1666 characters {    \"results\" : [  \n",
      "\n",
      "Retrieving http://py4e-data.dr-chuck.net/json?address=Universidad+Nacional+de+Colombia&key=42\n",
      "Retrieved 1809 characters {    \"results\" : [  \n",
      "\n",
      "Retrieving http://py4e-data.dr-chuck.net/json?address=Universidad+Tecnologica+Boliviana&key=42\n",
      "Retrieved 2185 characters {    \"results\" : [  \n",
      "\n",
      "Retrieving http://py4e-data.dr-chuck.net/json?address=Universidad+de+Buenos+Aires&key=42\n",
      "Retrieved 1988 characters {    \"results\" : [  \n",
      "\n",
      "Retrieving http://py4e-data.dr-chuck.net/json?address=Universidad+de+Castilla+La+Mancha&key=42\n",
      "Retrieved 2142 characters {    \"results\" : [  \n",
      "\n",
      "Retrieving http://py4e-data.dr-chuck.net/json?address=Universidad+de+Los+Andes+Colombia&key=42\n",
      "Retrieved 1954 characters {    \"results\" : [  \n",
      "\n",
      "Retrieving http://py4e-data.dr-chuck.net/json?address=Universidad+de+Oriente&key=42\n",
      "Retrieved 1691 characters {    \"results\" : [  \n",
      "Pausing for a bit...\n",
      "\n",
      "Retrieving http://py4e-data.dr-chuck.net/json?address=Universidad+de+San+Carlos+de+Guatemala&key=42\n",
      "Retrieved 2177 characters {    \"results\" : [  \n",
      "\n",
      "Retrieving http://py4e-data.dr-chuck.net/json?address=Universidad+de+Valladolid&key=42\n",
      "Retrieved 2118 characters {    \"results\" : [  \n",
      "\n",
      "Retrieving http://py4e-data.dr-chuck.net/json?address=Universidad+de+la+Sabana&key=42\n",
      "Retrieved 1794 characters {    \"results\" : [  \n",
      "\n",
      "Retrieving http://py4e-data.dr-chuck.net/json?address=Universidad+del+Valle+de+Guatemala&key=42\n",
      "Retrieved 2040 characters {    \"results\" : [  \n",
      "\n",
      "Retrieving http://py4e-data.dr-chuck.net/json?address=Universidade+Federal+da+Paraiba&key=42\n",
      "Retrieved 1948 characters {    \"results\" : [  \n",
      "\n",
      "Retrieving http://py4e-data.dr-chuck.net/json?address=Universidade+Federal+de+Santa+Catarina&key=42\n",
      "Retrieved 2130 characters {    \"results\" : [  \n",
      "\n",
      "Retrieving http://py4e-data.dr-chuck.net/json?address=Universidade+Federal+do+Rio+Grande+do+Sul&key=42\n",
      "Retrieved 1799 characters {    \"results\" : [  \n",
      "\n",
      "Retrieving http://py4e-data.dr-chuck.net/json?address=Universidade+Federal+do+Rio+de+Janeiro&key=42\n",
      "Retrieved 2106 characters {    \"results\" : [  \n",
      "\n",
      "Retrieving http://py4e-data.dr-chuck.net/json?address=Universidade+Tecnica+de+Lisboa&key=42\n",
      "Retrieved 1783 characters {    \"results\" : [  \n",
      "\n",
      "Retrieving http://py4e-data.dr-chuck.net/json?address=Universidade+de+Sao+Paulo&key=42\n",
      "Retrieved 1704 characters {    \"results\" : [  \n",
      "Pausing for a bit...\n"
     ]
    },
    {
     "ename": "KeyboardInterrupt",
     "evalue": "",
     "output_type": "error",
     "traceback": [
      "\u001b[1;31m---------------------------------------------------------------------------\u001b[0m",
      "\u001b[1;31mKeyboardInterrupt\u001b[0m                         Traceback (most recent call last)",
      "\u001b[1;32m<ipython-input-1-dbd0362a20e2>\u001b[0m in \u001b[0;36m<module>\u001b[1;34m\u001b[0m\n\u001b[0;32m     77\u001b[0m     \u001b[1;32mif\u001b[0m \u001b[0mcount\u001b[0m \u001b[1;33m%\u001b[0m \u001b[1;36m10\u001b[0m \u001b[1;33m==\u001b[0m \u001b[1;36m0\u001b[0m \u001b[1;33m:\u001b[0m\u001b[1;33m\u001b[0m\u001b[1;33m\u001b[0m\u001b[0m\n\u001b[0;32m     78\u001b[0m         \u001b[0mprint\u001b[0m\u001b[1;33m(\u001b[0m\u001b[1;34m'Pausing for a bit...'\u001b[0m\u001b[1;33m)\u001b[0m\u001b[1;33m\u001b[0m\u001b[1;33m\u001b[0m\u001b[0m\n\u001b[1;32m---> 79\u001b[1;33m         \u001b[0mtime\u001b[0m\u001b[1;33m.\u001b[0m\u001b[0msleep\u001b[0m\u001b[1;33m(\u001b[0m\u001b[1;36m5\u001b[0m\u001b[1;33m)\u001b[0m\u001b[1;33m\u001b[0m\u001b[1;33m\u001b[0m\u001b[0m\n\u001b[0m\u001b[0;32m     80\u001b[0m \u001b[1;33m\u001b[0m\u001b[0m\n\u001b[0;32m     81\u001b[0m \u001b[0mprint\u001b[0m\u001b[1;33m(\u001b[0m\u001b[1;34m\"Run geodump.py to read the data from the database so you can vizualize it on a map.\"\u001b[0m\u001b[1;33m)\u001b[0m\u001b[1;33m\u001b[0m\u001b[1;33m\u001b[0m\u001b[0m\n",
      "\u001b[1;31mKeyboardInterrupt\u001b[0m: "
     ]
    }
   ],
   "source": [
    "# Geocoding - Geoload.py\n",
    "# Open where.data which contains name of places. Retreive the information using Google maps api and urllib and store it in a database named geodata.sqlite\n",
    "import urllib.request, urllib.parse, urllib.error\n",
    "import http\n",
    "import sqlite3\n",
    "import json\n",
    "import time\n",
    "import ssl\n",
    "import sys\n",
    "\n",
    "api_key = False\n",
    "\n",
    "if api_key is False:\n",
    "    api_key = 42\n",
    "    serviceurl = \"http://py4e-data.dr-chuck.net/json?\"\n",
    "else :\n",
    "    serviceurl = \"https://maps.googleapis.com/maps/api/geocode/json?\"\n",
    "\n",
    "conn = sqlite3.connect('geodata.sqlite')\n",
    "cur = conn.cursor()\n",
    "\n",
    "cur.execute('''\n",
    "CREATE TABLE IF NOT EXISTS Locations (address TEXT, geodata TEXT)''')\n",
    "\n",
    "# Ignore SSL certificate errors\n",
    "ctx = ssl.create_default_context()\n",
    "ctx.check_hostname = False\n",
    "ctx.verify_mode = ssl.CERT_NONE\n",
    "\n",
    "fh = open(\"where.data\")\n",
    "count = 0\n",
    "for line in fh:\n",
    "    if count > 200 :\n",
    "        print('Retrieved 200 locations, restart to retrieve more')\n",
    "        break\n",
    "\n",
    "    address = line.strip()\n",
    "    print('')\n",
    "    cur.execute(\"SELECT geodata FROM Locations WHERE address= ?\",\n",
    "        (memoryview(address.encode()), ))\n",
    "\n",
    "    try:\n",
    "        data = cur.fetchone()[0]\n",
    "        print(\"Found in database \",address)\n",
    "        continue\n",
    "    except:\n",
    "        pass\n",
    "\n",
    "    parms = dict()\n",
    "    parms[\"address\"] = address\n",
    "    if api_key is not False: parms['key'] = api_key\n",
    "    url = serviceurl + urllib.parse.urlencode(parms)\n",
    "\n",
    "    print('Retrieving', url)\n",
    "    uh = urllib.request.urlopen(url, context=ctx)\n",
    "    data = uh.read().decode()\n",
    "    print('Retrieved', len(data), 'characters', data[:20].replace('\\n', ' '))\n",
    "    count = count + 1\n",
    "\n",
    "    try:\n",
    "        js = json.loads(data)\n",
    "    except:\n",
    "        print(data)  # We print in case unicode causes an error\n",
    "        continue\n",
    "\n",
    "    if 'status' not in js or (js['status'] != 'OK' and js['status'] != 'ZERO_RESULTS') :\n",
    "        print('==== Failure To Retrieve ====')\n",
    "        print(data)\n",
    "        break\n",
    "\n",
    "    cur.execute('''INSERT INTO Locations (address, geodata)\n",
    "            VALUES ( ?, ? )''', (memoryview(address.encode()), memoryview(data.encode()) ) )\n",
    "    conn.commit()\n",
    "    if count % 10 == 0 :\n",
    "        print('Pausing for a bit...')\n",
    "        time.sleep(5)\n",
    "\n",
    "print(\"Run geodump.py to read the data from the database so you can vizualize it on a map.\")\n"
   ]
  },
  {
   "cell_type": "code",
   "execution_count": 2,
   "metadata": {},
   "outputs": [
    {
     "name": "stdout",
     "output_type": "stream",
     "text": [
      "Tanuku, Andhra Pradesh, India 16.7565815 81.6769714\n",
      "aleja Adama Mickiewicza 30, 30-059 Kraków, Poland 50.06688579999999 19.9136192\n",
      "Krakowskie Przedmieście 5, 00-068 Warszawa, Poland 52.2394019 21.0150792\n",
      "AUC Avenue، Road، First New Cairo, Cairo Governorate 11835, Egypt 30.0189275 31.499707\n",
      "Tempe, AZ 85281, USA 33.4242399 -111.9280527\n",
      "Athens, OH 45701, USA 39.3301047 -82.1076022\n",
      "Vidya Vihar, Pilani, Rajasthan 333031, India 28.3588163 75.58802039999999\n",
      "Ilishan-Remo, Nigeria 6.891986300000001 3.7181286\n",
      "Ajagara, Varanasi, Uttar Pradesh 221005, India 25.2677203 82.99125819999999\n",
      "Mysore Rd, Jnana Bharathi, Bengaluru, Karnataka 560056, India 12.9503878 77.5022224\n",
      "1311 S 5th St, Waco, TX 76706, USA 31.5488923 -97.1130573\n",
      "19 Xinjiekou Outer St, Bei Tai Ping Zhuang, Haidian Qu, Beijing Shi, China, 100875 39.9619537 116.3662615\n",
      "praspiekt Niezaliežnasci 4, Minsk, Belarus 53.8938988 27.5460609\n",
      "Studentski trg 1, Beograd, Serbia 44.8184518 20.4575913\n",
      "700 College St, Beloit, WI 53511, USA 42.5030333 -89.0309048\n",
      "praspiekt Niezaliežnasci 4, Minsk, Belarus 53.8938988 27.5460609\n",
      "1000 Finch Ave W, North York, ON M3J 2V5, Canada 43.76908419999999 -79.4692584\n",
      "Palkalaiperur, Tiruchirappalli, Tamil Nadu 620024, India 10.6779085 78.74454879999999\n",
      "Boston, MA 02215, USA 42.3504997 -71.1053991\n",
      "1 Grand Ave, San Luis Obispo, CA 93407, USA 35.3011298 -120.6582825\n",
      "5500 University Pkwy, San Bernardino, CA 92407, USA 34.1813584 -117.3231875\n",
      "1840 S 1300 E, Salt Lake City, UT 84105, USA 40.7322206 -111.8549815\n",
      "New York, NY 10027, USA 40.8075355 -73.9625727\n",
      "College Rd, Cranfield, Wharley End, Bedford MK43 0AL, UK 52.0746136 -0.6282833\n",
      "166 36 Prague 6, Czechia 50.1030364 14.3912841\n",
      "Hanover, NH 03755, USA 43.7044406 -72.2886935\n",
      "21250 Stevens Creek Blvd, Cupertino, CA 95014, USA 37.3192827 -122.0447913\n",
      "Universitätsstraße 11, 58097 Hagen, Germany 51.377114 7.494838999999999\n",
      "Haharina Ave, 72, Dnipropetrovsk, Dnipropetrovska oblast, Ukraine, 49000 48.4331922 35.0427966\n",
      "No: 144 35210, Alsancak, Cumhuriyet Blv, 35220 Konak/İzmir, Turkey 38.430691 27.13692\n",
      "3141 Chestnut St, Philadelphia, PA 19104, USA 39.9566127 -75.18994409999999\n",
      "Austin, TX 78712, USA 30.2849185 -97.7340567\n",
      "Durham, NC 27708, USA 36.0014258 -78.9382286\n",
      "23 Avenue Guy de Collongue, 69130 Écully, France 45.7864448 4.7641329\n",
      "CentraleSupélec, 3 Rue Joliot Curie, 91190 Gif-sur-Yvette, France 48.709445 2.1661629\n",
      "50 Campus Drive, Elon, NC 27244, USA 36.1026877 -79.5023313\n",
      "Spangsbjerg Kirkevej 103, 6700 Esbjerg, Denmark 55.4877012 8.4469108\n",
      "Vía Perimetral 5, Guayaquil, Ecuador -2.1480702 -79.9644896\n",
      "Münsterstraße 156, 40476 Düsseldorf, Germany 51.24683899999999 6.7916647\n",
      "Urstein Süd 1, 5412 Puch, Austria 47.7233835 13.0871253\n",
      "Av. Pereira Barreto, 400 - Vila Baeta Neves - Centro, São Bernardo do Campo - SP, 09751-000, Brazil -23.6956191 -46.5469041\n",
      "Trg Dositeja Obradovića 6, Novi Sad 106314, Serbia 45.2461012 19.8516968\n",
      "2350 NY-110, Farmingdale, NY 11735, USA 40.7529512 -73.4267093\n",
      "Av. Pres. Antônio Carlos, 6627 - Pampulha, Belo Horizonte - MG, 31270-901, Brazil -19.870682 -43.9677359\n",
      "777 Glades Rd, Boca Raton, FL 33431, USA 26.3749876 -80.10106329999999\n",
      "40 University Dr, Rindge, NH 03461, USA 42.7789743 -72.05553929999999\n",
      "Gopinath Bordoloi Nagar, Jalukbari, Guwahati, Assam 781014, India 26.1540317 91.6629743\n",
      "4400 University Dr, Fairfax, VA 22030, USA 38.8298118 -77.3073606\n",
      "600 New Jersey Ave NW, Washington, DC 20001, USA 38.8977953 -77.0129087\n",
      "Atlanta, GA 30302, USA 33.753068 -84.38528190000001\n",
      "Grandville, MI, USA 42.9097484 -85.7630885\n",
      "Andreas Vesaliusstraat 13, 3000 Leuven, Belgium 50.87485419999999 4.7077677\n",
      "1 Đại Cồ Việt, Bách Khoa, Hai Bà Trưng, Hà Nội, Vietnam 21.0070253 105.843136\n",
      "Jerusalem 31.7945578 35.2414009\n",
      "Professor CR Rao Rd, Gachibowli, Hyderabad, Telangana 500032, India 17.4448649 78.34981379999999\n",
      "Kalyanpur, Kanpur, Uttar Pradesh 208016, India 26.5123388 80.2329\n",
      "Raja 4, 12616 Tallinn, Estonia 59.3954004 24.6641777\n",
      "107 S Indiana Ave, Bloomington, IN 47405, USA 39.1754487 -86.512627\n",
      "Santa Croce, 191, 30135 Venezia VE, Italy 45.4377574 12.3223297\n",
      "10 W 35th St, Chicago, IL 60616, USA 41.8348731 -87.6270059\n",
      "100 N University St, Normal, IL 61761, USA 40.5120479 -88.9931683\n",
      "Indian Institute of Technology, Palaj, Gujarat 382355, India 23.2114604 72.6841857\n",
      "Kharagpur, West Bengal 721302, India 22.3149274 87.31053109999999\n",
      "Police Line Road, Main Campus IIT (ISM, near Rani Bandh, IIT (ISM, Hirapur, Sardar Patel Nagar, Dhanbad, Jharkhand 826004, India 23.8142953 86.44118069999999\n",
      "107 S Indiana Ave, Bloomington, IN 47405, USA 39.1754487 -86.512627\n",
      "107 S Indiana Ave, Bloomington, IN 47405, USA 39.1754487 -86.512627\n",
      "1100 Rue Notre-Dame Ouest, Montréal, QC H3C 1K3, Canada 45.4948236 -73.5623366\n",
      "2400 Walsh Ave, Santa Clara, CA 95051, USA 37.3686167 -121.9695133\n",
      "Av. de Los Próceres 49, Santo Domingo 10602, Dominican Republic 18.4880037 -69.96249499999999\n",
      "Professor CR Rao Rd, Gachibowli, Hyderabad, Telangana 500032, India 17.4448649 78.34981379999999\n",
      "Karl Marx St, 1, Irkutsk, Irkutskaya oblast, Russia, 664003 52.2766643 104.2777445\n",
      "Jadavpur, Kolkata, West Bengal 700032, India 22.4966896 88.37131269999999\n",
      "Ashok Nagar, Kukatpally Housing Board Colony, Kukatpally, Hyderabad, Telangana 500085, India 17.4932682 78.3913929\n",
      "New Mehrauli Road, JNU Ring Rd, New Delhi, Delhi 110067, India 28.5402232 77.1662154\n",
      "Ar Ramtha 3030، Ar-Ramtha, Jordan 32.4950392 35.9912257\n",
      "Manhattan, KS 66506, USA 39.1974437 -96.5847249\n",
      "7447 W Talcott Ave #269, Chicago, IL 60631, USA 41.9687734 -87.83711509999999\n",
      "1200 Academy St, Kalamazoo, MI 49006, USA 42.290035 -85.598145\n",
      "K. Donelaičio g. 73, Kaunas 44249, Lithuania 54.898991 23.912825\n",
      "K. Donelaičio g. 73, Kaunas 44249, Lithuania 54.898991 23.912825\n",
      "Kremlyovskaya St, 18, Kazan, Respublika Tatarstan, Russia, 420008 55.790447 49.1214349\n",
      "800 E Summit St, Kent, OH 44240, USA 41.1455594 -81.33928829999999\n",
      "Marshala Bazhanova St, 17, Kharkiv, Kharkivska oblast, Ukraine, 61002 49.9951088 36.2420724\n",
      "126 Pracha Uthit Rd, Khwaeng Bang Mot, Khet Thung Khru, Krung Thep Maha Nakhon 10140, Thailand 13.65117 100.4966439\n",
      "Kokshetau 020000, Kazakhstan 53.285023 69.3695728\n",
      "Peremohy Ave, 37, Kyiv, Ukraine, 03056 50.4491699 30.4561487\n",
      "Peremohy Ave, 37, Kyiv, Ukraine, 03056 50.4491699 30.4561487\n",
      "Velyka Vasylkivska St, 73, Kyiv, Ukraine, 03680 50.427615 30.517108\n",
      "935 Ramsey Lake Rd, Sudbury, ON P3E 2C6, Canada 46.4702636 -80.9734288\n",
      "Carrera 19 entre calles 8 y 9. Edificio Rectorado UCLA, Rectorado de la Universidad Centrooccidental Lisandro Alvarado, Carrera 19, Barquisimeto 3001, Lara, Venezuela 10.067504 -69.299891\n",
      "Stefana Żeromskiego 116, 90-924 Łódź, Poland 51.7537146 19.4517176\n",
      "Universytetska St, 1, Lviv, Lvivska oblast, Ukraine, 79000 49.8406108 24.0225099\n",
      "Michigan, USA 42.701848 -84.4821719\n",
      "Navalar Nagar, Chepauk, Triplicane, Chennai, Tamil Nadu 600005, India 13.0660293 80.28317190000001\n",
      "Prospekt Lenina, 38, Magnitogorsk, Chelyabinskaya oblast, Russia, 455000 53.4222397 58.9824868\n",
      "Hamadan Province, Malayer, University Blvd, Iran 34.304073 48.8452846\n",
      "215 5th St, Marietta, OH 45750, USA 39.4164811 -81.4498947\n",
      "Near Home WTC AUH, Airport Road - مدينة مصدر - أبو ظبي - United Arab Emirates 24.4326227 54.6184724\n",
      "Studentski trg 16, Beograd 105104, Serbia 44.8199188 20.4587075\n",
      "Michigan, USA 42.701848 -84.4821719\n",
      "Üniversiteler, Dumlupinar Bulvari 1/6-133, 06800 Çankaya/Ankara, Turkey 39.88983820000001 32.780086\n",
      "106, Parker Hall, 300 W 13th St, Rolla, MO 65409, USA 37.9537078 -91.7756271\n",
      "Wellington Rd, Clayton VIC 3800, Australia -37.9109574 145.1371751\n",
      "Wellington Rd, Clayton VIC 3800, Australia -37.9109574 145.1371751\n",
      "Northways Rd, Churchill VIC 3842, Australia -38.311211 146.429409\n",
      "Av. Eugenio Garza Sada 2501 Sur, Tecnológico, 64849 Monterrey, N.L., Mexico 25.6515649 -100.28954\n",
      "Kashira Hwy, 31, Moskva, Russia, 115409 55.6502051 37.6643098\n",
      "Institutskiy Pereulok, 9, Dolgoprudny, Moskovskaya oblast, Russia, 141701 55.9297243 37.5199434\n",
      "Ulitsa Kolmogorova, 1, Moskva, Russia, 119991 55.70393490000001 37.5286696\n",
      "Bisra Rd, National Institute of Technology, Jindal Colony, Udit Nagar, Rourkela, Odisha 769001, India 22.253537 84.90182639999999\n",
      "New York, NY 10003, USA 40.72951339999999 -73.9964609\n",
      "Amravati Rd, Ram Nagar, Nagpur, Maharashtra 440033, India 21.1468555 79.050062\n",
      "50 Nanyang Ave, Singapore 639798 1.3483099 103.6831347\n",
      "Grand Trunk Road, Barnala - Amritsar Bypass Rd, Jalandhar, Punjab 144011, India 31.3958746 75.5358439\n",
      "No. 1, Section 4, Roosevelt Rd, Da’an District, Taipei City, Taiwan 10617 25.0173405 121.5397518\n",
      "Av. Túpac Amaru 210, Rímac 15333, Peru -12.0231787 -77.04763009999999\n",
      "30 N Brainard St, Naperville, IL 60540, USA 41.772663 -88.1440142\n",
      "360 Huntington Ave, Boston, MA 02115, USA 42.3398067 -71.0891717\n",
      "633 Clark St, Evanston, IL 60208, USA 42.0564594 -87.67526699999999\n",
      "Obninsk, Kaluga Oblast, Russia, 249034 55.13719099999999 36.6070589\n",
      "5115 Hampton Blvd, Norfolk, VA 23529, USA 36.8858594 -76.3057051\n",
      "3201 Campus Dr, Klamath Falls, OR 97601, USA 42.2573474 -121.7849109\n",
      "Autopista Duarte Km 1 1/2, Santiago De Los Caballeros 51000, Dominican Republic 19.4436005 -70.6843785\n",
      "Tehran Province, Tehran, اتوبان ارتش کوی نفت, Nakhl St, Iran 35.8012314 51.5028533\n",
      "State College, PA 16801, USA 40.7982133 -77.8599084\n",
      "Piazza Leonardo da Vinci, 32, 20133 Milano MI, Italy 45.4784315 9.228342399999999\n",
      "Splaiul Independenței 313, București 060042, Romania 44.4386064 26.0494925\n",
      "Piața Victoriei 2, Timișoara 300006, Romania 45.7536393 21.2251615\n",
      "Pondicherry University, Chinna Kalapet, Kalapet, Puducherry 605014, India 12.0182619 79.8568461\n",
      "Av Libertador Bernardo OHiggins 340, Santiago, Región Metropolitana, Chile -33.44180680000001 -70.6399544\n",
      "1825 SW Broadway, Portland, OR 97201, USA 45.5111471 -122.6834235\n",
      "420 University Blvd, Indianapolis, IN 46202, USA 39.7749927 -86.1772798\n",
      "Mysore Rd, RV Vidyaniketan, Post, Bengaluru, Karnataka 560059, India 12.9237228 77.4987012\n",
      "110 8th St, Troy, NY 12180, USA 42.7297628 -73.67888839999999\n",
      "505 Ramapo Valley Rd, Mahwah, NJ 07430, USA 41.081015 -74.1745057\n",
      "1 Lomb Memorial Dr, Rochester, NY 14623, USA 43.0844955 -77.6749311\n",
      "Trichy-Tanjore Road, Thirumalaisamudram, Thanjavur, Tamil Nadu 613401, India 10.7285131 79.0184111\n",
      "University Embankment, 7/9, Sankt-Peterburg, Russia, 199034 59.941894 30.2989199\n",
      "Bolshaya Morskaya Ulitsa, 67, Sankt-Peterburg, Russia, 190000 59.929491 30.2966081\n",
      "Politekhnicheskaya Ulitsa, 29, Sankt-Peterburg, Russia, 195251 60.0076235 30.3731954\n",
      "1600 Holloway Ave, San Francisco, CA 94132, USA 37.7241492 -122.4799405\n",
      "1 Washington Sq, San Jose, CA 95192, USA 37.3351874 -121.8810715\n",
      "China, Shanghai Shi, Minhang Qu, 东川路 邮政编码: 200240 31.0252201 121.4337784\n",
      "Tehran, خیابان آزادی، تهران بزرگ،، Iran 35.703605 51.35153099999999\n",
      "Sartenejas, Caracas, Miranda, Venezuela 10.408363 -66.8755735\n",
      "8888 University Dr, Burnaby, BC V5A 1S6, Canada 49.2780937 -122.9198833\n",
      "Ulitsa Przhevalskogo, 4, Smolensk, Smolenskaya oblast, Russia, 214000 54.7845032 32.0452469\n",
      "1801 E Cotati Ave, Rohnert Park, CA 94928, USA 38.3395854 -122.6743811\n",
      "925 S Federal Hwy, Boca Raton, FL 33432, USA 26.3416119 -80.0867329\n",
      "Strada Ion Ghica 13, București 030045, Romania 44.4332166 26.1009718\n",
      "450 Serra Mall, Stanford, CA 94305, USA 37.4274745 -122.169719\n",
      "Cidade Universitária Zeferino Vaz - Barão Geraldo, Campinas - SP, 13083-970, Brazil -22.8184393 -47.0647206\n",
      "7060 NY-104, Oswego, NY 13126, USA 43.45139280000001 -76.5425285\n",
      "Stellenbosch Central, Stellenbosch, South Africa -33.9328078 18.864447\n",
      "320 Washington St, North Easton, MA 02357, USA 42.058162 -71.08080029999999\n",
      "Narva maantee 25, 10120 Tallinn, Estonia 59.4387321 24.7713836\n",
      "Ehitajate tee 5, 12616 Tallinn, Estonia 59.3959451 24.6710596\n",
      "Korkeakoulunkatu 7 Kampusareena, 33720 Tampere, Finland 61.4498286 23.8589986\n",
      "El-Gaish, Tanta Qism 2, Tanta, Gharbia Governorate, Egypt 30.7924391 30.9991409\n",
      "1500 Houston St, Fort Worth, TX 76102, USA 32.7474661 -97.3278753\n",
      "Strada Memorandumului 28, Cluj-Napoca 400114, Romania 46.769299 23.585613\n",
      "55 E 59th St Fl 13, New York, NY 10022, USA 40.7635221 -73.97166349999999\n",
      "Tel Aviv-Yafo, Israel 32.1133141 34.8043877\n",
      "Velachery Rd, Narayanapuram, Pallikaranai, Chennai, Tamil Nadu 600100, India 12.9452892 80.207843\n",
      "Raiņa bulvāris 19, Centra rajons, Rīga, LV-1586, Latvia 56.95080979999999 24.1163132\n",
      "Oxford Rd, Manchester M13 9PL, UK 53.4668498 -2.2338837\n",
      "Preller St, Muckleneuk, Pretoria, 0002, South Africa -25.7676604 28.1992624\n",
      "300 N Broadway, Lexington, KY 40508, USA 38.0516801 -84.49334189999999\n",
      "419 Boston Ave, Medford, MA 02155, USA 42.4085371 -71.1182729\n",
      "Berkeley, CA, USA 37.8718992 -122.2585399\n",
      "Los Angeles, CA 90095, USA 34.068921 -118.4451811\n",
      "9500 Gilman Dr, La Jolla, CA 92093, USA 32.8800604 -117.2340135\n",
      "Champaign, IL, USA 40.1019523 -88.2271615\n",
      "College Park, MD 20742, USA 38.9853283 -76.94943479999999\n",
      "7400 E Arapahoe Rd # 10, Centennial, CO 80112, USA 39.5944197 -104.9024568\n",
      "Viamonte 430, C1053 CABA, Argentina -34.5998875 -58.37306949999999\n",
      "101 Regent Ct, State College, PA 16801, USA 40.7850584 -77.8230911\n",
      "3650 McClintock Ave, Los Angeles, CA 90089, USA 34.0205777 -118.2893301\n",
      "Madison, WI, USA 43.076592 -89.4124875\n",
      "Caracas, Capital District, Venezuela 10.4883502 -66.8891696\n",
      "Av. Séneca, 2, 28040 Madrid, Spain 40.4454368 -3.7299424\n",
      "Av. Colombia #41-26, Medellín, Antioquia, Colombia 6.2465753 -75.56120200000001\n",
      "University City, Coyoacán, 04510 Mexico City, CDMX, Mexico 19.3228313 -99.18657739999999\n",
      "Avenida 1, Calle 9 Heredia 86 Heredia, Heredia, 40101, Costa Rica 9.998752 -84.11129910000001\n",
      "Cra 45, Bogotá, Colombia 4.6381938 -74.08404639999999\n",
      "Calle Colombia 154, La Paz, Bolivia -16.500656 -68.134299\n",
      "Viamonte 430, C1053 CABA, Argentina -34.5998875 -58.37306949999999\n",
      "Rectorado UCLM, Calle Altagracia, 50, 13001 Ciudad Real, Cdad. Real, Spain 38.9934998 -3.9254365\n",
      "Cra. 1 #18a-12, Bogotá, Cundinamarca, Colombia 4.601458099999999 -74.0661334\n",
      "Santiago de Cuba, Cuba 20.0435146 -75.81728939999999\n",
      "11 Avenida, Cdad. de Guatemala 01012, Guatemala 14.5873005 -90.55336129999999\n",
      "C/Plaza de Santa Cruz, 8, 47002 Valladolid, Spain 41.6569271 -4.7140547\n",
      "Chía, Cundinamarca, Colombia 4.8615787 -74.0325368\n",
      "18 Avenida 11-95 Guatemala, Cdad. de Guatemala 01015, Guatemala 14.603762 -90.48924799999999\n",
      "Campus I - Lot. Cidade Universitaria, João Pessoa - PB, 58051-900, Brazil -7.1377579 -34.8458995\n",
      "R. Eng. Agronômico Andrei Cristian Ferreira, s/n - Trindade, Florianópolis - SC, 88040-900, Brazil -27.5999666 -48.5194152\n",
      "Av. Paulo Gama, 110 Secretaria de Comunicação Social - 8º andar - Reitoria - Farroupilha, Porto Alegre - RS, 90040-060, Brazil -30.0332408 -51.2207273\n",
      "Avenida Pedro Calmon, 550 Reitoria - Cidade Universitária da Universidade Federal do Rio de Janeiro, Rio de Janeiro - RJ, 21941-901, Brazil -22.8625345 -43.2234737\n",
      "Av. Rovisco Pais 1, 1049-001 Lisboa, Portugal 38.7368192 -9.138705\n",
      "Butanta, São Paulo - State of São Paulo, Brazil -23.5613991 -46.7307891\n",
      "200 records written to where.js\n",
      "Open where.html to view the data in a browser\n"
     ]
    }
   ],
   "source": [
    "# Geocoding - geodumps.json\n",
    "# From geodata.sqlite, read the column 1 for data about locations, decode it and find latitude and longitude of locations.\n",
    "# Write the records into where.js javascript file and print the data.\n",
    "# Open where.html to view the data in a browser.\n",
    "import sqlite3\n",
    "import json\n",
    "import codecs\n",
    "\n",
    "conn = sqlite3.connect('geodata.sqlite')\n",
    "cur = conn.cursor()\n",
    "\n",
    "cur.execute('SELECT * FROM Locations')\n",
    "fhand = codecs.open('where.js', 'w', \"utf-8\")\n",
    "fhand.write(\"myData = [\\n\")\n",
    "count = 0\n",
    "for row in cur :\n",
    "    data = str(row[1].decode())\n",
    "    try: js = json.loads(str(data))\n",
    "    except: continue\n",
    "\n",
    "    if not('status' in js and js['status'] == 'OK') : continue\n",
    "\n",
    "    lat = js[\"results\"][0][\"geometry\"][\"location\"][\"lat\"]\n",
    "    lng = js[\"results\"][0][\"geometry\"][\"location\"][\"lng\"]\n",
    "    if lat == 0 or lng == 0 : continue\n",
    "    where = js['results'][0]['formatted_address']\n",
    "    where = where.replace(\"'\", \"\")\n",
    "    try :\n",
    "        print(where, lat, lng)\n",
    "\n",
    "        count = count + 1\n",
    "        if count > 1 : fhand.write(\",\\n\")\n",
    "        output = \"[\"+str(lat)+\",\"+str(lng)+\", '\"+where+\"']\"\n",
    "        fhand.write(output)\n",
    "    except:\n",
    "        continue\n",
    "\n",
    "fhand.write(\"\\n];\\n\")\n",
    "cur.close()\n",
    "fhand.close()\n",
    "print(count, \"records written to where.js\")\n",
    "print(\"Open where.html to view the data in a browser\")"
   ]
  }
 ],
 "metadata": {
  "kernelspec": {
   "display_name": "Python 3",
   "language": "python",
   "name": "python3"
  },
  "language_info": {
   "codemirror_mode": {
    "name": "ipython",
    "version": 3
   },
   "file_extension": ".py",
   "mimetype": "text/x-python",
   "name": "python",
   "nbconvert_exporter": "python",
   "pygments_lexer": "ipython3",
   "version": "3.8.8"
  }
 },
 "nbformat": 4,
 "nbformat_minor": 4
}
